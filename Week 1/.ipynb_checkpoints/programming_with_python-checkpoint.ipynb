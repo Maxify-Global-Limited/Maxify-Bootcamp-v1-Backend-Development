{
 "cells": [
  {
   "cell_type": "markdown",
   "id": "58c95f19-829a-4109-88b7-08f13fc9f1db",
   "metadata": {
    "editable": true,
    "slideshow": {
     "slide_type": "slide"
    },
    "tags": []
   },
   "source": [
    "#  Programming with PYTHON\n",
    " > #### Everyone in this country should learn how to program because it teaches you how to think. ***Steve Jobs***"
   ]
  },
  {
   "cell_type": "markdown",
   "id": "d2c45347-99b1-43b3-bcfa-27cf967d63b0",
   "metadata": {
    "editable": true,
    "jp-MarkdownHeadingCollapsed": true,
    "slideshow": {
     "slide_type": "subslide"
    },
    "tags": []
   },
   "source": [
    "## Programming 101\n",
    "\n",
    "### What is a Computer?\n",
    "\n",
    " > A computer is a **data processing tool** that has the ability to perform **logical** operations and also **change** programs.\n",
    "\n",
    "### What is a program?\n",
    "\n",
    "  > A program is a set of statements (often called instructions or commands) that a computer follows in order to perform a specific task.\n",
    "\n",
    "  > Programs are essential to a computer, because without them a computer is a dummy machine that can do nothing\n",
    "at all. It is the program that actually tells the computer what to do and when to do it. On the other hand, the\n",
    "programmer or the software developer is the person who designs, creates, and often tests computer programs.\n",
    "\n",
    "\n",
    "### What is Computer programming?\n",
    "  \n",
    "   > Computer programming is a set of activities including writing a program in a programming language,\n",
    "     then compiling it and linking it to the relevant libraries to prepare the executable code,\n",
    "     and then testing the program to remove all errors including syntax errors, logical\n",
    "     errors, and computational errors lurking inside the program.\n",
    "  \n",
    "### Types of Programming languages\n",
    "  \n",
    "   > High-level language: A programming language like  that is designed to be easy for humans to\n",
    "    read and write. e.g Python, Java, Go, Rust, Javascript, Ruby etc\n",
    "   \n",
    "   > Low-level language: A programming language that is designed to be easy for a computer to run; also\n",
    "    called **machine language** or **assembly language**. e.g Lisp, ALGO etc\n",
    "   \n",
    "  \n",
    "### How is a Programs built\n",
    "  > A compiler is a program that translates statements written\n",
    "    in a high-level language into a separate machine language\n",
    "    program. You can then execute the machine language\n",
    "    program any time you wish. After the translation, there is\n",
    "    no need to run the compiler again unless you make\n",
    "    changes in the high-level language program.\n",
    "  \n",
    "  > An interpreter is a program that simultaneously translates\n",
    "    and executes the statements written in a high-level\n",
    "    language. As the interpreter reads each individual\n",
    "    statement in the high-level language program, it translates\n",
    "    it into a machine language code and then directly executes\n",
    "    it. This process is repeated for every statement in the\n",
    "    program.\n",
    "  \n",
    "### Programs and data work together\n",
    " > Programs need data to process. Data is the ingredient for any meaningful program. Without data, programs would be a lot less useful. In the real world, data take different forms. Programs have data types to represent this real world data.\n",
    "\n",
    "### Types of programs programmers write\n",
    "\n",
    " - Terminal programs\n",
    " - Scripting programs\n",
    " - Web Application\n",
    " - Mobile Applications\n",
    " - Client Server Applications etc\n",
    "\n",
    "### Understanding programming (Graphical Overview)\n",
    "\n",
    "  ![programming](understanding-programming.png) "
   ]
  },
  {
   "cell_type": "markdown",
   "id": "a7cb90aa-bf76-4cc1-bad2-4feb0029c545",
   "metadata": {
    "jp-MarkdownHeadingCollapsed": true,
    "jupyter": {
     "source_hidden": true
    }
   },
   "source": [
    "## Introduction to Data\n",
    "\n",
    "### What is Data?\n",
    "\n",
    "  > Data is facts and figures about entities. An entity is a person, place, thing etc An entity\n",
    "    such as person is described by his/her personal attributes, such as height, weight, educational \n",
    "    qualifications, vocation, address, age, place of work, and so on. A place like a building is\n",
    "    described by its address, location, purpose of its usage, number of people using it, number of rooms,\n",
    "    other facilities, number of floors, and so on. So data represent things in the real world\n",
    "  \n",
    "  \n",
    "### Types of Data\n",
    "\n",
    " - String Data : A type that represents sequences of characters\n",
    " - Integer Data : A type that represents whole numbers \n",
    " - Floating Point Data : A type that represents numbers with fractional parts \n",
    " - Boolean Data : A type that represents True or False\n",
    " - List, Class and Collections etc\n",
    "   \n",
    "### How we get Data into programs\n",
    "\n",
    " - The Console\n",
    " - Program Files\n",
    " - Forms and Templates\n",
    " - Variable (Running programs)\n",
    " - Database and other systems\n",
    "\n",
    "### Why we process data\n",
    "\n",
    " Computers need data to process. They process data to make information. With out data, computers\n",
    " would be  useless. Data are all around us, and they take different forms.Programs use data in \n",
    " operations and expressions.\n",
    " \n",
    "### How we store data in programs\n",
    "\n",
    " - The Command line or console\n",
    " - Program Files\n",
    " - Variable (Running programs)\n",
    " - Database and other systems\n",
    "\n"
   ]
  },
  {
   "cell_type": "markdown",
   "id": "e6ed854f-bcd3-469d-a7a8-24e29057ecaa",
   "metadata": {
    "jp-MarkdownHeadingCollapsed": true,
    "jupyter": {
     "source_hidden": true
    }
   },
   "source": [
    "## Hello Python\n",
    "\n",
    "### What is Python?\n",
    "  \n",
    "   > Python is a general-purpose, high-level computer programming language that allows programmers\n",
    "    to create applications, web pages, and many other types of software.\n",
    "   \n",
    "   > Python is a programming language developed in 1991 by Dutch programmer Guido van Rossum. The name refers\n",
    "    not to the snake often used as a mascot, but to Monty Python’s Flying Circus (that fact alone should tell you a lot about the mindset behind the language). What began as a hobby project over Christmas break turned\n",
    "    into one of the most perennially popular computer languages today\n",
    "\n",
    "### Why Python?\n",
    "  \n",
    " Python is a great programming language to learn. Here are some reasons why:\n",
    "  \n",
    "  1. Python is free. It costs you nothing to down load and use it.\n",
    "     \n",
    "  2. Python is simple. Python statements are simple to read, understand, and use, even for new\n",
    "       programmers. Python is simple enough for beginners, yet advanced enough for experienced programmers.\n",
    "     \n",
    "  3. Python is avail able on most plat forms. Python is available on the major computing\n",
    "       platforms such as Windows, Mac,and Linux.\n",
    "     \n",
    "  4. Python has an extensive standard library. Python comes with lots of built-in functions,\n",
    "       procedures, and  properties  common programming tasks.\n",
    "     \n",
    "  5. Python is extensible. You can create your own Python library modules and\n",
    "        access the many existing third-party modules.\n",
    "     \n",
    "  6. Python is popular. According to the 2018 Stack Over flow Developer Survey, Python is\n",
    "        one of the most popular and fastest-growing programming languages to day.\n",
    "       \n",
    "\n",
    "### How to run python on your machine\n",
    "\n",
    "   Conda is a tool that comes with python and other useful libraries preinstalled. We also use \n",
    "   for creating virtual environments.\n",
    "  \n",
    "   1. Go to https://docs.conda.io/en/latest/miniconda.html#windows-installers\n",
    "  \n",
    "   2. Find the Python 3.9 versions.\n",
    "   \n",
    "   3. Click the link with 64-bit in the name and download the executable file.\n",
    "   \n",
    "   4. On the computer double-click the .exe file. If we are unsure about any setting, accept the defaults.\n",
    "       We can change them later.\n",
    "   \n",
    "   5. Follow the instructions on the screen.\n",
    "   \n",
    "   6. When installation is finished, from the Start menu, open the Anaconda Prompt.\n",
    "   \n",
    "   7. In the Anaconda prompt, type conda list and press enter or conda --version and press enter\n",
    "\n",
    "  "
   ]
  },
  {
   "cell_type": "markdown",
   "id": "ef8f0a41-0d5e-4692-9299-5c98c46b04f8",
   "metadata": {
    "jp-MarkdownHeadingCollapsed": true,
    "jupyter": {
     "source_hidden": true
    }
   },
   "source": [
    "## Basic Programming Concept\n",
    "\n",
    "### Syntax:\n",
    "\n",
    "  This is a rules that govern the structure of a program.\n",
    "   \n",
    "### Tokens:\n",
    "\n",
    "In programming languages, tokens are the smallest units of syntax that the language recognizes. These tokens are building blocks used to  construct statements and expressions. Common types of tokens include:\n",
    "\n",
    "   1. Keywords: Reserved words with predefined meanings in the language, such as if, else, while, for, etc.\n",
    "\n",
    "   2. Identifiers: Names given to variables, functions, classes, or other entities in the code. Identifiers must follow certain rules and  conventions specified by the language.\n",
    "\n",
    "   3. Literals: Literal values, such as numbers, strings, or boolean values, that represent themselves in the code.\n",
    "\n",
    "   4. Operators: Symbols used to perform operations on operands, such as arithmetic operators (+, -, *, /), comparison operators\n",
    "      (==, !=, <,  >), and logical operators (and, or, not).\n",
    "\n",
    "   5. Punctuation: Special symbols used to separate or group elements in the code, such as parentheses (), braces {},\n",
    "      brackets [], commas ,, semicolons ;, etc.\n",
    "\n",
    "   6. Comments: Text in the code that is ignored by the compiler or interpreter and serves as documentation or notes for human readers.\n",
    "      \n",
    "\n",
    "### Symbols:\n",
    "\n",
    "Symbols are characters or sequences of characters used to represent variables, constants, operators, and other elements in a programming language.\n",
    "\n",
    "Symbols such as arithmetic operators (+, -, *, /), comparison operators (==, !=, <, >), and assignment operators (=) are used extensively in Python to perform \n",
    "   \n",
    "### Semantics:\n",
    "\n",
    "Semantics refers to the meaning or interpretation of symbols and expressions within a programming language. It deals with how statements and expressions are executed and what they represent.\n",
    "   \n",
    "### Keywords:\n",
    "\n",
    "Keywords are reserved words in a programming language that have predefined meanings and cannot be used as identifiers (such as variable names or function names).\n",
    "   \n",
    "### Expressions:\n",
    "   \n",
    "An expression is a combination of values, variables, and operators. A value all by\n",
    "itself is considered an expression, and so is a variable, so the following are all legal expressions\n",
    "   \n",
    "   \n",
    "### Statements:\n",
    "\n",
    "A statement is a unit of code that has an effect, like creating a variable or displaying a value. When you type a statement, the interpreter executes it, which means that it does whatever the statement says. In general, statements don’t have values.\n",
    "   "
   ]
  },
  {
   "cell_type": "markdown",
   "id": "7afd0bb2-4840-4900-863b-4d1cb0b0f0e9",
   "metadata": {
    "jupyter": {
     "source_hidden": true
    }
   },
   "source": [
    "## Core Programming Constructs\n",
    "\n",
    "  Each programming language normally has their own structure and constructs. They help us understand \n",
    "  how to  design and structure our programs appropriately. It is then up to the developer to ensure\n",
    "  that they learn the appropriate programming language constructs to develop a program. \n",
    "  \n",
    "  Generally, all programming languages follow some common practices that help define and\n",
    "  structure a program. Let’s have a look at some of these building blocks.\n",
    "  "
   ]
  },
  {
   "cell_type": "markdown",
   "id": "e2ab3164-409c-49c7-8b3c-c0709fe4de39",
   "metadata": {
    "jupyter": {
     "source_hidden": true
    }
   },
   "source": [
    "### Data as values\n",
    " > A value (data) is one of the basic things a program works with, like a letter or a number.\n",
    "  "
   ]
  },
  {
   "cell_type": "markdown",
   "id": "ccc4fa8b-cce4-4600-889f-0ee7e205ad95",
   "metadata": {
    "jupyter": {
     "source_hidden": true
    }
   },
   "source": [
    "### Simple Data Types\n",
    "\n",
    " Data types are used to define what type of data is used within a program. Depending on the type of data that needs to be stored, the computer would then allocate the necessary memory for it."
   ]
  },
  {
   "cell_type": "markdown",
   "id": "8c87cb99-560a-4e64-b735-7b26b56aa333",
   "metadata": {
    "jupyter": {
     "source_hidden": true
    }
   },
   "source": [
    "#### Integer Data Type\n",
    " This data type is used to denote the storage of numbers. Most programming languages allow for storing numbers.\n",
    " The integer data type rep represents numbers that do not have decimal places. Integers may be positive, zero,   or negative. Use integers to represent numbers like ages or quantities. Pro grams may use integer \n",
    " values in mathematical calculations. "
   ]
  },
  {
   "cell_type": "code",
   "execution_count": 8,
   "id": "c7f29ca4-5baf-4c55-b9e4-5c6b36048000",
   "metadata": {
    "jupyter": {
     "source_hidden": true
    }
   },
   "outputs": [
    {
     "name": "stdout",
     "output_type": "stream",
     "text": [
      "1000\n"
     ]
    }
   ],
   "source": [
    "# Total score achieved in a game\n",
    "total_score = 1000\n",
    "print(total_score)  # This a print statement; it outputs values to the console.\n",
    "\n",
    "# Number of students in a class\n",
    "num_of_students = 25\n",
    "\n",
    "# Year of birth (negative for BC, positive for AD)\n",
    "year_of_birth = -1990"
   ]
  },
  {
   "cell_type": "markdown",
   "id": "ad5875ed-6276-4998-bcfc-44814b53cb80",
   "metadata": {
    "jupyter": {
     "source_hidden": true
    }
   },
   "source": [
    "#### Float Data Type\n",
    " This data type is used to denote that the identifier can store a number with a decimal point. These \n",
    " numbers may be positive or negative. Use the float data type to represent decimal numbers like weights\n",
    " or  temperatures."
   ]
  },
  {
   "cell_type": "code",
   "execution_count": 12,
   "id": "6e673ee4-34ce-434f-a32b-307936106258",
   "metadata": {
    "jupyter": {
     "source_hidden": true
    }
   },
   "outputs": [],
   "source": [
    "# Diameter of the pizza (in inches)\n",
    "pizza_diameter = 12.5\n",
    "\n",
    "# Bank account balance (in dollars, or lack thereof!)\n",
    "bank_account_balance = -1234.56"
   ]
  },
  {
   "cell_type": "markdown",
   "id": "329aa889-bbb8-432b-9629-55bfe37d0ac2",
   "metadata": {
    "jupyter": {
     "source_hidden": true
    }
   },
   "source": [
    "#### String Data Type\n",
    " This data type is used to store a string of characters. This is one of the most common data types used in programming. The string data type represents a sequence of characters. Use double quote characters to specify a string. String data may rep resent text, alphanumeric, or symbol information. Here is an example:"
   ]
  },
  {
   "cell_type": "code",
   "execution_count": 14,
   "id": "5e96070d-09e0-4289-ae48-5943ea6a9c9a",
   "metadata": {
    "jupyter": {
     "source_hidden": true
    }
   },
   "outputs": [],
   "source": [
    "# My current mood (happy)\n",
    "mood = \"😄\"  # This represents a single character\n",
    "\n",
    "# Life motto (always prioritize cake!)\n",
    "life_motto = \"Eat cake, because why not? 🍰\"\n",
    "\n",
    "# Midnight snack (or lack thereof!)\n",
    "midnight_snack = \"\""
   ]
  },
  {
   "cell_type": "markdown",
   "id": "ea86f54b-332d-492d-a427-c52d165107e3",
   "metadata": {
    "jupyter": {
     "source_hidden": true
    }
   },
   "source": [
    "#### Boolean Data Type\n",
    "\n",
    " The Boolean data type represents data that may be either true or false. A Boolean variable in Python may only   hold either the literal value True or the literal value False . Use Boolean variables to\n",
    " represent true/false, yes/no, or on/off values. Here is an example:"
   ]
  },
  {
   "cell_type": "code",
   "execution_count": 15,
   "id": "9950a24e-a7c1-4a3e-88c0-9874da534556",
   "metadata": {
    "jupyter": {
     "source_hidden": true
    }
   },
   "outputs": [],
   "source": [
    "# Is it raining? Yes, it's a perfect day for ducks!\n",
    "is_it_raining = True\n",
    "\n",
    "# Are we in trouble? Nah, just another day in paradise!\n",
    "are_we_in_trouble = False\n",
    "\n",
    "# Is it the weekend yet? Sadly, no, it's just another Monday.\n",
    "is_weekend = False"
   ]
  },
  {
   "cell_type": "markdown",
   "id": "c20aa751-e2ae-443b-b1b3-b42482791357",
   "metadata": {
    "jupyter": {
     "source_hidden": true
    }
   },
   "source": [
    "### Variables (The memory box)\n",
    " A variable is a name of some location in memory that can hold data. Variables in any programming language are   used to hold data that can be used at any time during the course of the program. Normally these \n",
    " variables are listed as identifiers of a particular data type. For example, here is a variable that holds a string value:"
   ]
  },
  {
   "cell_type": "code",
   "execution_count": null,
   "id": "9a00dbf6-dad0-47cb-997b-883f3cf49c74",
   "metadata": {},
   "outputs": [],
   "source": [
    "# My favorite song (guaranteed to get me grooving)\n",
    "\n",
    "favorite_song = \"Twe Twe by Kiss Daniel\""
   ]
  },
  {
   "cell_type": "markdown",
   "id": "62991667-ee59-4477-9ea0-94c3d3b0ebb7",
   "metadata": {
    "jupyter": {
     "source_hidden": true
    }
   },
   "source": [
    "### Operators\n",
    " Operators are special characters in a programming language that operate on data stored in variables.\n",
    " Some operators require two data values (i.e., operands), and some require one. There are operators\n",
    " that as  sign values to variables, compare values, perform calculations, and perform operations. \n",
    " \n",
    " There are different types of operators listed below:\n"
   ]
  },
  {
   "cell_type": "markdown",
   "id": "21a0de02-5095-4ec2-a84d-efce67cc13e5",
   "metadata": {
    "jupyter": {
     "source_hidden": true
    }
   },
   "source": [
    "#### Assignment Operator\n",
    " The assignment operator ( = ) as signs a value to a variable. The value may be data or a variable.\n",
    " You have  seen this op er a tor in previous pro grams. Use assignment when ever the program\n",
    " needs to store or change values. This program uses the assignment operator to assign values to variables:"
   ]
  },
  {
   "cell_type": "code",
   "execution_count": 20,
   "id": "b4c4a5ba-5956-49cb-95ac-f5b397c28af5",
   "metadata": {
    "collapsed": true,
    "jupyter": {
     "outputs_hidden": true,
     "source_hidden": true
    }
   },
   "outputs": [
    {
     "name": "stdout",
     "output_type": "stream",
     "text": [
      "Programmer\n"
     ]
    }
   ],
   "source": [
    "# Using an assignment operator\n",
    "my_occupation = \"Programmer\"\n",
    "\n",
    "# Outputing the value\n",
    "print(my_occupation)"
   ]
  },
  {
   "cell_type": "markdown",
   "id": "cd3e056e-4fb3-4759-85ac-1f29d59a4af0",
   "metadata": {
    "jp-MarkdownHeadingCollapsed": true,
    "jupyter": {
     "source_hidden": true
    }
   },
   "source": [
    "#### Arithmetic Operators\n",
    " Arithmetic operators perform mathematical calculations on data. These operators are like the arithmetic operators you learned in elementary school."
   ]
  },
  {
   "cell_type": "code",
   "execution_count": 21,
   "id": "9f069202-d5c6-402f-8314-eff103bd7b91",
   "metadata": {
    "collapsed": true,
    "jupyter": {
     "outputs_hidden": true
    }
   },
   "outputs": [
    {
     "name": "stdout",
     "output_type": "stream",
     "text": [
      "3 + 5 = 8\n",
      "7 - 4 = 3\n",
      "2 * 6 = 12\n",
      "8 / 2 = 4.0\n",
      "9 // 2 = 4\n",
      "10 % 3 = 1\n",
      "2 ** 3 = 8\n"
     ]
    }
   ],
   "source": [
    "# Let's do some math magic!\n",
    "\n",
    "# Addition: The joy of combining numbers\n",
    "result_addition = 3 + 5  # Adding 3 and 5 together\n",
    "print(\"3 + 5 =\", result_addition)\n",
    "\n",
    "# Subtraction: The art of taking things away\n",
    "result_subtraction = 7 - 4  # Subtracting 4 from 7\n",
    "print(\"7 - 4 =\", result_subtraction)\n",
    "\n",
    "# Multiplication: Making copies of things\n",
    "result_multiplication = 2 * 6  # Multiplying 2 by 6\n",
    "print(\"2 * 6 =\", result_multiplication)\n",
    "\n",
    "# Division: Sharing equally or not-so-equally\n",
    "result_division = 8 / 2  # Dividing 8 by 2\n",
    "print(\"8 / 2 =\", result_division)\n",
    "\n",
    "# Floor Division: Dividing and flooring like a pro\n",
    "result_floor_division = 9 // 2  # Floor dividing 9 by 2\n",
    "print(\"9 // 2 =\", result_floor_division)\n",
    "\n",
    "# Modulus: Finding the leftovers\n",
    "result_modulus = 10 % 3  # Finding the remainder of 10 divided by 3\n",
    "print(\"10 % 3 =\", result_modulus)\n",
    "\n",
    "# Exponentiation: Powering up like a superhero\n",
    "result_exponentiation = 2**3  # Raising 2 to the power of 3\n",
    "print(\"2 ** 3 =\", result_exponentiation)\n",
    "\n",
    "# Hope these math adventures brought a smile to your face!"
   ]
  },
  {
   "cell_type": "markdown",
   "id": "fb8a3b13-ad7e-407a-8bb1-a4ba0b357a18",
   "metadata": {
    "jp-MarkdownHeadingCollapsed": true,
    "jupyter": {
     "source_hidden": true
    }
   },
   "source": [
    "#### Unary Operators\n",
    " Unary operators are operators that operate on a single value. The + and – unary operators \n",
    " are like the positive and negative symbols in mathematics. "
   ]
  },
  {
   "cell_type": "code",
   "execution_count": 22,
   "id": "a0650e23-988c-4578-9599-73a959ab8e69",
   "metadata": {
    "collapsed": true,
    "jupyter": {
     "outputs_hidden": true
    }
   },
   "outputs": [
    {
     "name": "stdout",
     "output_type": "stream",
     "text": [
      "Positive number: 5\n",
      "Negative number: -10\n"
     ]
    }
   ],
   "source": [
    "# Let's play with unary operators!\n",
    "\n",
    "# Positive Operator (+): Because positivity is contagious\n",
    "positive_number = +5\n",
    "print(\"Positive number:\", positive_number)  # Output: Positive number: 5\n",
    "\n",
    "# Negative Operator (-): The art of turning frowns upside down\n",
    "negative_number = -10\n",
    "print(\"Negative number:\", negative_number)  # Output: Negative number: -10\n",
    "\n",
    "# Remember, even in code, there's always a positive side!"
   ]
  },
  {
   "cell_type": "markdown",
   "id": "18768ed8-f30a-45ee-94f3-084f61dadaaa",
   "metadata": {
    "jp-MarkdownHeadingCollapsed": true,
    "jupyter": {
     "source_hidden": true
    }
   },
   "source": [
    "#### Comparison Operators\n",
    "Comparison operators compare two values and return a Boolean result (True or False). These operators are analogous to their mathematical counterparts. The comparison operators are: equal to (==), not equal to (!=), greater than (>), less than (<), greater than or equal to (>=), and less than or equal to (<=). It is important to note the difference between the assignment operator (=) and equality operator (==). Do not confuse the two. Here is a program that demonstrates the comparison operators with integer values:"
   ]
  },
  {
   "cell_type": "code",
   "execution_count": 19,
   "id": "ac773958-2097-4b46-b40d-f12d51d3b4a7",
   "metadata": {
    "collapsed": true,
    "jupyter": {
     "outputs_hidden": true
    }
   },
   "outputs": [
    {
     "name": "stdout",
     "output_type": "stream",
     "text": [
      "x == y: False\n",
      "x != y: True\n",
      "x > y: True\n",
      "y < x: True\n",
      "x >= y: True\n",
      "y <= x: True\n"
     ]
    }
   ],
   "source": [
    "# Let's play with comparison operators!\n",
    "\n",
    "# Define some integer values\n",
    "x = 10\n",
    "y = 5\n",
    "\n",
    "# Equal to (==): Are they equal?\n",
    "print(\"x == y:\", x == y)  # Output: x == y: False\n",
    "\n",
    "# Not equal to (!=): Are they different?\n",
    "print(\"x != y:\", x != y)  # Output: x != y: True\n",
    "\n",
    "# Greater than (>): Is x greater than y?\n",
    "print(\"x > y:\", x > y)  # Output: x > y: True\n",
    "\n",
    "# Less than (<): Is y less than x?\n",
    "print(\"y < x:\", y < x)  # Output: y < x: True\n",
    "\n",
    "# Greater than or equal to (>=): Is x greater than or equal to y?\n",
    "print(\"x >= y:\", x >= y)  # Output: x >= y: True\n",
    "\n",
    "# Less than or equal to (<=): Is y less than or equal to x?\n",
    "print(\"y <= x:\", y <= x)  # Output: y <= x: True\n",
    "\n",
    "# Remember, comparison operators help us make decisions in our code!"
   ]
  },
  {
   "cell_type": "markdown",
   "id": "68d26e07-5fcd-47df-afcd-5a995c0b0c19",
   "metadata": {
    "jp-MarkdownHeadingCollapsed": true,
    "jupyter": {
     "source_hidden": true
    }
   },
   "source": [
    "#### Conditional Operators\n",
    "Conditional operators operate on two Boolean values. They compare the two Boolean values and return a Boolean result. The conditional operators are and and or. An and operation evaluates to True if both values are True and False otherwise. An or operation evaluates to True if at least one of the values is True and False otherwise. Here is a program that demonstrates the fundamental cases of the and and or operations:"
   ]
  },
  {
   "cell_type": "code",
   "execution_count": 23,
   "id": "60e551fb-29a1-4d99-a8e8-13692359e1e9",
   "metadata": {
    "jupyter": {
     "source_hidden": true
    }
   },
   "outputs": [
    {
     "name": "stdout",
     "output_type": "stream",
     "text": [
      "value1 and value2: False\n",
      "value1 or value2: True\n"
     ]
    }
   ],
   "source": [
    "# Let's dive into the world of conditional operators!\n",
    "\n",
    "# Define some Boolean values\n",
    "value1 = True\n",
    "value2 = False\n",
    "\n",
    "# AND operation: Are both values True?\n",
    "result_and = value1 and value2\n",
    "print(\"value1 and value2:\", result_and)  # Output: value1 and value2: False\n",
    "\n",
    "# OR operation: Is at least one value True?\n",
    "result_or = value1 or value2\n",
    "print(\"value1 or value2:\", result_or)  # Output: value1 or value2: True\n",
    "\n",
    "# Remember, conditional operators help us make logical decisions in our code!"
   ]
  },
  {
   "cell_type": "markdown",
   "id": "c0cd6af2-7d47-4892-bfa2-0a59dba9b349",
   "metadata": {
    "jp-MarkdownHeadingCollapsed": true,
    "jupyter": {
     "source_hidden": true
    }
   },
   "source": [
    "### Functions (Grouping your Code)\n",
    " A function is simply a named section of code that performs a specific operation or task. We can\n",
    " write our own  functions or we can choose from a library of prewritten functions.Most programming languages     come with built-in functions, but libraries can also be imported.\n",
    " \n",
    " We will look at the basic semantics of functions and how they can be used. We will start by looking at the definition of a function. The syntax is defined below:"
   ]
  },
  {
   "cell_type": "code",
   "execution_count": null,
   "id": "fb836922-38fe-4c88-9667-ddc6beb16989",
   "metadata": {},
   "outputs": [],
   "source": [
    "def function_name(parameter1, parameter2, ...):\n",
    "    # Function body\n",
    "    # Perform specific operations or tasks\n",
    "    # Optionally, return a value"
   ]
  },
  {
   "cell_type": "code",
   "execution_count": 24,
   "id": "3f3d0b27-2e13-4938-adf3-3f65386879f4",
   "metadata": {},
   "outputs": [
    {
     "name": "stdout",
     "output_type": "stream",
     "text": [
      "Uh oh! We need better jokes. You're not cracking up the crowd.\n",
      "ROFL! You've got everyone rolling on the floor laughing!\n"
     ]
    }
   ],
   "source": [
    "def calculate_laughter_level(jokes_told):\n",
    "    \"\"\"\n",
    "    Calculates the laughter level based on the number of jokes told.\n",
    "\n",
    "    Args:\n",
    "        jokes_told (int): The number of jokes told.\n",
    "\n",
    "    Returns:\n",
    "        str: A humorous description of the laughter level.\n",
    "    \"\"\"\n",
    "    # Calculate the laughter level based on the number of jokes told\n",
    "    laughter_level = jokes_told * 2\n",
    "\n",
    "    # Check if the laughter level is high or low\n",
    "    if laughter_level >= 10:\n",
    "        # If the laughter level is high, we're rolling on the floor laughing!\n",
    "        return \"ROFL! You've got everyone rolling on the floor laughing!\"\n",
    "    else:\n",
    "        # If the laughter level is low, we need better jokes\n",
    "        return \"Uh oh! We need better jokes. You're not cracking up the crowd.\"\n",
    "\n",
    "\n",
    "# Let's test our function\n",
    "print(\n",
    "    calculate_laughter_level(3)\n",
    ")  # Output: Uh oh! We need better jokes. You're not cracking up the crowd.\n",
    "print(\n",
    "    calculate_laughter_level(5)\n",
    ")  # Output: ROFL! You've got everyone rolling on the floor laughing!"
   ]
  }
 ],
 "metadata": {
  "kernelspec": {
   "display_name": "Python 3 (ipykernel)",
   "language": "python",
   "name": "python3"
  },
  "language_info": {
   "codemirror_mode": {
    "name": "ipython",
    "version": 3
   },
   "file_extension": ".py",
   "mimetype": "text/x-python",
   "name": "python",
   "nbconvert_exporter": "python",
   "pygments_lexer": "ipython3",
   "version": "3.12.2"
  },
  "toc": {
   "base_numbering": 1
  }
 },
 "nbformat": 4,
 "nbformat_minor": 5
}
