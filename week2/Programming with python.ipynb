{
 "cells": [
  {
   "cell_type": "markdown",
   "id": "dccc50ac-529e-4505-9a69-33d83e9c5f73",
   "metadata": {
    "jupyter": {
     "source_hidden": true
    }
   },
   "source": [
    "# Programming with PYTHON II\n",
    " - So far we've discussed about programs, what they are, types of programs, data and data types, operators variables and functions.\n",
    " - Today we'll delve into the second part of core programming constructs such as loops, conditioners classes etc"
   ]
  },
  {
   "cell_type": "markdown",
   "id": "835b4d2b-66e9-48fd-9dd5-977c85f43d1b",
   "metadata": {},
   "source": [
    "## 1. Structured Programming\n",
    "The structured programming concept was formalized in 1966 by Corrado Bohm and Giuseppe Jacopini. They\n",
    "demonstrated theoretical computer program design using sequences, decisions, and iterations.\n",
    "\n",
    "### Definition\n",
    "- Structural programming is a software development method that uses modularization and structured design.\n",
    "- Large programs are broken down into smaller modules and each individual module (file) uses structured code\n",
    "- As its name suggests, structured programming is done in a structured programming language and Python has a builtin support for it\n",
    "\n",
    "\n",
    "### Algorithm Defined\n",
    "An algorithm is a procedure or set of instructions for solving a problem in terms of \n",
    "\n",
    "1. the ***actions*** to be executed and\n",
    "2. the ***order*** in which the actions are to be executed\n",
    "\n",
    "### 3 Fundamental Control Structures?\n",
    "Structural programming makes use of the structured control flow constructs of... \n",
    "- **Sequence Structure:** Ordered statements or subroutines executed in sequence\n",
    "- **Selection Structure:** One or a number of statements is executed depending on the state(data) of the program. This is usually expressed with keywords such as `if..else..elif`\n",
    "- **Repetition Structure:** This is also known an iteration ; a statement or block is executed until the program reaches a certain state. This is usually expressed with keyword such as `while`, `for`, `switch` etc\n",
    "\n",
    "  ![control strictures](Structured_program_patterns.png) "
   ]
  },
  {
   "cell_type": "markdown",
   "id": "7f7172ef-7d19-4505-83a0-0c592135ff19",
   "metadata": {},
   "source": [
    "### Sequence Structure\n",
    "- The sequence control structure is the simplest of the three fundamental control structures\n",
    "- This refers to the line by-line execution, in which statements are executed sequentially, in the same order in which they appear in the program, without skipping any of them. It is also known as a sequential control structure.\n",
    "- For example,carry out a series of read or write operations, arithmetic operations, or assignments to variables.\n",
    "- (Questions:)How does python execute programs or statements\n",
    "-The following program shows an example of Python statements that are executed sequentially.\n",
    "- Now, lets demonstrate with some code examples"
   ]
  },
  {
   "cell_type": "code",
   "execution_count": null,
   "id": "2d81a913-acc3-4c0d-a90c-17657574acf0",
   "metadata": {},
   "outputs": [],
   "source": [
    "#Prompt the user to enter value for num\n",
    "num = int(input(\"Enter a number: \"))\n",
    "\n",
    "#Calculate the square of num\n",
    "result = num ** 2\n",
    "\n",
    "#Display the result on user's screen\n",
    "print(\"The square of\", num, \"is\", result)\n"
   ]
  },
  {
   "cell_type": "markdown",
   "id": "82eedafe-684b-48ab-b174-71315010131d",
   "metadata": {},
   "source": [
    "#### Class Exercise\n",
    "##### Calculating the Area of a Rectangle\n",
    "Write a Python program that prompts the user to enter the length of the base and the height of a rectangle, and then calculates and displays its area.\n",
    "HINT: Area = Base * Height"
   ]
  },
  {
   "cell_type": "code",
   "execution_count": null,
   "id": "d4c96a8d-e169-46dd-9a58-ea2a5a6e6907",
   "metadata": {},
   "outputs": [],
   "source": [
    "# SOLUTION:\n",
    "#Data input - Prompt the user to enter values for base and height\n",
    "\n",
    "base = float(input(\"Enter the length of Base: \"))\n",
    "height = float(input(\"Enter the length of Height: \"))\n",
    "\n",
    "#Data processing - Calculate the area of the rectangle\n",
    "\n",
    "area = base * height\n",
    "#Results output - Display the result on user's screen\n",
    "print(\"The area of the rectangle is\", area)"
   ]
  },
  {
   "cell_type": "markdown",
   "id": "69ada6d2-ce00-4dcf-afb6-2862498ad507",
   "metadata": {},
   "source": [
    "### Selection Structure\n",
    "- Depending on whether a condition is true or false, the decision control structure may skip the execution of an entire block of statements or even execute one block of statements instead of another. It is also known as a selection control structure.\n",
    "- The following are examples of decision or selection structures in python programming..,\n"
   ]
  },
  {
   "cell_type": "markdown",
   "id": "34125c63-e887-4082-b533-0cb550b11656",
   "metadata": {},
   "source": [
    "#### Conditionals\n",
    "\n",
    "- Conditioners allow programmers to allow programs make decisions: As if your program has the choice between taking the left-hand road or the right-hand road based upon certain conditions.\n",
    "- Built with Python are sets \"operators\" that are used to ask mathematical questions\n",
    "- `>` and `<` symbols are probably quite familiar. They denote greater than and less than\n",
    "- `>=` denotes “greater than or equal to.”\n",
    "- `<=` denotes “less than or equal to.”\n",
    "- `==` denotes “equals, though do notice the double equal sign! A single equal sign would assign a value. Double equal signs are used to compare variables.\n",
    "- `!=` denotes “not equal to.\n",
    "\n",
    "#### if Statements\n",
    "- if statements use `bool` or boolean values (true or false) to decide whether or not to execute. If the statement of `x > y` is true, the compiler will register it as true and execute the code."
   ]
  },
  {
   "cell_type": "code",
   "execution_count": null,
   "id": "4524acf7-d82f-4985-84e1-0b4deecd0851",
   "metadata": {},
   "outputs": [],
   "source": [
    "x = int(input(\"What's x? \"))\n",
    "y = int(input(\"What's y? \"))\n",
    "\n",
    "if x < y:\n",
    "    print(\"x is less than y\")"
   ]
  },
  {
   "cell_type": "markdown",
   "id": "407ce6c4-21f8-422d-a980-31bc12a68ce3",
   "metadata": {},
   "source": [
    "#### Control Flow, elif, and else"
   ]
  },
  {
   "cell_type": "code",
   "execution_count": null,
   "id": "52fb6423-37dd-4f45-abe3-834e65662bd4",
   "metadata": {},
   "outputs": [],
   "source": [
    "x = int(input(\"What's x? \"))\n",
    "y = int(input(\"What's y? \"))\n",
    "\n",
    "if x < y:\n",
    "    print(\"x is less than y\")\n",
    "if x > y:\n",
    "    print(\"x is greater than y\")\n",
    "if x == y:\n",
    "    print(\"x is equal to y\")"
   ]
  },
  {
   "cell_type": "markdown",
   "id": "02e32f92-4a61-4290-ac5e-60b162fee3f4",
   "metadata": {},
   "source": [
    "![conditioners](for-loop.png) "
   ]
  },
  {
   "cell_type": "markdown",
   "id": "35b6544a-fe9f-4772-ba47-82de0308a5a5",
   "metadata": {},
   "source": [
    "### Repetition Structure\n",
    "- This is a control structure that allows the execution of a block of statements multiple times until a specified condition is met. It is\n",
    "also known as an iteration control structure or a repetition control structure.\n",
    "\n",
    "#### Loops\n",
    "\n",
    "- Essentially, loops are a way to do something over and over again and in Python, they come in two main forms: ***For loops and While Loops***\n"
   ]
  },
  {
   "cell_type": "code",
   "execution_count": null,
   "id": "16b24082-35b5-4935-ba97-6a171af850bc",
   "metadata": {},
   "outputs": [],
   "source": [
    "print(\"meow\")\n",
    "print(\"meow\")\n",
    "print(\"meow\")"
   ]
  },
  {
   "cell_type": "markdown",
   "id": "eed21e65-d654-4ced-8310-d731dc66a4c9",
   "metadata": {
    "jupyter": {
     "source_hidden": true
    }
   },
   "source": [
    "- In developing as a programmer, you want to consider how one could improve areas of ones code where one types the same thing over and over again. Imagine where one might want to \"meow\" 500 times. Would it be logical to type that same expression of print(\"meow\") over and over again?\n",
    "\n",
    "- Loops enable you to create a block of code that executes over and over again\n",
    "\n",
    "#### While Loops\n",
    "- The `while` loop is nearly universal throughout all coding languages.\n",
    "- Such a loop will repeat a block of code over and over again.\n",
    "  "
   ]
  },
  {
   "cell_type": "code",
   "execution_count": null,
   "id": "f7e47352-d59a-46dc-be57-61281150c9b0",
   "metadata": {},
   "outputs": [],
   "source": [
    "i = 1\n",
    "while i <= 3:\n",
    "    print(\"meow\")\n",
    "    i = i + 1\n",
    "\n",
    "\n"
   ]
  },
  {
   "cell_type": "code",
   "execution_count": null,
   "id": "bf250822-5cf8-47f0-a980-a06a87752ba5",
   "metadata": {
    "jupyter": {
     "source_hidden": true
    }
   },
   "outputs": [],
   "source": [
    "#Alternatively....,\n",
    "\n",
    "i = 0\n",
    "while i < 3:\n",
    "    print(\"meow\")\n",
    "    i += 1\n"
   ]
  },
  {
   "cell_type": "markdown",
   "id": "aa89eb86-46a5-48ad-9d57-f1f726dc6844",
   "metadata": {},
   "source": [
    " ![control strictures](while-loop.png) "
   ]
  },
  {
   "cell_type": "markdown",
   "id": "12705db6-a6f8-426d-92cd-55a4dffd4275",
   "metadata": {},
   "source": [
    "#### For Loops\n",
    "- They are used to iterate over a sequence of elements, performing some block of code for each element in a sequence \n",
    "- To best understand a for loop, it’s best to begin by talking about a new variable type called a list in Python.\n",
    "- As in other areas of our lives, we can have a grocery list, a to-do list, etc.\n",
    "- A for loop iterates through a list of items. For example, in the text editor window, modify your cat.py code as follows:"
   ]
  },
  {
   "cell_type": "code",
   "execution_count": null,
   "id": "f016bccf-531b-4c2f-9833-1ab0da092366",
   "metadata": {},
   "outputs": [],
   "source": [
    "for i in [0, 1, 2]:\n",
    "    print(\"meow\")"
   ]
  },
  {
   "cell_type": "markdown",
   "id": "539be337-61a4-48c3-ad01-a0f40f31bcae",
   "metadata": {},
   "source": [
    "- While this code accomplishes what we want, there are some possibilities for improving our code for extreme cases. At first glance, our code looks great. However, what if you wanted to iterate up to a million? It’s best to create code that can work with such extreme cases. Accordingly, we can improve our code as follows:"
   ]
  },
  {
   "cell_type": "code",
   "execution_count": null,
   "id": "6f890376-d513-4320-b4f2-40053c4cb451",
   "metadata": {},
   "outputs": [],
   "source": [
    "for i in range(3):\n",
    "    print(\"meow\")"
   ]
  },
  {
   "cell_type": "code",
   "execution_count": null,
   "id": "290f4f9a-6237-488a-9270-5cff0027e6ac",
   "metadata": {},
   "outputs": [],
   "source": [
    "# Createa list in python called 'names' using []\n",
    "names = [\"James\", \"John\", \"Jeremy\"]\n",
    "\n",
    "#Print each name:\n",
    "\n",
    "for name in names:\n",
    "    print(name)\n",
    "\n",
    "#Outputs:\n",
    "# James\n",
    "# John\n",
    "# Jeremy"
   ]
  },
  {
   "cell_type": "markdown",
   "id": "32f4970b",
   "metadata": {},
   "source": [
    "#### Class Exercise 2\n",
    "##### Simple Grading System\n",
    "Write a program that prompt a user to input a student score then use `if-else` statements to determine and then print the grade based on the following grading criteria\n",
    "- 90 and above : A\n",
    "- 80 - 89: B\n",
    "- 70 - 79: C\n",
    "- 60 -69: D\n",
    "- Below 60: F "
   ]
  },
  {
   "cell_type": "code",
   "execution_count": null,
   "id": "6fb7b25c",
   "metadata": {},
   "outputs": [],
   "source": [
    "# Solution\n",
    "score = float(input(\"Enter the student score: \"))\n",
    "\n",
    "if score >= 90:\n",
    "    print(\"A\")\n",
    "elif 80 <= score <= 89:\n",
    "    print(\"B\")\n",
    "elif 70 <= score <= 79:\n",
    "    print(\"C\")\n",
    "elif 60 <= score <= 69:\n",
    "    print(\"D\")\n",
    "else:\n",
    "    print(\"F\")\n",
    "\n"
   ]
  },
  {
   "cell_type": "markdown",
   "id": "f32aa265",
   "metadata": {},
   "source": [
    "#### Class Exercise 3\n",
    "##### Multiplication Table\n",
    "Write a program that prompt a user to input a number and then generates and prints the multiplication table for that number using both for loop and while loop\n",
    "- HINT: The program should allow the user to input a number and then print out the multiplication table for that number from 1 to 10."
   ]
  },
  {
   "cell_type": "code",
   "execution_count": null,
   "id": "174d46e8",
   "metadata": {},
   "outputs": [],
   "source": [
    "# Using For Loop\n",
    "number = float(input(\"Enter a number: \"))\n",
    "\n",
    "for n in range(1, 11):                  # for loop using range()\n",
    "    print(f\"{number} * {n} = {number * n }\")"
   ]
  },
  {
   "cell_type": "code",
   "execution_count": null,
   "id": "e0cebfa7",
   "metadata": {},
   "outputs": [],
   "source": [
    "# Using While Loop\n",
    "number = int(input(\"Enter a number: \"))\n",
    "i = 1                            # counter variable\n",
    "\n",
    "while i <= number:              # while loop\n",
    "    print(f\"{number} * {i} = {number * i }\")\n",
    "    i = i + 1"
   ]
  },
  {
   "cell_type": "markdown",
   "id": "de6ad4bb-47d6-488b-8461-dad96736bc9c",
   "metadata": {},
   "source": [
    "## 2. Data Structures in Python\n",
    "### Definition\n",
    "- Data structure is a collection of data values, the relationships among them, and the methods(functions) that can be applied on to the data\n",
    "- They are also known as Complex data types\n",
    "  \n",
    "### Types of Complex data type\n",
    "- List\n",
    "- Dict\n",
    "- Tuple"
   ]
  },
  {
   "cell_type": "markdown",
   "id": "1b1a3a53-3b76-46a8-9504-2477cb050705",
   "metadata": {},
   "source": [
    "#### List\n",
    "- A Python list allows you ro store any variable types. We create a list using square brackets and comma, as shown below. We can print an entire list, or some individual elements. We can also add elements to a list using `append`, and sort a list using `sort`\n",
    "- **Ordered :** Yes\n",
    "- **Mutable :** Yes\n",
    "\n",
    "#### Basic List Methods\n",
    "There are various methods or operations we can perform on lists such as...,"
   ]
  },
  {
   "cell_type": "markdown",
   "id": "8283b2cc",
   "metadata": {},
   "source": [
    "##### `append()` : Adds an element to the end of the list"
   ]
  },
  {
   "cell_type": "code",
   "execution_count": null,
   "id": "1ec61ac7",
   "metadata": {},
   "outputs": [],
   "source": [
    "my_list = [1,2,3]\n",
    "my_list.append(4)\n",
    "print(my_list)"
   ]
  },
  {
   "cell_type": "markdown",
   "id": "ae638890",
   "metadata": {},
   "source": [
    "##### `pop()`: Removes and returns the last elements of the list"
   ]
  },
  {
   "cell_type": "code",
   "execution_count": null,
   "id": "8eed7743",
   "metadata": {},
   "outputs": [],
   "source": [
    "my_list = [1,2,3,4]\n",
    "last_element = my_list.pop()\n",
    "\n",
    "print(last_element)\n",
    "print(my_list)"
   ]
  },
  {
   "cell_type": "markdown",
   "id": "6a2f2783",
   "metadata": {},
   "source": [
    "##### `sort()`: Sorts the list in ascending order"
   ]
  },
  {
   "cell_type": "code",
   "execution_count": null,
   "id": "f82b7a4c",
   "metadata": {},
   "outputs": [],
   "source": [
    "my_list = [3,1,4,2,5]\n",
    "my_list.sort()\n",
    "print(my_list)"
   ]
  },
  {
   "cell_type": "code",
   "execution_count": null,
   "id": "8dd3c06a-dfb3-4139-b6fc-4be98715318b",
   "metadata": {},
   "outputs": [],
   "source": [
    "# various List Operations we can perform\n",
    "\n",
    "names = [\"Harry\", \"Ron\", \"Hermione\"]\n",
    "\n",
    "# Print the entire list:\n",
    "print(names)\n",
    "\n",
    "# Print the second element of the list:\n",
    "print(names[1])\n",
    "\n",
    "# Add a new name to the list:\n",
    "names.append(\"Draco\")\n",
    "\n",
    "# Sort the list:\n",
    "names.sort()\n",
    "\n",
    "# Print the new list:\n",
    "print(names)"
   ]
  },
  {
   "cell_type": "markdown",
   "id": "4d3feb2c-9dc5-4fdd-9763-b76832dfcbe4",
   "metadata": {},
   "source": [
    "#### Tuple\n",
    "- Tuples are generally used when you need to store just two or more values together, such as the x and y valuesd for a point. In python code, we use parenthesis:\n",
    "\n",
    " `point = (12.5, 10.6)`\n",
    "\n",
    "\n",
    "#### Basic Tuple Methods\n",
    "There are various methods or operations we can perform on lists such as...,\n"
   ]
  },
  {
   "cell_type": "markdown",
   "id": "fdad4e53",
   "metadata": {},
   "source": [
    "##### `index()`: Returns the index of the first occurrence of a specified value in the tuple."
   ]
  },
  {
   "cell_type": "code",
   "execution_count": null,
   "id": "61253876",
   "metadata": {},
   "outputs": [],
   "source": [
    "my_tuple = (1, 2, 3, 2)\n",
    "index = my_tuple.index(2)\n",
    "\n",
    "print(index)  # Output: 1\n"
   ]
  },
  {
   "cell_type": "markdown",
   "id": "f32a92ca",
   "metadata": {},
   "source": [
    "##### `count()`: Returns the number of times a specified value occurs in the tuple."
   ]
  },
  {
   "cell_type": "code",
   "execution_count": null,
   "id": "11f6b567",
   "metadata": {},
   "outputs": [],
   "source": [
    "my_tuple = (1, 2, 3, 2)\n",
    "count = my_tuple.count(2)\n",
    "print(count)  # Output: 2\n"
   ]
  },
  {
   "cell_type": "markdown",
   "id": "e3813202",
   "metadata": {},
   "source": [
    "##### `len()`: Returns the number of items in the tuple."
   ]
  },
  {
   "cell_type": "code",
   "execution_count": null,
   "id": "a4c0124a",
   "metadata": {},
   "outputs": [],
   "source": [
    "my_tuple = (1, 2, 3)\n",
    "length = len(my_tuple)\n",
    "print(length)  # Output: 3\n"
   ]
  },
  {
   "cell_type": "markdown",
   "id": "810b9354-e13c-4d4a-bc82-82cc60d1c81f",
   "metadata": {},
   "source": [
    "#### Dictionaries\n",
    "- Dictionaries or `dict`s will be especially useful in this course. A dictionary us a set of ***key-value pairs,*** where each key has a corresponding value, just like in a dictionary, each word (the key) has a corresponding definition (the value).\n",
    "- In Python, we use curly braces to contain a dictionary, and colons to indicate keys and values. For example:\n",
    "\n",
    "\n",
    "#### Basic Dictionary Methods\n",
    "There are various methods or operations we can perform on lists such as...,"
   ]
  },
  {
   "cell_type": "markdown",
   "id": "d520df52",
   "metadata": {},
   "source": [
    "##### `get()`: Returns the value for the specified key. If the key does not exist, returns a default value (if provided) or None."
   ]
  },
  {
   "cell_type": "code",
   "execution_count": null,
   "id": "d8ef6d55",
   "metadata": {},
   "outputs": [],
   "source": [
    "my_dict = {'a': 1, 'b': 2, 'c': 3}\n",
    "value_a = my_dict.get('a')\n",
    "print(value_a)  # Output: 1\n",
    "value_d = my_dict.get('d', 'Key not found')\n",
    "print(value_d)  # Output: 'Key not found'\n"
   ]
  },
  {
   "cell_type": "markdown",
   "id": "0c3c6435",
   "metadata": {},
   "source": [
    "##### `key()`: Returns a view object that displays a list of all the keys in the dictionary."
   ]
  },
  {
   "cell_type": "code",
   "execution_count": null,
   "id": "cb504406",
   "metadata": {},
   "outputs": [],
   "source": [
    "my_dict = {'a': 1, 'b': 2, 'c': 3}\n",
    "keys = my_dict.keys()\n",
    "print(keys)  # Output: dict_keys(['a', 'b', 'c'])\n"
   ]
  },
  {
   "cell_type": "markdown",
   "id": "697bc636",
   "metadata": {},
   "source": [
    "##### `update()`: Updates the dictionary with the elements from another dictionary or from an iterable of key-value pairs. "
   ]
  },
  {
   "cell_type": "code",
   "execution_count": null,
   "id": "e7c56457-fe45-4aea-a416-ab52e7c5fba3",
   "metadata": {},
   "outputs": [],
   "source": [
    "# Define a dictionary\n",
    "languages = {\"Harry\": \"Python\", \"Draco\": \"PHP\"}\n",
    "\n",
    "# Print out Harry's house\n",
    "print(languages[\"Harry\"])\n",
    "\n",
    "# Adding values to a dictionary:\n",
    "languages[\"James\"] = \"Java\"\n",
    "\n",
    "# Print out Hermione's House:\n",
    "print(languages[\"James\"])\n",
    "\n",
    "\"\"\" Output:\n",
    "Python\n",
    "Java\n",
    "\"\"\""
   ]
  },
  {
   "cell_type": "markdown",
   "id": "f95cc24f",
   "metadata": {},
   "source": [
    "#### Class Exercises\n",
    "#### Data Collections\n",
    "Invoke the following function below with a tuple data parameters to populate the Student list\n",
    "\n"
   ]
  },
  {
   "cell_type": "code",
   "execution_count": null,
   "id": "2b0aa43f",
   "metadata": {},
   "outputs": [],
   "source": [
    "students = []\n",
    "\n",
    "def add_student(name, age, grade):\n",
    "    student_info = (name,age,grade)\n",
    "    students.append(student_info)\n",
    "    print(f\"Student added successfully:\", students)\n",
    "    \n",
    "# Make your function call here"
   ]
  },
  {
   "cell_type": "markdown",
   "id": "924fe76b-e754-47d5-a438-dd20902cf7c0",
   "metadata": {},
   "source": [
    "## 3. Object Oriented Programming\n",
    "- Object Oriented Programming is a paradigm based on the concept of **objects**, which can contain data (properties and attributes) and code in form of procedures (methods).\n",
    "- In OOP, you can combine data and functionality and enclose them inside something called an object.\n",
    "- Using object-oriented programming techniques enables you to maintain your code more easily, and write code that can be easily used by others.\n",
    "- Python has a builtin support for object oriented programming\n",
    "\n",
    "### Computers only see and understand data\n",
    "- Computers only understand data and so programmers create models of the world using data. An example of a model is **Car**, or **Person**.\n",
    "- To a human being it is clear what kind of real world object each one represents but not to a computer.\n",
    "\n",
    "\n",
    "### Classes and Objects in Python\n",
    "- Imagine a car. How can you describe a specific car? It has some attributes, such as the brand, the model, the color, and the license plate. Also, there are some actions this car can perform, or can have performed on it. For example, someone can turn it on or off, accelerate or brake, or park.\n",
    "- In OOP, this car can be an object with specific attributes (usually called fields) that performs specific actions (called\n",
    "methods).\n",
    "- Obviously, you may now be asking yourself, “How can I create objects in the first place?” The answer is simple! All\n",
    "you need is a class. A class is the blueprint or mould\n",
    "\n",
    "#### What is a python class?\n",
    "- A class is a template or blueprint for creating objects with specific attributes and behaviors. You can model almost anything using classes.\n",
    "- Each instance of the a class  will have its own set of attributes and can perform actions defined by the class methods.\n",
    "\n",
    "![a python class](car-class.jpeg)\n",
    "\n",
    "- Let continue by creating a Car class. that represents a car—not one car in particular, but any car.\n"
   ]
  },
  {
   "cell_type": "code",
   "execution_count": null,
   "id": "66f6dff1",
   "metadata": {},
   "outputs": [],
   "source": [
    "# Declaring a class called car\n",
    "\n",
    "class Car:\n",
    "    pass"
   ]
  },
  {
   "cell_type": "markdown",
   "id": "6e19bdae",
   "metadata": {},
   "source": [
    "#### The Initializer\n",
    "A python class often has an initializer method for defining the initial values of instance attributes, which are the member variables that exist in each instance. If your instance will have no instance attributes, you don’t need to define `__init__()`."
   ]
  },
  {
   "cell_type": "code",
   "execution_count": null,
   "id": "1e33aa95",
   "metadata": {},
   "outputs": [],
   "source": [
    "class Car:\n",
    "    \"\"\"A simple attempt to model a car.\"\"\"\n",
    "    \n",
    "    def __init__(self, make, model, color):\n",
    "        \"\"\"Initialize make and model and color attributes.\"\"\"\n",
    "        self.make = make\n",
    "        self.model = model\n",
    "        self.color = color"
   ]
  },
  {
   "cell_type": "markdown",
   "id": "198f2cd4",
   "metadata": {},
   "source": [
    "#### Making an instance from a class\n",
    "- Think of a class as a set of instructions for how to make an instance. The class `Car` is a set of instructions that tells Python how to make individual instances representing specific cars.\n",
    "- When you create a new object (a new instance of aclass) the process is called “instantiation”. Let’s make an instance representing a specific car:"
   ]
  },
  {
   "cell_type": "code",
   "execution_count": null,
   "id": "1a560c97",
   "metadata": {},
   "outputs": [],
   "source": [
    "# class Car:\n",
    "#     \"\"\"A simple attempt to model a car.\"\"\"\n",
    "    \n",
    "#     def __init__(self, make, model, color):\n",
    "#         \"\"\"Initialize make and model and color attributes.\"\"\"\n",
    "#         self.make = make\n",
    "#         self.model = model\n",
    "#         self.color = color\n",
    "        \n",
    "        \n",
    "        \n",
    "# Creating a Car instance (object)\n",
    "my_car = Car(\"Toyota\", 2015, \"Black\")\n",
    "\n",
    "print(\"My car's name is \" + my_car.make.title() + \".\")\n",
    "print(\"My car's color is \" + my_car.color.title() + \".\")\n",
    "print(\"My car is \" + str(my_car.model) + \" model.\")"
   ]
  },
  {
   "cell_type": "markdown",
   "id": "bdf32297",
   "metadata": {},
   "source": [
    "#### Class Method\n",
    "- Sometimes, we want to add functionality to a class itself.`@classmethod` is a function that we can use to add functionality to a class as a \n",
    "- Methods essentially manipulates or process attributes of a class; they represent things we do with objects\n",
    "- After we create an instance from the class `Car`, we can also create methods for the car and use dot notation to \n",
    "call any method defined in `Car`. Let’s make our car on and roll accelerate:"
   ]
  },
  {
   "cell_type": "code",
   "execution_count": null,
   "id": "5727ab5a",
   "metadata": {},
   "outputs": [],
   "source": [
    "class Car:\n",
    "    \"\"\"A simple attempt to model a car.\"\"\"\n",
    "    \n",
    "    def __init__(self, make, model, color):\n",
    "        \"\"\"Initialize make and model and color attributes.\"\"\"\n",
    "        self.make = make\n",
    "        self.model = model\n",
    "        self.color = color\n",
    "\n",
    "    #Define method turn_on()\n",
    "    def turn_on(self):\n",
    "        print(\"The car turns on!\")\n",
    "        \n",
    "    #Define method turn_off()\n",
    "    def turn_off(self):\n",
    "        print(\"The car turns off!\")\n",
    "        \n",
    "    #Define method accelerate()\n",
    "    def accelerate(self):\n",
    "        print(\"The car accelerates!!\")"
   ]
  },
  {
   "cell_type": "markdown",
   "id": "165d704d",
   "metadata": {},
   "source": [
    "#### Encapsulation\n",
    "- Encapsulation is the bundling of data and methods that operate on the data into a single unit, i.e., class. It restricts access to some of the object's components and prevents direct modification."
   ]
  },
  {
   "cell_type": "code",
   "execution_count": null,
   "id": "bb4a6f56",
   "metadata": {},
   "outputs": [],
   "source": [
    "# Encapsulation\n",
    "\n",
    "class Car:\n",
    "    def __init__(self, make, model):\n",
    "        self.make = make\n",
    "        self.model = model\n",
    "\n",
    "    def get_make(self):\n",
    "        return self.make\n",
    "\n",
    "    def get_model(self):\n",
    "        return self.model\n",
    "\n",
    "# Usage\n",
    "car = Car(\"Toyota\", \"Camry\")\n",
    "print(car.get_make())  # Output: Toyota\n",
    "print(car.get_model())  # Output: Camry\n"
   ]
  },
  {
   "cell_type": "markdown",
   "id": "7281d266",
   "metadata": {},
   "source": [
    "#### Inheritance\n",
    "- Inheritance is, perhaps, the most powerful feature of object-oriented programming.\n",
    "- Inheritance is a mechanism in which a new class inherits properties and behaviors from an existing class (parent or base class).\n",
    "- It just so happens that you can create a class that “inherits” methods, variables, and attributes from another class.\n",
    "- It promotes code reusability and establishes a hierarchy of classes.\n",
    "- For Example:"
   ]
  },
  {
   "cell_type": "code",
   "execution_count": null,
   "id": "ab53be42",
   "metadata": {},
   "outputs": [],
   "source": [
    "#Inheritance \n",
    "\n",
    "class Animal:\n",
    "    def sound(self):\n",
    "        pass\n",
    "\n",
    "class Dog(Animal):\n",
    "    def sound(self):\n",
    "        return \"Woof!\"\n",
    "\n",
    "class Cat(Animal):\n",
    "    def sound(self):\n",
    "        return \"Meow!\"\n",
    "\n",
    "# Usage\n",
    "dog = Dog()\n",
    "print(dog.sound())  # Output: Woof!\n",
    "\n",
    "cat = Cat()\n",
    "print(cat.sound())  # Output: Meow!\n"
   ]
  },
  {
   "cell_type": "markdown",
   "id": "6dc835e7-6fba-4bc1-98f8-b44b60efc756",
   "metadata": {},
   "source": [
    "### Modules \n",
    "- **Modules** in Python are Python files with a .py extension. In reality, they are a way to organize functions, classes, and variables in one or more files.\n",
    "- Modules help us manage, reuse ore code across the different modules, and extend as the programs become complex\n",
    "\n",
    "#### Advantages of using a module\n",
    "There are four main advantages to breaking a program into modules:\n",
    "1. **Simplicity:** Modules are focused on a single problem.\n",
    "2. **Maintainability:** Small files are better than large files.\n",
    "3. **Reusability:** Modules reduce duplicate code.\n",
    "4. **Scoping:** Modules have their own namespaces.\n",
    "\n",
    "\n",
    "#### Create a module\n",
    "- When you create a python file in a folder with a function definition or a class, you have essentially created a module\n",
    "- That module or file can later be imported into another file or module so that the new file can gain access to its methods and classes.\n",
    "\n",
    "#### How to import modules\n",
    "- Lets quickly do a demo on creating and importing a module in python.\n",
    "- Create two python files called ***adder.py*** and ***main.py**\n"
   ]
  },
  {
   "cell_type": "markdown",
   "id": "541a0944",
   "metadata": {},
   "source": [
    "#### Python Packages\n",
    "- A Python **Package** is the next level of modular programming. A package is like a folder \n",
    "for organizing multiple modules or sub-packages, which is fundamental for sharing modules for reusability.\n",
    "- One of the reasons Python is so popular is that there are numerous powerful third-party libraries that add functionality. We call these third-party libraries, implemented as a folder, “packages”.\n",
    "- PyPI is a repository or directory of all available third-party packages currently available.\n",
    "- `cowsay` is a well-known package that allows a cow to talk to the user.\n",
    "- Python has a package manager called pip that allows you to install packages quickly onto your system.\n",
    "-[images Here Two Circles nested showing packages and modules]"
   ]
  },
  {
   "cell_type": "code",
   "execution_count": null,
   "id": "12381845",
   "metadata": {},
   "outputs": [],
   "source": [
    "# adder.py\n",
    "def add(x, y):\n",
    "    return x + y\n",
    " \n",
    " \n",
    " \n",
    " #main.py\n",
    " \n",
    "#import adder \n",
    "\n",
    "# Leave the code below unchanged\n",
    "value = add(2, 2)\n",
    "print(value)"
   ]
  },
  {
   "cell_type": "markdown",
   "id": "b2f5bc54",
   "metadata": {},
   "source": [
    "#### Namespaces\n",
    "- A namespace is a collection of names, such as variable names,function names, and class names. Every Python module has its own namespace\n",
    "- To access a name in an imported module from the calling module, type the imported module’s name followed by a dot (.) and the name you want to use:\n",
    "- For example: `<module>.<name>`\n",
    "- The name used to import a module is the same as the module’s file name"
   ]
  },
  {
   "cell_type": "markdown",
   "id": "b61d4127",
   "metadata": {},
   "source": [
    "#### Import Statement Variations\n",
    "- The import statement is flexible. There are two variations that you should know about which are:\n",
    "\n",
    "- `import <module> as <other_name>` : When you import a module this way, the module’s namespace is accessed through `<other_name>` instead of `<module>`.\n",
    "\n",
    "- `from <module> import <name>` : Instead of importing the entire namespace, you can import only a specific name from a module."
   ]
  },
  {
   "cell_type": "markdown",
   "id": "4353f9eb",
   "metadata": {},
   "source": []
  },
  {
   "cell_type": "code",
   "execution_count": null,
   "id": "c6588ecd",
   "metadata": {},
   "outputs": [],
   "source": [
    "import <module> as <other_name>\n",
    "\n",
    "from <module> import <name>\n"
   ]
  },
  {
   "cell_type": "markdown",
   "id": "9643ea09-ff0f-418d-92b2-2103a150e9c2",
   "metadata": {},
   "source": [
    "## 4. API in Python Programming\n",
    "- API stands for Application Programming Interface. \n",
    "- In python programming, *{Everything is an api---operators, functions, classes, methods e.t.c }* and everything is also an object.\n",
    "\n",
    "### Definition\n",
    "- An API, or Application Programming Interface, is a set of rules, protocols, and tools that allows different software applications to communicate with each other. \n",
    "- APIs define how software components should interact, providing a structured way for developers to access functionality or data from other software systems.\n",
    "\n",
    "### Types of APIs\n",
    "- **Internal APIs**\n",
    "  - Built-in Language Functions and Methods: Programming languages often provide built-in functions and methods that serve as APIs for developers to perform common tasks or interact with language-specific features. \n",
    "  - For example, in Python, functions like `print()`, `input()` or methods like `.sort()` for lists are part of the language's API.\n",
    "\n",
    "- **External APIs**\n",
    "These type of APIs esssentailly allow you to connect to the code of others.\n",
    "  - **Libraries**: Libraries in programming are collections of pre-written code that provide functionality for specific tasks or domains. Libraries typically offer APIs that developers can use to access the provided functionality. For instance `numpy`, `request` \n",
    "  \n",
    "  - **Frameworks**: These comprehensive sets of tools, libraries, and best practices that provide a foundation for building software applications. They often expose APIs for developers to extend or customize the framework's behavior. For example, Django and Flask are web frameworks for Python that provide APIs for handling web requests, database interactions, and more.\n",
    "\n",
    "  - **Web APIs**: Web services expose APIs over the internet, allowing different software systems to interact with each other remotely. This interaction typically occurs over standard protocols like HTTP, and the APIs define the structure of requests and responses. Examples of web service APIs include RESTful APIs, SOAP APIs, and GraphQL APIs\n",
    "  - RESTFul APIs e.g Stripe Payment, Google maps, Algolia, Zoom Api, Twitter Api etc\n",
    "  \n"
   ]
  },
  {
   "cell_type": "markdown",
   "id": "6d32a52c-f7f3-4684-aa60-863a8c8bf372",
   "metadata": {},
   "source": [
    "## 5. Understanding Git and Github \n",
    "\n",
    "- Git is a command line tool that will help us with version control in several different ways:\n",
    "- Allowing us to keep track of changes we make to our code by saving snapshots of our code at a given point in time.\n",
    "![gitimage 1](git1.png)\n",
    "- Allowing us to easily synchronize code between different people working on the same project by allowing multiple people to pull information from and push information to a repository stored on the web.\n",
    " ![Git image 2](git2.png)\n",
    "- Allowing us to make changes to and test out code on a different branch without altering our main code base, and then merging the two together.\n",
    "- Allowing us to revert back to earlier versions of our code if we realize we’ve made a mistake.\n",
    "- We used the word repository, which we haven’t explained yet. A **Git repository** is a file location where we’ll store all of the files related to a given project. These can either be remote (stored online) or local (stored on your computer).\n"
   ]
  },
  {
   "cell_type": "markdown",
   "id": "04405095",
   "metadata": {},
   "source": [
    "### Basic Git Command\n",
    "Below are some of the basic Git commands available for managing source code and collaborating with others. Mastering these commands is essential for effective version control and project management with Git and Github.\n",
    "\n",
    "- `git init:` Initializes a new Git repository in the current directory.\n",
    "- `git clone:` Creates a local copy of a remote repository.\n",
    "- `git add:` Adds changes to the staging area in preparation for committing.\n",
    "- `git commit:` Records changes to the repository with a descriptive message.\n",
    "- `git status:` Displays the current state of the repository, including changes and untracked files.\n",
    "- `git push:` Uploads local repository changes to a remote repository.\n",
    "- `git pull:` Fetches changes from a remote repository and merges them into the local repository.\n",
    "- `git branch:` Lists, creates, or deletes branches in the repository.\n",
    "- `git merge:` Combines changes from one branch into another.\n",
    "- `git checkout:` Switches between branches or restores files from a specific commit.\n",
    "- `git log:` Displays a log of commit history, including commit messages and details."
   ]
  },
  {
   "cell_type": "markdown",
   "id": "7d4578f0",
   "metadata": {},
   "source": [
    "### GitHub\n",
    "\n",
    "- GitHub is a web-based platform built on top of Git that provides hosting for Git repositories. It offers a wide range of collaboration features, including issue tracking, code review, project management, and continuous integration.\n",
    "- GitHub serves as a central hub for developers to store, share, and collaborate on projects, making it a popular choice for open-source and private development projects.\n",
    "- visit Github.com for a basic walkthrough"
   ]
  },
  {
   "cell_type": "markdown",
   "id": "b5898a93",
   "metadata": {},
   "source": [
    "## 6. Web Development with Python\n",
    "- The Internet is a global network of computers. \n",
    "- It was invented in the 1960s due to the ***convergence of computing and communication technologies***.\n",
    "\n",
    "> \"People are using the web to build things they have never built or written or drawn or communicated anywhere else\". ***Tim Berners-Lee***\n",
    "\n",
    "- The ***World Wide Web or (Web)*** allows computer users to execute web based applications and to locate and view multi-media based documents on almost any subject over the internet.\n",
    "- The Web was invented by English computer scientist Tim Berners-Lee while at CERN in 1989 and opened to the public in 1991.\n",
    "\n",
    "### How the web work?\n",
    "- Let's start with the most obvious way of using the internet: You visit a website like academind.com\n",
    "- The moment you enter this address in your browser and you hit ENTER, a lot of different things happen:\n",
    "\n",
    "1. The URL gets resolved\n",
    "2. A Request is sent to the server of the website\n",
    "3. The response of the server is parsed\n",
    "4. The page is rendered and displayed\n",
    "Below is a graphical representation of how the web works\n",
    "\n",
    "![How the web works](How-The-Web-Works.png)\n",
    "\n",
    "### Multitier Application Architecture\n",
    "- Web based application are often **multitier applications**. They divide functionality into seperate tiers listed below:\n",
    "1. SERVER SIDE OR BACKEND\n",
    "    - ***Bottom Tier:*** The data tier maintains the applications data.\n",
    "    - ***Business Logic Tier***: The middle tier enforces business rules and ensures the data is reliable before the application updates a database or presents data to users.\n",
    "2. CLIENT SIDE or FRONTEND\n",
    "    - ***Top Tier***: or client tier is the application's user interface which gathers input and display outputs\n",
    "\n",
    "- Below is a graphical representation of the three tier\n",
    "\n",
    "![multi-tier-web-application](Multitier-Application-Architecture.png)\n",
    "\n",
    "### Model View Controller (MVC)\n",
    "MVC which stands for Model-View-Controller. Here's a breakdown of each component:\n",
    "\n",
    "1. Model:\n",
    "\n",
    "The model represents the data and business logic of the application. It encapsulates the application's data structure, rules, and behavior. The model is responsible for managing the data, processing requests, and performing calculations or validations.\n",
    "Examples include classes representing database entities, data structures, algorithms, and business rules.\n",
    "\n",
    "2. View:\n",
    "\n",
    "The view represents the user interface (UI) of the application. It is responsible for presenting the data to the user in a meaningful way and receiving user input. Views can include graphical interfaces, web pages, templates, or any other form of presentation layer.\n",
    "Examples include HTML pages, user interfaces, reports, and visualizations.\n",
    "\n",
    "3. Controller:\n",
    "\n",
    "The controller acts as an intermediary between the model and the view. It receives user input, processes requests, and updates the model or view accordingly. Controllers handle user interactions, trigger actions, and coordinate the flow of data between the model and the view.\n",
    "Examples include classes or functions that handle HTTP requests in web applications, event handlers in graphical interfaces, and routers in server-side frameworks.\n",
    "\n",
    "- The MVC pattern promotes the separation of concerns, allowing developers to modularize and organize their code more effectively. It enhances maintainability, scalability, and reusability by isolating the application's data, presentation, and logic layers. MVC is widely used in web development frameworks, desktop applications, and other software systems to create well-structured and maintainable codebases.\n",
    "\n",
    "### Data Exchange format\n",
    "-This invoves the exchange or communication of data between the client and the server.\n",
    "- There bascially 3 types of data exchange format between the client and the web sserver namely:\n",
    "1. XML\n",
    "2. JSON\n",
    "3. YAML \n",
    "\n",
    "### Endpoints\n",
    "\n",
    "Endpoints are specific URLs (Uniform Resource Locators) or URIs (Uniform Resource Identifiers) that represent resources (such as data or functionalities) within a RESTful API. In a RESTful architecture, endpoints serve as the entry points for clients to interact with the API to perform various operations.\n",
    "\n",
    "Key Characteristics:\n",
    "\n",
    "1. Resource Representation: Each endpoint corresponds to a specific resource or a collection of resources. For example, /users could represent a collection of user resources, and /users/{id} could represent a specific user identified by its unique identifier.\n",
    "\n",
    "2. HTTP Methods: Endpoints support various HTTP methods (e.g., GET, POST, PUT, DELETE) to perform operations on the associated resources. The choice of HTTP method determines the type of operation performed on the resource.\n",
    "\n",
    "3. Uniform Interface: Endpoints adhere to the uniform interface constraint of REST, providing a consistent and standardized way for clients to interact with the API. This uniformity simplifies client-server communication and promotes scalability and flexibility.\n",
    "\n",
    "### CRUD Operations\n",
    "\n",
    "CRUD which stands for Create, Read, Update, and Delete. Here's a breakdown of each component:\n",
    "\n",
    "1. Create:\n",
    "\n",
    "This refers to the operation of creating new data or records within a system. It involves capturing and storing new information in a database or other storage mechanism.\n",
    "Examples include adding a new user to a system, creating a new document, or inserting a new entry into a database table.\n",
    "2. Read:\n",
    "\n",
    "Read involves retrieving and accessing existing data from a system. It allows users or processes to view, search, and retrieve information stored within the system.\n",
    "Examples include viewing a user's profile, reading the contents of a document, or querying a database for specific records.\n",
    "Update:\n",
    "\n",
    "3. Update refers to the operation of modifying existing data within a system. It involves changing or updating the values of specific fields or properties associated with a particular record. Examples include editing a user's profile information, updating the content of a document, or modifying the attributes of a database record.\n",
    "\n",
    "4. Delete:\n",
    "\n",
    "Delete involves removing or deleting existing data from a system. It permanently removes records or information from the system, typically based on specific criteria or user requests. Examples include deleting a user account, removing a document from a system, or deleting a record from a database table.\n",
    "\n",
    "- The CRUD approach is commonly used when designing and implementing systems that involve managing data, such as database-driven applications, web applications, content management systems, and more. It provides a systematic way to describe and implement the fundamental operations needed to manage data within a software system.\n",
    "\n",
    "\n",
    "\n",
    "\n",
    "\n"
   ]
  },
  {
   "cell_type": "markdown",
   "id": "83b0e9c9-94b7-4a41-a85b-6566dd90af30",
   "metadata": {},
   "source": [
    "## 7. The Magic Django Web Framework\n",
    "### What is django?\n",
    "   > “The web framework for perfectionists with deadlines.”\n",
    "- Django is a free, open source web framework written in the Python programming language and used by millions of programmers every year. Its popularity is due to its friendliness to both beginners and advanced programmers: \n",
    "- Django is robust enough to be used by the largest websites in the world–Instagram, Pinterest, Bitbucket,\n",
    "Disqus– but also flexible enough to be a good choice for early-stage startups and prototyping personal projects.\n",
    "- Django is easy to learn, yet powerful and flexible enough to grow with your needs. It is a “batteries-included” framework – in other words, you do not have to find and install many other libraries or components to get your application up and running.\n",
    "- it provides support for common tasks in web development:\n",
    " 1. User authentication\n",
    " 2. templates, routes, and views\n",
    " 3. admin interface\n",
    " 4. robust security\n",
    " 5. support for multiple database backends\n",
    " 6. and much much more\n",
    " \n",
    "### How django works(Model-View-Template)\n",
    "- Django follows the MTV (Model-Template-View) pattern. It is a slightly similar pattern to the well known MVC (Model-View-Controller) pattern, where the Template acts as View and the framework \n",
    "itself acts as the Controller.\n",
    "- The responsibilities in the Django MTV pattern are divided as follows:\n",
    "  1.  Model – Defines the logical data structure and is the data handler between the database and \n",
    "the View.\n",
    "  2. Template – Is the presentation layer. Django uses a plain-text template system that keeps \n",
    "everything that the browser renders.\n",
    "  3. View – Communicates with the database via the Model and transfers the data to the Template \n",
    "for viewing.\n",
    "- The framework itself acts as the Controller. It sends a request to the appropriate view, according to \n",
    "the Django URL configuration.\n",
    "When developing any Django project, you will always work with models, views, templates, and URLs. \n",
    "In this chapter, you will learn how they fit together.\n",
    "\n",
    "\n",
    "### The Django architecture\n",
    "- Django processes request/response cycle is managed with the different main Django components: URLs, views, models, and templates\n",
    "\n",
    "- This is how Django handles HTTP requests and generates responses:\n",
    "  1. A web browser requests a page by its URL and the web server passes the HTTP request to Django.\n",
    "  2. Django runs through its configured URL patterns and stops at the first one that matches the \n",
    "requested URL.\n",
    "  3. Django executes the view that corresponds to the matched URL pattern.\n",
    "  4. The view potentially uses data models to retrieve information from the database.\n",
    "  5. Data models provide the data definition and behaviors. They are used to query the database.\n",
    "  6. The view renders a template (usually HTML) to display the data and returns it with an HTTP \n",
    "response\n",
    "\n",
    "![django-architecture-image](Django-request-response.png)\n",
    "\n",
    "\n",
    "### Basic Django Commands\n",
    "- Just like any other framework django comes with some built in command to be executed in the terminal during development. Below are some of the  basic Django commands and what they do in Django projects:\n",
    "- ***django-admin startproject [project_name]:*** This command creates a new Django project with the specified name.\n",
    "- ***python manage.py runserver:*** This command starts the Django development server.\n",
    "- ***python manage.py startapp [app_name]:*** This command creates a new Django app within the project.\n",
    "- *** python manage.py migrate:*** This command applies pending migrations to the database.\n",
    "- ***python manage.py makemigrations [app_name]:*** This command generates migration files for changes made to Django models.\n",
    "- ***python manage.py createsuperuser:***This command creates a superuser account for accessing the Django admin interface.\n",
    "- ***python manage.py test [app_name]:*** This command runs tests for the specified Django app.\n",
    "\n",
    "\n",
    "### Django Project and Applications Structure\n",
    "\n",
    "- In Django, a project is considered a Django installation with some settings. An application is a group of models, views, templates, and URLs. Applications interact with the framework to provide specific functionalities and may be reused in various projects. You can think of a project as your website, which contains several applications, such as a blog, pages, or forum, that can also be used by other Django projects.\n",
    "\n",
    "- This image below provides and overview of the relationship between project and apps\n",
    "\n",
    "![django app and project structure](Django-project-app-show.png)\n",
    "\n",
    "   "
   ]
  }
 ],
 "metadata": {
  "kernelspec": {
   "display_name": "Python 3 (ipykernel)",
   "language": "python",
   "name": "python3"
  },
  "language_info": {
   "codemirror_mode": {
    "name": "ipython",
    "version": 3
   },
   "file_extension": ".py",
   "mimetype": "text/x-python",
   "name": "python",
   "nbconvert_exporter": "python",
   "pygments_lexer": "ipython3",
   "version": "3.12.2"
  }
 },
 "nbformat": 4,
 "nbformat_minor": 5
}
