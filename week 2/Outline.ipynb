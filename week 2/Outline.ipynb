{
 "cells": [
  {
   "cell_type": "markdown",
   "id": "9bf9c2c1-8f16-41e3-a4c8-cb738f0fbb1c",
   "metadata": {},
   "source": [
    "# Programming with Python II"
   ]
  },
  {
   "cell_type": "markdown",
   "id": "e6282f38-99c6-45fa-b477-b50c09403ce6",
   "metadata": {},
   "source": [
    "## Module Objectives\n",
    "\n",
    "At the end of the training, participants are expected to understand the following programming topics \n",
    "- Structured Programming\n",
    "   - Algorithm \n",
    "   - The Flow of Programs\n",
    "   - Sequential flow\n",
    "   - Selection flow\n",
    "   - Repetition flow\n",
    "     \n",
    "- Data Structures\n",
    "   - List\n",
    "   - Dict\n",
    "   - Tuple\n",
    "\n",
    "- Object Oriented Programming\n",
    "   - Everything is an Object\n",
    "   - Computers see the world as an object\n",
    "   - classes and Objects\n",
    "   - Modules and Packages\n",
    "     \n",
    "- Introduction to APIs\n",
    "   - What is an APIs \n",
    "    *{Everything is an api---operators, functions, classes, methods e.t.c }*\n",
    "\n",
    "   - Types of APIs\n",
    "     - BuiltIn language APIs (Internal)\n",
    "         - Functions\n",
    "         - Keywords\n",
    "         - Modules *(classes, methods)*\n",
    "         - Packages\n",
    " \n",
    "     - Thirdparty APIs (External)\n",
    "         - Libraries\n",
    "         - Frameworks\n",
    "         - Web services etc\n",
    "- How to use APIs\n",
    " \n",
    "  \n",
    "- Understanding Backend Development\n",
    "   - How the web work\n",
    "   - Web Development Architectures\n",
    "   - Data Exchange format\n",
    "   - HTTP, REST and ....\n",
    "     \n",
    "- Understanding Git and Github\n",
    "  \n",
    "- The Django Web Framework\n",
    "   - What is django\n",
    "   - How django works(MVT)\n",
    "   - Django Installation Guide\n",
    "   - Basic Django Commands\n",
    "   - Django Project Structure\n",
    "   - Django Apps and Packages\n",
    "   - Django deployment Option"
   ]
  }
 ],
 "metadata": {
  "kernelspec": {
   "display_name": "Python 3 (ipykernel)",
   "language": "python",
   "name": "python3"
  },
  "language_info": {
   "codemirror_mode": {
    "name": "ipython",
    "version": 3
   },
   "file_extension": ".py",
   "mimetype": "text/x-python",
   "name": "python",
   "nbconvert_exporter": "python",
   "pygments_lexer": "ipython3",
   "version": "3.12.2"
  }
 },
 "nbformat": 4,
 "nbformat_minor": 5
}
