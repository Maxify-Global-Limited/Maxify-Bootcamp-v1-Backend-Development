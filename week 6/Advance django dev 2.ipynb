{
 "cells": [
  {
   "cell_type": "markdown",
   "metadata": {},
   "source": [
    "## Web Application with Django 3\n",
    "### Building a Bookstore Application -- version 2"
   ]
  },
  {
   "cell_type": "markdown",
   "metadata": {},
   "source": [
    "In today's class, we will continue building our online Bookstore application from where we stopped in week 5.\n",
    "\n",
    "We wiil be adding the following features to the app and finally deploying it on `render`.\n",
    "\n",
    "- Search \n",
    "- Pagination \n",
    "- Online Payment Integration\n",
    "- User Permissions & Authorisation\n",
    "- Email SMTP integration (Google Mail)\n",
    "- Whitenoise Static files and Security Setup\n",
    "- Github and Webapplication Deployment with CI/CD"
   ]
  },
  {
   "cell_type": "markdown",
   "metadata": {},
   "source": [
    "#### Django Search\n",
    "**Search** is an essential aspect of the majority of websites, especially those in e-commerce, such as our Bookstore Application. In this section, we will discover how to integrate primary search functionalities using ***forms and filters***.\n",
    "\n",
    "Subsequently, we will enhance it with advanced logic and briefly discuss methods to delve further into search capabilities within Django."
   ]
  },
  {
   "cell_type": "markdown",
   "metadata": {},
   "source": [
    "Let's begin by creating the search results page. This involves setting up a specific web address (URL), a function to handle the page's logic (view), and a design template. \n",
    "\n",
    "The order in which we do this doesn't really make a big difference, but we'll follow this sequence. \n",
    "In the file named` book/urls.py`, include a path for `search/` with a URL name `search_results`, which will be connected to a view named `SearchResultsListView.`"
   ]
  },
  {
   "cell_type": "code",
   "execution_count": null,
   "metadata": {},
   "outputs": [],
   "source": [
    "# books/urls.py\n",
    "\n",
    "from django.urls import path\n",
    "from .views import BookListView, BookDetailView, SearchResultsListView # new\n",
    "\n",
    "\n",
    "urlpatterns = [ \n",
    "...\n",
    "path(\"search/\", SearchResultsListView.as_view(), name=\"search_results\"), # new\n",
    "\n",
    "]"
   ]
  },
  {
   "cell_type": "markdown",
   "metadata": {},
   "source": [
    "Next, we'll work on the view called `SearchResultsListView`. Initially, it will display a list of all the books available. This is a perfect situation to use `ListView`, a built-in feature. \n",
    "\n",
    "We'll create a template called` search_results.html`, which will be placed in the` templates/book/` directory. \n",
    "\n",
    "The only new code we need to add is for `SearchResultsListView`, assuming that we've already imported ListView and the Book model at the beginning of the file."
   ]
  },
  {
   "cell_type": "code",
   "execution_count": null,
   "metadata": {},
   "outputs": [],
   "source": [
    "# books/views.py\n",
    "\n",
    "...\n",
    "class SearchResultsListView(ListView): # new\n",
    "    model = Book\n",
    "    context_object_name = \"book_list\"\n",
    "    template_name = \"book/search_results.html\"\n"
   ]
  },
  {
   "cell_type": "code",
   "execution_count": null,
   "metadata": {
    "vscode": {
     "languageId": "html"
    }
   },
   "outputs": [],
   "source": [
    "{% extends \"base.html\" %}\n",
    "{% load static %}\n",
    "\n",
    "{% block content %}\n",
    "\n",
    "\t\t<!--************************************\n",
    "\t\t\t\tMain Start\n",
    "\t\t*************************************-->\n",
    "\t\t<main id=\"tg-main\" class=\"tg-main tg-haslayout\">\n",
    "\t\t\t<!--************************************\n",
    "\t\t\t\t\tBest Selling Start\n",
    "\t\t\t*************************************-->\n",
    "\t\t\t<section class=\"tg-sectionspace tg-haslayout\">\n",
    "\t\t\t\t<div class=\"container\">\n",
    "\t\t\t\t\t<div class=\"row\">\n",
    "\t\t\t\t\t\t<div class=\"col-xs-12 col-sm-12 col-md-12 col-lg-12\">\n",
    "\t\t\t\t\t\t\t<div class=\"tg-sectionhead\">\n",
    "\t\t\t\t\t\t\t\t<h2><span>Search</span>Results</h2>\n",
    "\t\t\t\t\t\t\t\t<a class=\"tg-btn\" href=\"javascript:void(0);\">View All</a>\n",
    "\t\t\t\t\t\t\t</div>\n",
    "\t\t\t\t\t\t</div>\n",
    "\t\t\t\t\t\t<div class=\"col-xs-12 col-sm-12 col-md-12 col-lg-12\">\n",
    "\t\t\t\t\t\t\t<div id=\"tg-bestsellingbooksslider\" class=\"tg-bestsellingbooksslider tg-bestsellingbooks owl-carousel\">\n",
    "                            {% for book in book_list %}\n",
    "\t\t\t\t\t\t\t\t<div class=\"item\">\n",
    "\t\t\t\t\t\t\t\t\t<div class=\"tg-postbook\">\n",
    "\t\t\t\t\t\t\t\t\t\t<figure class=\"tg-featureimg\">\n",
    "\t\t\t\t\t\t\t\t\t\t\t<div class=\"tg-bookimg\">\n",
    "\t\t\t\t\t\t\t\t\t\t\t\t<div class=\"tg-frontcover\"><img src=\"{{ book.cover.url }}\" alt=\"image description\"></div>\n",
    "\t\t\t\t\t\t\t\t\t\t\t\t<div class=\"tg-backcover\"><img src=\"{{book.cover.url}}\" alt=\"image description\"></div>\n",
    "\t\t\t\t\t\t\t\t\t\t\t</div>\n",
    "\t\t\t\t\t\t\t\t\t\t\t\n",
    "\t\t\t\t\t\t\t\t\t\t</figure>\n",
    "\t\t\t\t\t\t\t\t\t\t<div class=\"tg-postbookcontent\">\n",
    "\t\t\t\t\t\t\t\t\t\t\t<ul class=\"tg-bookscategories\">\n",
    "                                             {% for genre in book.genre.all%}\n",
    "\t\t\t\t\t\t\t\t\t\t\t\t<li><a href=\"javascript:void(0);\">{{genre}}</a></li>\n",
    "                                                {%endfor %}\n",
    "\t\t\t\t\t\t\t\t\t\t\t</ul>\n",
    "\t\t\t\t\t\t\t\t\t\t\t<div class=\"tg-themetagbox\"><span class=\"tg-themetag\">sale</span></div>\n",
    "\t\t\t\t\t\t\t\t\t\t\t<div class=\"tg-booktitle\">\n",
    "\t\t\t\t\t\t\t\t\t\t\t\t<h3><a href=\"javascript:void(0);\">{{book.title}}</a></h3>\n",
    "\t\t\t\t\t\t\t\t\t\t\t</div>\n",
    "\t\t\t\t\t\t\t\t\t\t\t<span class=\"tg-bookwriter\">By: <a href=\"javascript:void(0);\">{{book.author}}</a></span>\n",
    "\t\t\t\t\t\t\t\t\t\t\t\n",
    "\t\t\t\t\t\t\t\t\t\t\t<span class=\"tg-bookprice\">\n",
    "\t\t\t\t\t\t\t\t\t\t\t\t<ins>{{book.price}}</ins>\n",
    "\t\t\t\t\t\t\t\t\t\t\t\t<del>$27.20</del>\n",
    "\t\t\t\t\t\t\t\t\t\t\t</span>\n",
    "\t\t\t\t\t\t\t\t\t\t\t<a class=\"tg-btn tg-btnstyletwo\" href=\"{% url 'book_detail' book.pk %}\">\n",
    "\t\t\t\t\t\t\t\t\t\t\t\t<i class=\"bi bi-eye\"></i>\n",
    "\t\t\t\t\t\t\t\t\t\t\t\t<em>View Details</em>\n",
    "\t\t\t\t\t\t\t\t\t\t\t</a>\n",
    "\t\t\t\t\t\t\t\t\t\t</div>\n",
    "\t\t\t\t\t\t\t\t\t</div>\n",
    "\t\t\t\t\t\t\t\t</div>\n",
    "\t\t\t\t\t\t\t\t{% endfor %}\n",
    "\t\t\t\t\t\t\t\t\n",
    "\t\t\t\t\t\t\t</div>\n",
    "\t\t\t\t\t\t</div>\n",
    "\t\t\t\t\t</div>\n",
    "\t\t\t\t</div>\n",
    "\t\t\t</section>\n",
    "\t\t\t<!--************************************\n",
    "\t\t\t\t\tBest Selling End\n",
    "\t\t\t*************************************-->\n",
    "\t\t\n",
    "\t\t\n",
    "\t\t\n",
    "\t\t\n",
    "\t\t\t\n",
    "\t\t\t\n",
    "\t\t</main>\n",
    "\t\t<!--************************************\n",
    "\t\t\t\tMain End\n",
    "\t\t*************************************-->\n",
    "{% endblock content %}"
   ]
  },
  {
   "cell_type": "markdown",
   "metadata": {},
   "source": [
    "##### Search Form\n",
    "Let’s add a basic search form to the base template so it is available on every page. That means\n",
    "updating the base.html template."
   ]
  },
  {
   "cell_type": "code",
   "execution_count": null,
   "metadata": {
    "vscode": {
     "languageId": "html"
    }
   },
   "outputs": [],
   "source": [
    "<!-- templates/base.html -->\n",
    "\n",
    "<form class=\"tg-formtheme tg-formsearch\" action=\"{% url 'search_results' %}\" method=\"get\"> \n",
    "    <fieldset>\n",
    "\n",
    "        <input type=\"search\" name=\"q\" class=\"typeahead form-control\" placeholder=\"Search by title or author's name\"> \n",
    "\n",
    "        <button type=\"submit\" class=\"tg-btn\">Search</button>\n",
    "\n",
    "        \n",
    "    </fieldset>\n",
    "    <a href=\"javascript:void(0);\">+  Advanced Search</a>\n",
    "</form>"
   ]
  },
  {
   "cell_type": "code",
   "execution_count": null,
   "metadata": {},
   "outputs": [],
   "source": [
    "# books/views.py\n",
    "from django.db.models import Q\n",
    "\n",
    "\n",
    "class SearchResultsListView(ListView):\n",
    "\n",
    "    ...\n",
    "    def get_queryset(self): # new\n",
    "        query = self.request.GET.get(\"q\")\n",
    "        \n",
    "        return Book.objects.filter(Q(title__icontains=query))\n"
   ]
  },
  {
   "cell_type": "markdown",
   "metadata": {},
   "source": [
    "#### Django Pagination\n",
    "Django provides high-level and low-level ways to help you manage paginated data – that is, data that’s split across several pages, with “Previous/Next” links.\n",
    "\n",
    "##### The Paginator class\n",
    "Under the hood, all methods of pagination use the` Paginator` class. It does all the heavy lifting of actually splitting a `QuerySet` into `Page objects`.\n",
    "\n",
    "##### Paginating a ListView\n",
    "`django.views.generic.list.ListView` provides a builtin way to paginate the displayed list. You can do this by adding a `paginate_by` attribute to your view class.\n",
    "\n",
    "for example:\n",
    "\n"
   ]
  },
  {
   "cell_type": "code",
   "execution_count": null,
   "metadata": {},
   "outputs": [],
   "source": [
    "#This is just an example(Dont add to your code)\n",
    "\n",
    "from django.views.generic import ListView\n",
    "from myapp.models import Contact\n",
    "\n",
    "\n",
    "class ContactListView(ListView):\n",
    "    paginate_by = 2\n",
    "    model = Contact"
   ]
  },
  {
   "cell_type": "markdown",
   "metadata": {},
   "source": [
    "This limits the number of objects per page and adds a `paginator` and `page_obj` to the `context`. To allow your users to navigate between pages, add links to the` next` and` previous` page, in your template like this:"
   ]
  },
  {
   "cell_type": "code",
   "execution_count": null,
   "metadata": {
    "vscode": {
     "languageId": "html"
    }
   },
   "outputs": [],
   "source": [
    "<!-- templates/home.html -->\n",
    "\n",
    "<div class=\"container-fluid\">\n",
    "    <diV class=\"row\">\n",
    "        <div class=\"col-12 \">\n",
    "            {% if is_paginated %}\n",
    "          <div class=\"card\">\n",
    "              <div class=\"card-body mx-auto\">\n",
    "              <nav aria-label=\"Page navigation example\">\n",
    "                  <ul class=\"pagination\">\n",
    "                      {% if page_obj.has_previous %}\n",
    "                      <li class=\"page-item\"><a class=\"page-link\" href=\"?page={{page_obj.prebious_page_number}}\">Previous</a></li>\n",
    "                      {% endif %}\n",
    "                      {% for number in page_obj.paginator.page_range %}\n",
    "                      <li class=\"page-item\"><a class=\"page-link\" href=\"?page={{number}}\">{{number}}</a></li>\n",
    "                      {% endfor %}\n",
    "                      {% if page_obj.has_next %}\n",
    "                      <li class=\"page-item\"><a class=\"page-link\" href=\"?page={{page_obj.prebious_page_number}}\">Next</a></li>\n",
    "                      {% endif %}\n",
    "                  </ul>\n",
    "              </nav>\n",
    "          </div>\n",
    "          \n",
    "          {% endif %}\n",
    "        </div>\n",
    "    </div>\n",
    "</diV>"
   ]
  },
  {
   "cell_type": "markdown",
   "metadata": {},
   "source": [
    "#### Payment Integration (Monnify)\n",
    "\n",
    "In this section, we will be integrating payments into our bookstore application. This allows users to make payment directly from our website using their card, USSD, tranfers in collaborating with payment infrastructure companies etc\n",
    "\n",
    "There are many payment provider we can use to initiate online payments. Some of the providers are listed as follows;\n",
    "\n",
    "- Stripe\n",
    "- Paypal\n",
    "- Paystack\n",
    "- Flutterwave\n",
    "- Monnify\n",
    "- braintree etc\n",
    "\n",
    "For this bookstore app will be integrating with `monnify`. They are work in similar ways so it doesn't matter which provider we chose to use"
   ]
  },
  {
   "cell_type": "markdown",
   "metadata": {},
   "source": [
    "##### Bellow are the steps to integrating monnify payment into our App\n",
    "\n",
    "- Visit the monnify website and create an account.\n",
    "- In your dashboard, Under the developer tab, you wiil see your Test API and SECRET KEY\n",
    "- Copy them in your Django project` settings.py` file as Settings variable\n",
    "- Next, Install the Monnify Checkout Page to our website \n",
    "\n",
    "Lets add the following code into our project step by step"
   ]
  },
  {
   "cell_type": "raw",
   "metadata": {},
   "source": [
    "<!-- .env -->\n",
    "\n",
    "\n",
    "MONNIFY_SECRET_KEY=VYHPHKM2D55NB3NB7YTC30QPRJB7CY8B\n",
    "MONNIFY_API_KEY=MK_TEST_FA25GM45T3"
   ]
  },
  {
   "cell_type": "code",
   "execution_count": null,
   "metadata": {},
   "outputs": [],
   "source": [
    "# bookstore_settings.py\n",
    "\n",
    "MONNIFY_SECRET_KEY= env(\"MONNIFY_SECRET_KEY\")\n",
    "MONNIFY_API_KEY = env(\"MK_TEST_FA25GM45T3\")"
   ]
  },
  {
   "cell_type": "code",
   "execution_count": null,
   "metadata": {},
   "outputs": [],
   "source": [
    "# book/views.py\n",
    "from bookstore_project.settings import MONNIFY_SECRET_KEY, MONNIFY_API_KEY \n",
    "\n",
    "\n",
    "\n",
    "class HomeDetailView(DetailView):\n",
    "    \n",
    "    ...\n",
    "    def get_context_data(self, **kwargs):\n",
    "        context = super().get_context_data(**kwargs)\n",
    "        queryset = Book.objects.all()\n",
    "           \n",
    "        context.update({\n",
    "                \"book_list\": queryset,\n",
    "                \"MONNIFY_SECRET_KEY\": MONNIFY_SECRET_KEY,\n",
    "                \"MONNIFY_API_KEY\": MONNIFY_API_KEY\n",
    "                \n",
    "            })\n",
    "        return context"
   ]
  },
  {
   "cell_type": "code",
   "execution_count": null,
   "metadata": {
    "vscode": {
     "languageId": "html"
    }
   },
   "outputs": [],
   "source": [
    "<!-- templates/base.html -->\n",
    "\n",
    "<script type=\"text/javascript\" src=\"https://sdk.monnify.com/plugin/monnify.js\"></script>\n",
    "<script src=\"https://code.jquery.com/jquery-3.1.1.min.js\"> "
   ]
  },
  {
   "cell_type": "code",
   "execution_count": null,
   "metadata": {
    "vscode": {
     "languageId": "html"
    }
   },
   "outputs": [],
   "source": [
    "<!-- templates/book/book_detail.html -->\n",
    "\n",
    "\n",
    "<script>\n",
    "\n",
    "    // Generate A CSRF Cookie\n",
    "    function getCookie(name) {\n",
    "        let cookieValue = null;\n",
    "        if (document.cookie && document.cookie !== '') {\n",
    "            const cookies = document.cookie.split(';');\n",
    "            for (let i = 0; i < cookies.length; i++) {\n",
    "                const cookie = cookies[i].trim();\n",
    "                // Does this cookie string begin with the name we want?\n",
    "                if (cookie.substring(0, name.length + 1) === (name + '=')) {\n",
    "                    cookieValue = decodeURIComponent(cookie.substring(name.length + 1));\n",
    "                    break;\n",
    "                    }\n",
    "                }\n",
    "            }\n",
    "            return cookieValue;\n",
    "        }       \n",
    "    const csrftoken = getCookie('csrftoken');\n",
    "    console.log('csrftoken===>', csrftoken)\n",
    "\n",
    "\n",
    "    // Get Data from Django detail page\n",
    "    var grand_total = \"{{ book.price }}\"\n",
    "   \n",
    "   \n",
    "      \n",
    "    // MONNIFY FUNCTION : Handles the payment process\n",
    "\n",
    "    var paymentDiv = document.getElementById('paymentDiv');  // Get the clicked element\n",
    "    paymentDiv.addEventListener('submit', payWithMonnify, false); // Append an event listener\n",
    "        function payWithMonnify() {                               // Call Monnify Api\n",
    "            MonnifySDK.initialize({\n",
    "                amount: grand_total,\n",
    "                currency: \"NGN\",\n",
    "                reference: new String((new Date()).getTime()),\n",
    "                customerFullName: \"{{user.username}}\",\n",
    "                customerEmail: \"{{user.email}}\",\n",
    "                apiKey: \"{{MONNIFY_API_KEY}}\",\n",
    "                contractCode: \"0680159477\",\n",
    "                paymentDescription: \"payment for {{book.title}} book\",\n",
    "                metadata: {\n",
    "                    \"name\": \"{{book.title}}\",\n",
    "                },\n",
    "                onLoadStart: () => {\n",
    "                    console.log(\"loading has started\");\n",
    "                },\n",
    "                onLoadComplete: () => {\n",
    "                    console.log(\"SDK is UP\");\n",
    "                },\n",
    "\n",
    "                onComplete: (response) => {\n",
    "\n",
    "                    //Implement what happens when the transaction is completed.\n",
    "                    let transaction_id = response.paymentReference;\n",
    "                    let status = response.status\n",
    "                    console.log(response); // log response to console\n",
    "                    \n",
    "                    const element = document.getElementById('monnify-button');\n",
    "                    element.innerHTML = '';\n",
    "                    element.innerHTML = '<h6 class=\"text-center text-white\" ><i class=\"fa fa-spinner fa-spin\"></i> Please wait...</h6>';\n",
    "                    \n",
    "                    // Invoke the Redirect Function\n",
    "                    redirect(response.status)\n",
    "                    \n",
    "                },\n",
    "                onClose: function(data) {\n",
    "\n",
    "                    //Implement what should happen when the modal is closed here\n",
    "                    console.log(data);\n",
    "                    alert(\"Payment Cancelled\")\n",
    "                }\n",
    "            });\n",
    "        }\n",
    "\n",
    "\n",
    "    // Function to Handle Alert and Page Redirect after payment\n",
    "\n",
    "    function redirect(response_status = \"SUCCESS\") {\n",
    "\n",
    "        if (response_status === \"SUCCESS\") {\n",
    "\n",
    "            alert(response_status);\n",
    "            window.location.href = \"https://drive.google.com/file/d/1-ehG-4yk6hfdtqmo2-0DydSJxClYtlJy/view?usp=sharing\"; //Downloadpage Upon Successful\n",
    "\n",
    "        } else {\n",
    "            alert(response_status);\n",
    "            window.location.href = \"{% url 'book_detail' book.pk %}\"; // Book Detail page when unsuccessful\n",
    "        }\n",
    "    }\n",
    "\n",
    "\n",
    "</script>\n"
   ]
  },
  {
   "cell_type": "markdown",
   "metadata": {},
   "source": [
    "#### Authorisation\n",
    "\n",
    "Note that authorisation is different than authentication which is the process of registering\n",
    "and logging-in users.\n",
    "\n",
    "Authorization restricts access; authentication enables a user sign up and log in flow\n",
    "Now we will like to restrict users of our bookstore app to access to the book detail page or screen. \n",
    "\n",
    "To do this we will make use of django `Mixins`; which is a special kind of multiple inheritance that Django uses to avoid duplicate code and still allow customization.\n",
    "\n",
    "To restrict detail view access to only logged in users, Django has a `LoginRequiredmixin` that we can use. \n",
    "\n",
    "In the `book/views.py` file, import `LoginRequiredMixin` at the top and then it add to the\n",
    "`BookDetailView`.\n",
    "\n",
    " Make sure that the mixin is to the left of `DetailView` so it will be read first."
   ]
  },
  {
   "cell_type": "code",
   "execution_count": null,
   "metadata": {},
   "outputs": [],
   "source": [
    "# book/views.py\n",
    "\n",
    "from django.contrib.auth.mixins import LoginRequiredMixin\n",
    "\n",
    "class HomeDetailView(LoginRequiredMixin, DetailView):\n",
    "    model = Book\n",
    "    template_name= \"book/book_detail.html\"\n",
    "   \n",
    "    \n",
    "    \n",
    "    def get_context_data(self, **kwargs):\n",
    "        context = super().get_context_data(**kwargs)\n",
    "        queryset = Book.objects.all()\n",
    "           \n",
    "        context.update({\n",
    "                \"book_list\": queryset,\n",
    "                \"MONNIFY_SECRET_KEY\": MONNIFY_SECRET_KEY,\n",
    "                \"MONNIFY_API_KEY\": MONNIFY_API_KEY,\n",
    "                # \"FLWPUBK_TEST\": FLWPUBK_TEST\n",
    "                \n",
    "            })\n",
    "        return context\n"
   ]
  },
  {
   "cell_type": "markdown",
   "metadata": {},
   "source": [
    "#### GMAIL SMTP integration\n",
    "\n",
    "SMTP stands for ***Simple Mail Transfer Protocol*** (SMTP)\n",
    "\n",
    "SMTP is the email protocol that allows you to send messages from one email account to one or more email addresses. Without it, email communication would not exist. Why?\n",
    "\n",
    "An email protocol is a combination of parameters and rules for the exchange of information between email accounts. SMTP is used to communicate between servers and establish which servers receive or route your messages. It’s the most commonly used protocol for outgoing emails.\n",
    "\n",
    "To configure Gmail as a provide, We take the following step to generate an app password from google.\n",
    "\n",
    "- Make sure you enable 2FA Account in your Google acoount\n",
    "- Log into your Google Account\n",
    "- Follow this link https://myaccount.google.com/apppasswords to create an App Passowrd\n",
    "- Next past your email address and app password into the config settting below in your `settings.py` file"
   ]
  },
  {
   "cell_type": "code",
   "execution_count": null,
   "metadata": {},
   "outputs": [],
   "source": [
    "# bookstore_project\n",
    "\n",
    "\n",
    "# EMAIL_BACKEND = \"django.core.mail.backends.console.EmailBackend\"\n",
    "EMAIL_BACKEND = 'django.core.mail.backends.smtp.EmailBackend'\n",
    "\n",
    "EMAIL_HOST = \"smtp.gmail.com\"\n",
    "EMAIL_PORT = \"587\"\n",
    "EMAIL_USE_TLS = True\n",
    "EMAIL_HOST_USER =\"jamezslim90@gmail.com\"\n",
    "EMAIL_HOST_PASSWORD=\"boiyhaxzidarokpp\"\n",
    "DEFAULT_FROM_EMAIL = 'BookStore Online  <jamezslim90@gmail.com>'\n",
    "                       "
   ]
  },
  {
   "cell_type": "markdown",
   "metadata": {},
   "source": [
    "And we're done. Our app will be now be able to send email notifications to users e.g during sign up and forget password flow."
   ]
  },
  {
   "cell_type": "markdown",
   "metadata": {},
   "source": [
    "#### Pushing to GitHub\n",
    "\n",
    "Next is we push our code to GitHub using the following Commands and the desktop interface."
   ]
  },
  {
   "cell_type": "code",
   "execution_count": null,
   "metadata": {
    "vscode": {
     "languageId": "shellscript"
    }
   },
   "outputs": [],
   "source": [
    "git init\n",
    "git status\n",
    "git add .\n",
    "git commit -m \"Initial Commit\"\n"
   ]
  },
  {
   "cell_type": "markdown",
   "metadata": {},
   "source": [
    "#### Deploying Django on Render\n",
    "To prepare our Django project for production on `Render,` we’ll make a couple adjustments to its configuration:\n",
    "\n",
    "##### Setting up Static Files\n",
    "- Add WhiteNoise as a dependency"
   ]
  },
  {
   "cell_type": "code",
   "execution_count": null,
   "metadata": {
    "vscode": {
     "languageId": "shellscript"
    }
   },
   "outputs": [],
   "source": [
    "pip install whitenoise\n",
    "pip freeze > requirements.txt"
   ]
  },
  {
   "cell_type": "markdown",
   "metadata": {},
   "source": [
    "- Open `settings.py` in your project’s main directory \n",
    "\n",
    "Add the following to the `MIDDLEWARE` list, immediately after `SecurityMiddleware`"
   ]
  },
  {
   "cell_type": "code",
   "execution_count": null,
   "metadata": {},
   "outputs": [],
   "source": [
    "MIDDLEWARE = [\n",
    "    'django.middleware.security.SecurityMiddleware',\n",
    "    'whitenoise.middleware.WhiteNoiseMiddleware', #new\n",
    "    ...\n",
    "]"
   ]
  },
  {
   "cell_type": "markdown",
   "metadata": {},
   "source": [
    "Make the following modifications in `bookstore/settings.py`"
   ]
  },
  {
   "cell_type": "code",
   "execution_count": null,
   "metadata": {},
   "outputs": [],
   "source": [
    "\n",
    "    \n",
    "STATICFILES_DIRS = [BASE_DIR / \"static\"]\n",
    "\n",
    "# http://whitenoise.evans.io/en/stable/django.html#add-compression-and-caching-support\n",
    "# STATICFILES_STORAGE = \"whitenoise.storage.CompressedManifestStaticFilesStorage\"\n",
    "STATICFILES_STORAGE = \"whitenoise.storage.CompressedStaticFilesStorage\"\n",
    "STATIC_ROOT = BASE_DIR / \"staticfiles\"\n",
    "WHITENOISE_MANIFEST_STRICT = False"
   ]
  },
  {
   "cell_type": "markdown",
   "metadata": {},
   "source": [
    "##### Create a Build Script\n",
    "\n",
    "- Create a new file called `build.sh` in your project’s root directory and paste in the following:"
   ]
  },
  {
   "cell_type": "code",
   "execution_count": null,
   "metadata": {
    "vscode": {
     "languageId": "shellscript"
    }
   },
   "outputs": [],
   "source": [
    "#!/usr/bin/env bash\n",
    "# Exit on error\n",
    "set -o errexit\n",
    "\n",
    "# Modify this line as needed for your package manager (pip, poetry, etc.)\n",
    "pip install -r requirements.txt\n",
    "\n",
    "# Convert static asset files\n",
    "python manage.py collectstatic --no-input\n",
    "\n",
    "# Apply any outstanding database migrations\n",
    "python manage.py migrate\n"
   ]
  },
  {
   "cell_type": "markdown",
   "metadata": {},
   "source": [
    "- We’ll run your project with `Uvicorn` and `Gunicorn`. Add these dependencies to your project:"
   ]
  },
  {
   "cell_type": "code",
   "execution_count": null,
   "metadata": {
    "vscode": {
     "languageId": "shellscript"
    }
   },
   "outputs": [],
   "source": [
    "pip install gunicorn uvicorn\n",
    "pip freeze > requirements.txt"
   ]
  },
  {
   "cell_type": "markdown",
   "metadata": {},
   "source": [
    "- Try running your project locally!"
   ]
  },
  {
   "cell_type": "code",
   "execution_count": null,
   "metadata": {
    "vscode": {
     "languageId": "shellscript"
    }
   },
   "outputs": [],
   "source": [
    "python -m gunicorn bookstore_project.asgi:application -k uvicorn.workers.UvicornWorker"
   ]
  },
  {
   "cell_type": "markdown",
   "metadata": {},
   "source": [
    "- Commit all changes and push them to your repository. Your project is ready to deploy to Render!"
   ]
  },
  {
   "cell_type": "markdown",
   "metadata": {},
   "source": [
    "##### Create A Manual Deploy on Render\n",
    "\n",
    "- `Go to the render.com and create an account. Navaigate to dashboard`\n",
    "- Create a new web service on Render, pointing it to your project’s GitHub/GitLab repository (give Render permission to access it if you haven’t already).\n",
    "- Select Python for the runtime and set the following properties (replace mysite with your project’s name):\n"
   ]
  },
  {
   "cell_type": "code",
   "execution_count": null,
   "metadata": {
    "vscode": {
     "languageId": "shellscript"
    }
   },
   "outputs": [],
   "source": [
    "Build Command :  sh build.sh\n",
    "Start Command : gunicorn bookstore_project.wsgi"
   ]
  }
 ],
 "metadata": {
  "language_info": {
   "name": "python"
  }
 },
 "nbformat": 4,
 "nbformat_minor": 2
}
