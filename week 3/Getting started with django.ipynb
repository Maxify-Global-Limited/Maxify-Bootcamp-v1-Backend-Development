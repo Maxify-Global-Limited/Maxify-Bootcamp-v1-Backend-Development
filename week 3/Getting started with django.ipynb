{
 "cells": [
  {
   "cell_type": "markdown",
   "metadata": {},
   "source": [
    "# Django Development:\n",
    "## Building Application with Django"
   ]
  },
  {
   "cell_type": "markdown",
   "metadata": {},
   "source": [
    "### 1.0 Introduction: How to Generate a Django Project\n",
    "The project will be simple, but it will expose the foundations needed to begin your Django journey. We’ll want to keep it on hand as a reference project, one that we go back to on later projects to remind ourselves how the basics are done.\n",
    "\n",
    "#### What’s a Dependency?\n",
    "- A **dependency** is a package that a project requires in order to run. In our case, the only dependency we will need to install is Django.\n",
    "\n",
    "#### Set up a Virtual Environment?\n",
    "- A virtual environment helps us install Python modules in an isolated location rather than installing them globally. Each virtual environment has its own Python binary and can have its own independent set of installed Python packages in its site directories.\n",
    "\n",
    "Create and activate a ***hellodjango*** conda environment. First, we’ll need access to the command line interface using mac or windows depending on your OS:\n",
    "  - Windows: Open the Start Menu and choose Anaconda\n",
    "Prompt and type to command below:.\n",
    "  -  Mac: Open a terminal window. In the terminal window, type the following command:\n"
   ]
  },
  {
   "cell_type": "markdown",
   "metadata": {},
   "source": [
    "> `conda create -n hellodjango python=3.9`"
   ]
  },
  {
   "cell_type": "markdown",
   "metadata": {},
   "source": [
    "The screen will then display a message that should look similar to this:\n",
    "\n",
    "> `The following NEW packages will be INSTALLED:\n",
    "<snip for brevity>\n",
    "Proceed ([y]/n)?`\n",
    "\n",
    "Type y and hit return.\n",
    "Depending on our computer, internet speed, and if we have done this before, the computer will process for 5 seconds to 5 minutes,\n",
    "then return us to the command-line.\n",
    "Once that’s done, we type this at the command-line:\n",
    "\n",
    "> `conda activate hellodjango`"
   ]
  },
  {
   "cell_type": "markdown",
   "metadata": {},
   "source": [
    "After that, our command-line should look like something like:\n",
    "\n",
    "> `(hellodjango) `\n",
    "\n",
    "If it’s not exactly what we see above, that’s okay. Just so long as it’s prefixed with (hellodjango), then it’s been done correctly. For the rest of this course, we should always keep the hellodjango conda environment active.\n"
   ]
  },
  {
   "cell_type": "markdown",
   "metadata": {},
   "source": [
    "#### Install Django\n",
    "- Django is hosted on the Python Package Index (PyPI) 13, a central repository for most Python packages. We will use pip, the most popular package installer, which comes included with Python 3. \n",
    "- To install the latest version of Django use the command `python -m pip install django∼=4.0.0`\n",
    "- The comparison operator ∼= ensures that subsequent security updates for Django, such as 4.0.1,\n",
    "4.0.2, and so on are automatically installed.\n",
    "-  Note that while it is possible to use the shorter version of `pip install <package>`, it is a best practice to use the longer but more explicit form of `python-m pip install <package>` to ensure that the correct version of Python is used. This can be an\n",
    "issue if you have multiple versions of Python installed on your computer."
   ]
  },
  {
   "cell_type": "code",
   "execution_count": null,
   "metadata": {
    "vscode": {
     "languageId": "shellscript"
    }
   },
   "outputs": [],
   "source": [
    "python -m pip install django~=4.0.0"
   ]
  },
  {
   "cell_type": "markdown",
   "metadata": {},
   "source": [
    "- We have installed Django and its dependencies. This gave us a tool called `django-admin`, which lets us run management commands.\n",
    "- Now, let's create a django project with the `django-admin` command."
   ]
  },
  {
   "cell_type": "markdown",
   "metadata": {},
   "source": [
    "#### First Django Project\n",
    "- First, let’s make certain we are within the hellodjango conda environment. To do this, check that the command-line is prefixed\n",
    "with `hellodjango`. Once we’ve done that, type the following:\n"
   ]
  },
  {
   "cell_type": "markdown",
   "metadata": {},
   "source": [
    "`django-admin startproject hellodjango .`"
   ]
  },
  {
   "cell_type": "markdown",
   "metadata": {},
   "source": [
    "- This creates a minimal Django project called hellodjango\n",
    "- Creating a django project without adding a period (.) at the end of the command creates a redundant duplicate folder"
   ]
  },
  {
   "cell_type": "markdown",
   "metadata": {},
   "source": [
    "#### Anatomy of a Django project\n",
    "Open the newly-created project in Visual Studio Code. At the command-line, type:\n",
    "\n",
    "- `code hellodjango`\n",
    "\n",
    "Take a look at the files that were created. We should see a file structure that looks like this;\n",
    "\n",
    "![django-bare-bone](img/django-bare-bone-project.jpeg)"
   ]
  },
  {
   "cell_type": "markdown",
   "metadata": {},
   "source": [
    "Now let’s confirm everything is working by running Django’s internal web server via the `runserver `command. This is suitable for local development purposes, but when it comes time to deploy our project’s online we will switch to a more robust WSGI server like **Gunicorn**."
   ]
  },
  {
   "cell_type": "markdown",
   "metadata": {},
   "source": [
    "`python manage.py runserver`"
   ]
  },
  {
   "cell_type": "markdown",
   "metadata": {},
   "source": [
    "![hello-django](img/hello-django.jpeg)"
   ]
  },
  {
   "cell_type": "markdown",
   "metadata": {},
   "source": [
    "##### The `manage.py` file\n",
    "\n",
    "This `manage.py` module is something we call to run various Django commands that we’ll be teaching during this project and other projects to follow."
   ]
  },
  {
   "cell_type": "markdown",
   "metadata": {},
   "source": [
    "##### The ***hellodjango*** project folder\n",
    "***hellodjango/:*** This is the Python package for your project, which consists of the following files:\n",
    "-  __init__.py: An empty file that tells Python to treat the mysite directory as a Python \n",
    "module.\n",
    "- asgi.py: This is the configuration to run your project as an Asynchronous Server Gateway Interface (ASGI) application with ASGI-compatible web servers. ASGI is the emerging Python standard for asynchronous web servers and applications.\n",
    "- settings.py: This indicates settings and configuration for your project and contains \n",
    "initial default settings.\n",
    "- urls.py: This is the place where your URL patterns live. Each URL defined here is \n",
    "mapped to a view.\n",
    "- wsgi.py: This is the configuration to run your project as a Web Server Gateway Interface (WSGI) application with WSGI-compatible web servers.\n",
    "\n"
   ]
  },
  {
   "cell_type": "markdown",
   "metadata": {},
   "source": [
    "#### The Project Settings\n",
    "\n",
    "The `settings.py` module is much larger than the manage.py module. It’s where we can globally change Django’s behavior via settings. These settings are special variables identified by their UPPERCASE nature. In Django this is more than just a convention, all formally defined settings must be UPPERCASE and are considered to be constants.\n",
    "\n",
    "Let’s review some of the project settings:\n",
    "- **DEBUG** is a Boolean that turns the debug mode of the project on and off. If it is set to True, Django \n",
    "will display detailed error pages when an uncaught exception is thrown by your application. \n",
    "When you move to a production environment, remember that you have to set it to False. \n",
    "Never deploy a site into production with DEBUG turned on because you will expose sensitive \n",
    "project-related data.\n",
    "- **ALLOWED_HOSTS** is not applied while debug mode is on or when the tests are run. Once you \n",
    "move your site to production and set DEBUG to False, you will have to add your domain/host \n",
    "to this setting to allow it to serve your Django site.\n",
    "- **INSTALLED_APPS** is a setting you will have to edit for all projects. This setting tells Django which \n",
    "applications are active for this site. By default, Django includes the following applications:\n",
    "  1. django.contrib.admin: An administration site\n",
    "  2. django.contrib.auth: An authentication framework\n",
    "When you have to deal with multiple environments that require different configurations, \n",
    "you can create a different settings file for each environment.\n",
    "  3. django.contrib.contenttypes: A framework for handling content types\n",
    "  4. django.contrib.sessions: A session framework\n",
    "  5. django.contrib.messages: A messaging framework\n",
    "  6. django.contrib.staticfiles: A framework for managing static files\n",
    "\n",
    "- **MIDDLEWARE** is a list that contains middleware to be executed.\n",
    "- **ROOT_URLCONF** indicates the Python module where the root URL patterns of your application \n",
    "are defined.\n",
    "- **DATABASES** is a dictionary that contains the settings for all the databases to be used in the project. \n",
    "There must always be a default database. The default configuration uses an SQLite3 database.\n",
    "- **LANGUAGE_CODE** defines the default language code for this Django site.\n",
    "- **USE_TZ** tells Django to activate/deactivate timezone support. Django comes with support for \n",
    "timezone-aware datetimes. This setting is set to True when you create a new project using the \n",
    "startproject management command."
   ]
  },
  {
   "cell_type": "markdown",
   "metadata": {},
   "source": [
    "#### Creating a Database\n",
    "By default django comes with an sqlite database (thanks to it batterries included philosophy). Howerver, this database is only suitable for development.\n",
    "- Open the shell prompt and run the following commands:\n",
    "`python manage.py migrate`\n",
    "\n",
    "\n",
    "We will see the following migration in the terminal...\n",
    "\n",
    "![migrations](img/migrations.jpeg)"
   ]
  },
  {
   "cell_type": "markdown",
   "metadata": {},
   "source": [
    "#### Creating a SuperUser Account\n",
    "In order to log into the Django admin, we need to create a Django superuser. Ordinary users will not be able to access the admin.Open the shell prompt and run the following commands:\n",
    "`python manage.py migrate`\n",
    "\n",
    "Input the following to the prompt script:\n",
    "- username\n",
    "- email\n",
    "- password\n",
    "\n",
    "![superuser](img/super-user.jpeg)\n",
    "\n",
    "We just created a superuser for a Django project. Out of the box this superuser has access to Django’s admin tool. This allows\n",
    "them to make changes to database records, including the user list. \n",
    "As one might imagine, this is a very powerful role and not to be taken lightly"
   ]
  },
  {
   "cell_type": "markdown",
   "metadata": {},
   "source": [
    "#### The Django Admin Interface\n",
    "In our browser, go to `127.0.0.1:8000/admin`, We should see the admin login page.\n",
    "Enter your login credentials and play around with the admin panel.\n",
    "\n",
    "![admin-login](img/admin-login.jpeg)\n",
    "\n",
    "In a barebones Django project, the admin is empty except for the Authentication and Authorization tools:\n",
    "\n",
    "![admin-authentication](img/admin-user.jpeg)"
   ]
  },
  {
   "cell_type": "markdown",
   "metadata": {},
   "source": [
    "### 2.0 Building A Pages Application\n",
    "\n",
    "In this lesson we will build, test, and deploy a Pages app containing a homepage, aboutpage and contactpage respectively. \n",
    "We’ll learn about class-based views and templates which are the building blocks for the more complex web applications we will be building subsequently"
   ]
  },
  {
   "cell_type": "markdown",
   "metadata": {},
   "source": [
    "#### Create a Virtual Environment\n",
    "First, to start building our django project we need to create and activate another virtual environment using the following command: \n",
    "\n",
    "> `conda create -n staticwebsite python=3.9`\n",
    "\n",
    "> `conda activate staticwebsite`"
   ]
  },
  {
   "cell_type": "markdown",
   "metadata": {},
   "source": [
    "#### Install django\n",
    "\n",
    "Run `python -m pip install django~=4.0.0` in your terminal"
   ]
  },
  {
   "cell_type": "markdown",
   "metadata": {},
   "source": [
    "#### Start a django project\n",
    "To do that, run the following command in your termainal or command prompt..,"
   ]
  },
  {
   "cell_type": "code",
   "execution_count": null,
   "metadata": {
    "vscode": {
     "languageId": "shellscript"
    }
   },
   "outputs": [],
   "source": [
    "django-admin startproject static_webproject ."
   ]
  },
  {
   "cell_type": "markdown",
   "metadata": {},
   "source": [
    "#### Create an App in your project\n",
    "- Django uses the concept of projects and apps to keep code clean and readable. A single top-level\n",
    "Django project can contain multiple apps.\n",
    "\n",
    "![django project and app](img/Django-project-app-show.png)\n",
    " - Each app controls an isolated piece of functionality for example, if youre building an ecommerce website, your web project can have a app for product listings, an authentication app and a payment app all under the same project with distict functionalities.\n",
    " - To create an app called `pages` in your project directory simply type the following command in your terminal....\n"
   ]
  },
  {
   "cell_type": "code",
   "execution_count": null,
   "metadata": {
    "vscode": {
     "languageId": "powershell"
    }
   },
   "outputs": [],
   "source": [
    " python manage.py startapp pages"
   ]
  },
  {
   "cell_type": "markdown",
   "metadata": {},
   "source": [
    "Let’s review what each new pages app file does:\n",
    "- **admin.py** is a configuration file for the built-in Django Admin app\n",
    "- **apps.py** is a configuration file for the app itself\n",
    "- **migrations/** keeps track of any changes to our models.py file so it stays in sync with our\n",
    "database\n",
    "- **models.py** is where we define our database models which Django automatically translates\n",
    "into database tables\n",
    "-  **tests.py** is for app-specific tests\n",
    "- **views.py** is where we handle the request/response logic for our web app"
   ]
  },
  {
   "cell_type": "markdown",
   "metadata": {},
   "source": [
    "#### Installing the `pages` app in your `settings.py` file\n",
    "At this point, we have successfully created our `pages` app but django is not yet aware of the app. so we need to add it to the `INSTALLED_APPS` list in our `settings.py` file."
   ]
  },
  {
   "cell_type": "code",
   "execution_count": 1,
   "metadata": {},
   "outputs": [],
   "source": [
    "# django_project/settings.py\n",
    "\n",
    "INSTALLED_APPS = [\n",
    "\"django.contrib.admin\",\n",
    "\"django.contrib.auth\",\n",
    "\"django.contrib.contenttypes\",\n",
    "\"django.contrib.sessions\",\n",
    "\"django.contrib.messages\",\n",
    "\"django.contrib.staticfiles\",\n",
    "\"pages.apps.PagesConfig\", # new\n",
    "]\n"
   ]
  },
  {
   "cell_type": "markdown",
   "metadata": {},
   "source": [
    "Migrate the database with migrate and start the local web server with `runserver` command.\n",
    "\n"
   ]
  },
  {
   "cell_type": "code",
   "execution_count": null,
   "metadata": {
    "vscode": {
     "languageId": "powershell"
    }
   },
   "outputs": [],
   "source": [
    "# Command Shell\n",
    "python manage.py migrate\n",
    "python manage.py runserver"
   ]
  },
  {
   "cell_type": "markdown",
   "metadata": {},
   "source": [
    "# Django App Entry Point\n",
    "\n",
    "The `static_webproject` urls.py file is responsible for mapping each request that comes to our web server. it is where we register our individual app urls using the `include` function. \n",
    "\n",
    "- So let add our `pages` app  url to the `static_webproject/urls.py` so it can point to our app when a request comes to our localhost address.\n"
   ]
  },
  {
   "cell_type": "code",
   "execution_count": null,
   "metadata": {},
   "outputs": [],
   "source": [
    "#static_webproject/urls.py \n",
    "\n",
    "from django.contrib import admin\n",
    "from django.urls import path, include # new\n",
    "\n",
    "urlpatterns = [\n",
    "path(\"admin/\", admin.site.urls),\n",
    "path(\"\", include(\"pages.urls\")), # new\n",
    "]"
   ]
  },
  {
   "cell_type": "markdown",
   "metadata": {},
   "source": [
    "#### Django Templates \n",
    "Django Templates are individual HTML files that can be linked together and they also include basic logic.\n",
    "The first consideration is where to place templates within the structure of a Django project.\n",
    "There are two options. \n",
    "- App level template Directory\n",
    "- Project level template Directory\n",
    "\n",
    "In our example, we are going to be using the project level template directory. Type the following command in your terminal to create a template directory.\n",
    "\n",
    "`mkdir templates`\n",
    "\n",
    "Next we need to update ***django_project/settings.py*** to tell Django the location of our new templates directory. This is a one-line change to the setting \"DIRS\" under TEMPLATES.\n"
   ]
  },
  {
   "cell_type": "code",
   "execution_count": null,
   "metadata": {},
   "outputs": [],
   "source": [
    "# django_project/settings.py\n",
    "TEMPLATES = [\n",
    "{\n",
    "...\n",
    "\"DIRS\": [BASE_DIR / \"templates\"], # new\n",
    "...\n",
    "},\n",
    "]"
   ]
  },
  {
   "cell_type": "markdown",
   "metadata": {},
   "source": [
    "##### Creating a `base.html` file\n",
    "Just like the name implies, this file is the parent template file which other files inherit from. it usually contains the common structure and elements shared across multiple pages of the website, such as the header, footer, navigation, css styles, general etc.\n",
    "\n",
    "Other templates in the project extend or inherit from `base.html` allowing developers maintain a consistent layout.\n",
    "\n",
    "- We will create a `base.html` file in the templates directory at the root level of our project and add the following code.\n",
    "\n",
    "- We also added boostrap css for styling in the base template. We wont be discussing that since it is out of our scope."
   ]
  },
  {
   "cell_type": "code",
   "execution_count": null,
   "metadata": {
    "vscode": {
     "languageId": "html"
    }
   },
   "outputs": [],
   "source": [
    "<!-- templates/base.html -->\n",
    "<html>\n",
    "  <head>\n",
    "    <title>Django blog</title>\n",
    "    <!-- Add link to bootsrap css file -->\n",
    "  </head>\n",
    "<body>\n",
    " <!-- Add Header Navbar -->\n",
    "  <div>\n",
    "    {% block content %}\n",
    "    {% endblock content %}\n",
    "  </div>\n",
    "   <!-- Add Footer Navbar -->\n",
    "</body>\n",
    "</html>"
   ]
  },
  {
   "cell_type": "markdown",
   "metadata": {},
   "source": [
    "- Within the templates directory create another directory called `pages` and then inside it create a new file called `home.html`.\n",
    "- Make sure to name and save the file in the correct location.The `home.html` file will have a simple boostrap hero section for now."
   ]
  },
  {
   "cell_type": "code",
   "execution_count": null,
   "metadata": {
    "vscode": {
     "languageId": "html"
    }
   },
   "outputs": [],
   "source": [
    "<!-- templates/home.html -->\n",
    "\n",
    "{% extends \"../base.html\" %}\n",
    "{% block content %}\n",
    "<h1>Homepage</h1>\n",
    "{% endblock content %}"
   ]
  },
  {
   "cell_type": "markdown",
   "metadata": {},
   "source": [
    "#### Django Class based Views\n",
    "Django provides builtin class that can be used as views. A view is a callable which takes a request and return a response.\n",
    "\n",
    "- lets create our own class base view which inerits from a `TemplateView` class\n"
   ]
  },
  {
   "cell_type": "code",
   "execution_count": null,
   "metadata": {},
   "outputs": [],
   "source": [
    "# pages/views.py\n",
    "from django.views.generic import TemplateView\n",
    "\n",
    "\n",
    "class HomePageView (TemplateView):\n",
    "    template_name = \"home.html\"\n",
    "    "
   ]
  },
  {
   "cell_type": "markdown",
   "metadata": {},
   "source": [
    "#### Django URLS\n",
    "The last step is to update our app's `url.py` file to connect to map to our class based `HomePageview`"
   ]
  },
  {
   "cell_type": "code",
   "execution_count": null,
   "metadata": {},
   "outputs": [],
   "source": [
    "#pages/urls.py\n",
    "\n",
    "from django.urls import path\n",
    "from .views import HomePageView\n",
    "\n",
    "urlpatterns = [\n",
    "path(\"\", HomePageView.as_view(), name=\"home\"),\n",
    "]\n"
   ]
  },
  {
   "cell_type": "markdown",
   "metadata": {},
   "source": [
    "And we’re done! Start up the local web server with the command `python manage.py runserver`\n",
    "and navigate to http://127.0.0.1:8000/ to see our new homepage"
   ]
  },
  {
   "cell_type": "markdown",
   "metadata": {},
   "source": [
    "#### Class Exercise \n",
    "The process for adding an about page is very similar to what we just did. We’ll create a new template file, a new view, and a new url route. Start by making a new template file called templates/pages/about.html and populate it with a short HTML.\n",
    "\n",
    "- Create `Urls`, `Views` and `Templates` for the `About` and `Contact` pages respectively."
   ]
  },
  {
   "cell_type": "markdown",
   "metadata": {},
   "source": [
    "#### Testing Our App\n",
    "\n",
    "It’s important to add automated tests and run them whenever a codebase changes. Tests require\n",
    "a small amount of upfront time to write but more than pay off later on. \n",
    "\n",
    "Django’s own testing framework provides a number of Django-specific assertion methods, and four test case classes:\n",
    "\n",
    "- SimpleTestCase\n",
    "- TestCase\n",
    "- TransactionTestCase and\n",
    "- LiveServerTestCase\n",
    "\n",
    "Generally speaking, SimpleTestCase is used when a database is not necessary while TestCase is used when you do want to test the database. TTransactionTestCase is useful if you need to directly test database transactions44 while LiveServerTestCase launches a live server thread useful for testing with browser-based tools like Selenium.\n",
    "\n",
    "If you look within our pages app, Django already provided a tests.py file we can use. Since no database is involved yet in our project we will import SimpleTestCase at the top of the file. For our first tests we’ll check that the two URLs for our website, the homepage and about page, both return HTTP status codes45 of 200, the standard response for a successful HTTP request.\n"
   ]
  },
  {
   "cell_type": "code",
   "execution_count": null,
   "metadata": {},
   "outputs": [],
   "source": [
    "# pages/tests.py\n",
    "from django.test import SimpleTestCase\n",
    "from django.urls import reverse\n",
    "\n",
    "class HomepageTests(SimpleTestCase):\n",
    "    def test_url_exists_at_correct_location(self):\n",
    "        response = self.client.get(\"/\")\n",
    "        self.assertEqual(response.status_code, 200)\n",
    "        \n",
    "    def test_url_available_by_name(self):\n",
    "        response = self.client.get(reverse(\"home\"))\n",
    "        self.assertEqual(response.status_code, 200)\n",
    "        \n",
    "    def test_template_name_correct(self): # new\n",
    "        response = self.client.get(reverse(\"home\"))\n",
    "        self.assertTemplateUsed(response, \"home.html\")\n",
    "        \n",
    "    def test_template_content(self): # new\n",
    "        response = self.client.get(reverse(\"home\"))\n",
    "        self.assertContains(response, \"<h1>Homepage</h1>\")\n",
    "        \n",
    "\n",
    "class AboutpageTests(SimpleTestCase):\n",
    "    def test_url_exists_at_correct_location(self):\n",
    "        response = self.client.get(\"/about/\")\n",
    "        self.assertEqual(response.status_code, 200)\n",
    "        \n",
    "    def test_url_available_by_name(self):\n",
    "        response = self.client.get(reverse(\"about\"))\n",
    "        self.assertEqual(response.status_code, 200)\n",
    "        \n",
    "    def test_template_name_correct(self): # new\n",
    "        response = self.client.get(reverse(\"about\"))\n",
    "        self.assertTemplateUsed(response, \"about.html\")\n",
    "        \n",
    "    def test_template_content(self): # new\n",
    "        response = self.client.get(reverse(\"about\"))\n",
    "        self.assertContains(response, \"<h1>About page</h1>\")\n",
    "        \n",
    "        \n",
    "\n"
   ]
  },
  {
   "cell_type": "markdown",
   "metadata": {},
   "source": [
    "#### Class Exercise\n",
    "\n",
    "Test the `ContactPage` using the format of the `HompeageTest` and `AboutpageTest` Class respectively.\n",
    "\n",
    "- Use the command `python manage.py test` in your console to run the test.\n"
   ]
  },
  {
   "cell_type": "markdown",
   "metadata": {},
   "source": [
    "#### Pushing Code to GitHub\n",
    "\n",
    "It’s time to track our changes with Git and push them up to GitHub. We’ll start by initializing our\n",
    "directory and checking the status of our changes.\n",
    "\n",
    "We will stop our local server and run the following command;\n",
    "\n",
    "`git init`\n",
    "\n",
    "`git status`\n",
    "\n",
    "`git add .`\n",
    "\n",
    "`git commit -m \"initial commit\"`\n",
    "\n",
    "Over on GitHub create a new repo called `pages` and make sure to select the “Private” radio button. Then click on the “Create repository” button.\n",
    "\n",
    "On the next page, scroll down to where it says ***“…or push an existing repository from the\n",
    "command line.”*** Copy and paste the two commands there into your terminal.\n",
    "\n",
    "`git remote add origin https://github.com/jamezslim90/pages.git`\n",
    "\n",
    "`git push -u origin main`"
   ]
  },
  {
   "cell_type": "markdown",
   "metadata": {},
   "source": [
    "###  Building Simple Note App\n",
    "We will use a database for the first time to build a basic note application where users can post and read short notes. \n",
    "\n",
    "We’ll explore Django’s powerful built-in admin interface which provides a visual way to make changes to our data. And after adding tests we will push our code to GitHub and deploy the app on Render.\n",
    "\n",
    "Django has a powerful ORM (Object-Relational Mapper), with a built-in support for\n",
    "multiple database backends such as:\n",
    "- PostgreSQL\n",
    "- MySQL \n",
    "- MariaDB\n",
    "- Oracle and \n",
    "- SQLite. \n",
    "\n",
    "This means that we, as developers, can write the same Python code in a models.py file and it will automatically be translated into the correct SQL for each database. The only configuration required is to update the `DATABASES` section of our django_project/settings.py file.\n",
    "\n",
    "This is truly an impressive feature! For local development, Django defaults to using `SQLite` because it is file-based and therefore far simpler to use than the other database options that require a dedicated server to be running separate from Django itself."
   ]
  },
  {
   "cell_type": "markdown",
   "metadata": {},
   "source": [
    "#### Initial SetUp\n",
    "Since we’ve already set up a Django project before, we can quickly run through the standard commands to begin a new one. We need to do the following:\n",
    "- Use `conda`  to create a new virtual environment called ***note-board*** and then activate it\n",
    "- install Django in a new virtual environment\n",
    "- create a new project called `note_project`\n",
    "- create a new app call `notes`\n",
    "- update django_project/settings.py"
   ]
  },
  {
   "cell_type": "code",
   "execution_count": null,
   "metadata": {},
   "outputs": [],
   "source": [
    "# note_project/settings.py\n",
    "\n",
    "INSTALLED_APPS = [\n",
    "\"django.contrib.admin\",\n",
    "\"django.contrib.auth\",\n",
    "\"django.contrib.contenttypes\",\n",
    "\"django.contrib.sessions\",\n",
    "\"django.contrib.messages\",\n",
    "\"django.contrib.staticfiles\",\n",
    "\"notes.apps.NotesConfig\", # new\n",
    "]\n"
   ]
  },
  {
   "cell_type": "markdown",
   "metadata": {},
   "source": [
    "Then execute the migrate command to create an initial database based on Django’s default\n",
    "settings.\n",
    "\n",
    "`python manage.py migrate`\n",
    "\n",
    "`python manage.py runserver`"
   ]
  },
  {
   "cell_type": "markdown",
   "metadata": {},
   "source": [
    "#### Create a Database Model\n",
    "Our first task is to create a database model where we can store and display notes from our users.\n",
    "\n",
    "Django’s ORM will automatically turn this model into a database table for us.\n",
    "\n",
    "Open the notes/models.py file and look at the default code which Django provides:"
   ]
  },
  {
   "cell_type": "code",
   "execution_count": null,
   "metadata": {},
   "outputs": [],
   "source": [
    "# posts/models.py\n",
    "\n",
    "from django.db import models\n",
    "# Create your models here"
   ]
  },
  {
   "cell_type": "markdown",
   "metadata": {},
   "source": [
    "Django imports a module, models, to help us build new database models which will ***model*** the\n",
    "characteristics of the data in our database. We want to create a model to store the textual content\n",
    "of a note board note, which we can do as follows:"
   ]
  },
  {
   "cell_type": "code",
   "execution_count": null,
   "metadata": {},
   "outputs": [],
   "source": [
    "# notes/models.py\n",
    "\n",
    "from django.db import models\n",
    "\n",
    "class Note (models.Model): # new\n",
    "    text = models.TextField()"
   ]
  },
  {
   "cell_type": "markdown",
   "metadata": {},
   "source": [
    "Note that we’ve created a new database model called Note which has the database field text.\n",
    "We’ve also specified the type of content it will hold, TextField(). \n",
    "\n",
    "Django provides many model fields supporting common types of content such as characters, dates, integers, emails, and so on.\n",
    "\n",
    "#### Activating models\n",
    "Now that our new model is created we need to activate it. Going forward, whenever we create\n",
    "or modify an existing model we’ll need to update Django in a two-step process:"
   ]
  },
  {
   "cell_type": "code",
   "execution_count": null,
   "metadata": {
    "vscode": {
     "languageId": "shellscript"
    }
   },
   "outputs": [],
   "source": [
    "# Shell Command\n",
    "\n",
    "python manage.pt makemigrations notes\n",
    "python manage.py migrate"
   ]
  },
  {
   "cell_type": "markdown",
   "metadata": {},
   "source": [
    "#### Django Admin\n",
    "One of Django’s killer features is its robust admin interface that provides a visual way to interact\n",
    "with data.\n",
    "\n",
    "To use the Django admin, we first need to create a `superuser` who can log in. \n",
    "\n",
    "In your command line console, type `python manage.py createsuperuser` and respond to the prompts for a\n",
    "**username**, **email**, and **password**:\n",
    "\n",
    "Restart the Django server with `python manage.py runserver` and in your web browser\n",
    "go to http://127.0.0.1:8000/admin/. You should see the log in screen for the admin.\n",
    "\n",
    "Log in by entering the username and password you just created. You will see the Django admin\n",
    "homepage next:\n",
    "\n",
    "If you notice, our note app is not displayed on the main admin page! Just as we must explicitly\n",
    "add new apps to the **INSTALLED_APPS config**, so, too, must we update an app’s `admin.py` file for\n",
    "it to appear in the admin.\n",
    "\n",
    "In your text editor open up posts/admin.py and add the following code so that the Post model\n",
    "is displayed"
   ]
  },
  {
   "cell_type": "code",
   "execution_count": null,
   "metadata": {},
   "outputs": [],
   "source": [
    "# notes/admin.py\n",
    "\n",
    "from django.contrib import admin\n",
    "from .models import Note \n",
    "\n",
    "admin.site.register(Note)"
   ]
  },
  {
   "cell_type": "markdown",
   "metadata": {},
   "source": [
    "Django now knows that it should display our notes app and its database model `Note` on the admin\n",
    "page. If you refresh your browser you’ll see that it appears.\n",
    "\n",
    "Next, Let’s create our first note-board note for our database. Click on the + Add button opposite\n",
    "Notes and enter your own content in the Text form field.\n",
    "\n",
    "Then click the “Save” button, which will redirect you to the main Note page. However if you look\n",
    "closely, there’s a problem: our new entry is called “Note object (1)” which isn’t very descriptive!\n",
    "\n",
    "Let’s change that. Within the notes/models.py file, add a new function __str__ as follows:"
   ]
  },
  {
   "cell_type": "code",
   "execution_count": null,
   "metadata": {},
   "outputs": [],
   "source": [
    "# notes/models.py\n",
    "\n",
    "from django.db import models\n",
    "\n",
    "class Note(models.Model):\n",
    "    text = models.TextField()\n",
    "    \n",
    "    def __str__(self):   # new\n",
    "      return self.text[:50]"
   ]
  },
  {
   "cell_type": "markdown",
   "metadata": {},
   "source": [
    "#### How to manage static files (e.g. Images, JavaScript, CSS)\n",
    "Websites generally need to serve additional files such as ***images, JavaScript, or CSS***.\n",
    "\n",
    "In Django, we refer to these files as ***static Files***. Django provides django.contrib.staticfiles to help you manage them.\n",
    "\n",
    "To manage ***static files*** in your project, you need to take the following steps;\n",
    "\n",
    "- Create a directoy in your project root called `static` in the same folder as the `manage.py` file, similar to your `templates` directory\n",
    "- In your note_project/settings.py file, at the bottom, add the following new line which tells Django to look within our newly-created static folder for static files."
   ]
  },
  {
   "cell_type": "code",
   "execution_count": null,
   "metadata": {},
   "outputs": [],
   "source": [
    "# note_project/settings.py\n",
    "STATIC_URL = \"/static/\"\n",
    "STATICFILES_DIRS = [BASE_DIR / \"static\"] # new"
   ]
  },
  {
   "cell_type": "markdown",
   "metadata": {},
   "source": [
    "- Next you need to create a **css, image and javascript** directory within static folder as needed.\n",
    "- Lastly, We need to add the static files to our templates by adding `{% load static %}` to\n",
    "the top of base.html. Because our other templates inherit from base.html.\n",
    "-  We only have to add this once. Include a new line at the bottom of the <head></head> code that explicitly references\n",
    "our new base.css file."
   ]
  },
  {
   "cell_type": "markdown",
   "metadata": {},
   "source": [
    "#### Views/Templates/URLs\n",
    "In order to display our database content on our homepage, we have to wire up our **views**,\n",
    "**templates**, and **URLs**. \n",
    "\n",
    "This pattern should start to feel familiar now. Let’s begin with the view. Now we want to list the contents of our database model.\n",
    "\n",
    "Fortunately this is also a common task in web development and Django comes equipped with the\n",
    "generic class-based view called `ListView`"
   ]
  },
  {
   "cell_type": "code",
   "execution_count": null,
   "metadata": {},
   "outputs": [],
   "source": [
    "# notes/views.py\n",
    "\n",
    "from django.views.generic import ListView\n",
    "from .models import Note \n",
    "\n",
    "class HomePageView(ListView):\n",
    "    model = Note\n",
    "    template_name = \"home.html\""
   ]
  },
  {
   "cell_type": "markdown",
   "metadata": {},
   "source": [
    "##### Creating the Templates Directory\n",
    "\n",
    "Create a new directory called `templates`\n",
    "\n",
    "- Next create a base.html file and then \n",
    "- Create another dirctory inside the templates folder called `notes`\n",
    "- Insode the `notes` directory, create a new file called `home.html`\n",
    "\n",
    "Then update the DIRS field in our note_project/settings.py file so that Django knows to look\n",
    "in this new templates directory."
   ]
  },
  {
   "cell_type": "code",
   "execution_count": null,
   "metadata": {},
   "outputs": [],
   "source": [
    "# note_project/settings.py\n",
    "\n",
    "TEMPLATES = [\n",
    "    {\n",
    "    ...\n",
    "    \"DIRS\": [BASE_DIR / \"templates\"], # new\n",
    "    ...\n",
    "    },\n",
    "]\n"
   ]
  },
  {
   "cell_type": "code",
   "execution_count": null,
   "metadata": {
    "vscode": {
     "languageId": "html"
    }
   },
   "outputs": [],
   "source": [
    "<!-- templates/base.html -->\n",
    "{% load static %}\n",
    "<html>\n",
    "  <head>\n",
    "    <title>Django Static Website</title>\n",
    "    <!-- bootstrap grid css -->\n",
    "    <link rel=\"stylesheet\" href=\"https://cdn.jsdelivr.net/npm/bootstrap@5.3.2/dist/css/bootstrap.min.css\">\n",
    "    <link rel=\"stylesheet\" href=\"https://cdn.jsdelivr.net/npm/bootstrap@5.3.2/dist/js/bootstrap.min.js\">\n",
    "    <link rel=\"stylesheet\" href=\"https://cdn.jsdelivr.net/npm/bootstrap@5.3.2/dist/js/bootstrap.bundle.min.js\">\n",
    "   \n",
    "  </head>\n",
    "<body>\n",
    " <!-- Add Header Navbar -->\n",
    "  <div>\n",
    "    {% block content %}\n",
    "\n",
    "    {% endblock content %}\n",
    "  </div>\n",
    "   <!-- Add Footer Navbar -->\n",
    "</body>\n",
    "</html>"
   ]
  },
  {
   "cell_type": "code",
   "execution_count": null,
   "metadata": {
    "vscode": {
     "languageId": "html"
    }
   },
   "outputs": [],
   "source": [
    "<!-- templates/notes/home.html -->\n",
    "\n",
    "{% extends \"../base.html\" %}\n",
    "{% block content %}\n",
    "<h1>Message board homepage</h1>\n",
    "<ul>\n",
    "    {% for post in post_list %}\n",
    "    <li>{{ post.text }}</li>\n",
    "    {% endfor %}\n",
    "</ul>\n",
    "{% endblock content %}"
   ]
  },
  {
   "cell_type": "markdown",
   "metadata": {},
   "source": [
    "The last step is to set up our URLs. Let’s start with the note_project/urls.py file where we\n",
    "include our notes app and add include on the second line"
   ]
  },
  {
   "cell_type": "code",
   "execution_count": null,
   "metadata": {},
   "outputs": [],
   "source": [
    "# note_project/urls.py\n",
    "\n",
    "from django.contrib import admin\n",
    "from django.urls import path, include # new\n",
    "\n",
    "\n",
    "urlpatterns = [\n",
    "    path(\"admin/\", admin.site.urls),\n",
    "    path(\"\", include(\"posts.urls\")), # new\n",
    "]"
   ]
  },
  {
   "cell_type": "markdown",
   "metadata": {},
   "source": [
    "Then in your text editor create a new urls.py file within the notes app and update it like so:"
   ]
  },
  {
   "cell_type": "code",
   "execution_count": null,
   "metadata": {},
   "outputs": [],
   "source": [
    "# notes/urls.py\n",
    "\n",
    "from django.urls import path\n",
    "from .views import HomePageView\n",
    "\n",
    "urlpatterns = [\n",
    "    \n",
    "    path(\"\", HomePageView.as_view(), name=\"home\"),\n",
    "]\n"
   ]
  },
  {
   "cell_type": "markdown",
   "metadata": {},
   "source": [
    "Restart the server with `python manage.py runserver` and navigate to our homepage, which now\n",
    "lists out our notes.\n",
    "\n",
    "##### Adding New Notes\n",
    "To add new notes to our message board, go back into the Admin and create three more notes.\n",
    "If you then return to the homepage you’ll see it automatically displays the formatted notes.\n",
    "\n",
    "Everything works so it is a good time to initialize our directory and create a .gitignore file. In\n",
    "your text editor create a new .gitignore file and the name of your virtual environment.\n",
    "\n",
    "Then run git status again to confirm the .virtual environment directory is being ignored, use git add -A to\n",
    "add the intended files/directories, and add an initial commit message.\n",
    "\n",
    "Finally push the code to remote repository."
   ]
  },
  {
   "cell_type": "markdown",
   "metadata": {},
   "source": [
    "#### Pushing Code to GitHub\n",
    "\n",
    "It’s time to track our changes with Git and push them up to GitHub. We’ll start by initializing our\n",
    "directory and checking the status of our changes.\n",
    "\n",
    "We will stop our local server and run the following command;\n",
    "\n",
    "`git init`\n",
    "\n",
    "`git status`\n",
    "\n",
    "`git add .`\n",
    "\n",
    "`git commit -m \"initial commit\"`\n",
    "\n",
    "Over on GitHub create a new repo called `pages` and make sure to select the “Private” radio button. Then click on the “Create repository” button.\n",
    "\n",
    "On the next page, scroll down to where it says ***“…or push an existing repository from the\n",
    "command line.”*** Copy and paste the two commands there into your terminal.\n",
    "\n",
    "`git remote add origin https://github.com/jamezslim90/notes.git`\n",
    "\n",
    "`git push -u origin main`"
   ]
  },
  {
   "cell_type": "markdown",
   "metadata": {},
   "source": [
    "#### Test\n",
    "\n",
    "Add the following code to your notes app test file called `test.py`"
   ]
  },
  {
   "cell_type": "code",
   "execution_count": null,
   "metadata": {},
   "outputs": [],
   "source": [
    "# posts/tests.py\n",
    "from django.test import TestCase\n",
    "from django.urls import reverse # new\n",
    "from .models import Post\n",
    "\n",
    "\n",
    "class PostTests(TestCase):\n",
    "@classmethod\n",
    "def setUpTestData(cls):\n",
    "    cls.post = Post.objects.create(text=\"This is a test!\")\n",
    "    \n",
    "def test_model_content(self):\n",
    "    self.assertEqual(self.post.text, \"This is a test!\")\n",
    "    \n",
    "def test_url_exists_at_correct_location(self):\n",
    "    response = self.client.get(\"/\")\n",
    "    self.assertEqual(response.status_code, 200)\n",
    "    \n",
    "def test_homepage(self): # new\n",
    "    response = self.client.get(reverse(\"home\"))\n",
    "    self.assertEqual(response.status_code, 200)\n",
    "    self.assertTemplateUsed(response, \"home.html\")\n",
    "    self.assertContains(response, \"This is a test!\")"
   ]
  },
  {
   "cell_type": "markdown",
   "metadata": {},
   "source": [
    "Run the tests to confirm that they all pass with the following command.\n"
   ]
  },
  {
   "cell_type": "code",
   "execution_count": null,
   "metadata": {
    "vscode": {
     "languageId": "shellscript"
    }
   },
   "outputs": [],
   "source": [
    "python manage.py test"
   ]
  }
 ],
 "metadata": {
  "kernelspec": {
   "display_name": "base",
   "language": "python",
   "name": "python3"
  },
  "language_info": {
   "codemirror_mode": {
    "name": "ipython",
    "version": 3
   },
   "file_extension": ".py",
   "mimetype": "text/x-python",
   "name": "python",
   "nbconvert_exporter": "python",
   "pygments_lexer": "ipython3",
   "version": "3.12.2"
  }
 },
 "nbformat": 4,
 "nbformat_minor": 2
}
