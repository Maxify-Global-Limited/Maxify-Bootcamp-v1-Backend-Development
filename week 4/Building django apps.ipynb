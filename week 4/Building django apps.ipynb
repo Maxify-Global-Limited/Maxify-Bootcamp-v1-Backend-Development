{
 "cells": [
  {
   "cell_type": "markdown",
   "metadata": {},
   "source": [
    "## Web Application with Django 2"
   ]
  },
  {
   "cell_type": "markdown",
   "metadata": {},
   "source": [
    "### Building A Blog App (CRUD)\n",
    "In this lesson, we will build a Blog application that allows users to **Create, Read, Update and Delete** posts.\n",
    "\n",
    "The homepage will read or list all blog posts  and there will be a dedicated detail page for each individual\n",
    "blog post. The detail page with also enable functionality such as Edit and Delete of post.\n",
    "\n",
    "We’ll also introduce CSS for styling and install a predesigned theme."
   ]
  },
  {
   "cell_type": "markdown",
   "metadata": {},
   "source": [
    "##### Initial Set Up\n",
    "The steps for setting up a new Django project are as follows:\n",
    "- Create a new virtual environment with `conda` called `blogapp` and activate it\n",
    "- Make a new directory for our code called `blog` inside our virtual environment\n",
    "- Install Django in the new virtual environment.\n",
    "- create a new Django project called `blog_project`\n",
    "- create a new app blog\n",
    "- perform a migration to set up the database\n",
    "- update blog_project/settings.py\n",
    "\n",
    "Let’s implement them now in a new command line terminal."
   ]
  },
  {
   "cell_type": "code",
   "execution_count": null,
   "metadata": {},
   "outputs": [],
   "source": [
    "# blog_project/settings.py\n",
    "\n",
    "INSTALLED_APPS = [\n",
    "\"django.contrib.admin\",\n",
    "\"django.contrib.auth\",\n",
    "\"django.contrib.contenttypes\",\n",
    "\"django.contrib.sessions\",\n",
    "\"django.contrib.messages\",\n",
    "\"django.contrib.staticfiles\",\n",
    "\"blog.apps.BlogConfig\", # new\n",
    "]\n"
   ]
  },
  {
   "cell_type": "code",
   "execution_count": null,
   "metadata": {
    "vscode": {
     "languageId": "shellscript"
    }
   },
   "outputs": [],
   "source": [
    " python manage.py runserver"
   ]
  },
  {
   "cell_type": "markdown",
   "metadata": {},
   "source": [
    "##### Database Models\n",
    "What are the characteristics of a typical blog application? In our case, let’s keep things simple\n",
    "and assume each post has a \n",
    "- title,\n",
    "- author,\n",
    "- body,\n",
    "- publish date and \n",
    "- create_date. \n",
    "\n",
    "We can turn this into a database model by opening the `blog/models.py` file and entering the code below:"
   ]
  },
  {
   "cell_type": "code",
   "execution_count": null,
   "metadata": {},
   "outputs": [],
   "source": [
    "# blog/models.py\n",
    "\n",
    "from django.db import models\n",
    "from django.urls import reverse\n",
    "from django.utils import timezone\n",
    "from django.contrib.auth.models import User\n",
    "\n",
    "\n",
    "class Post(models.Model):\n",
    "    \n",
    "    title = models.CharField(max_length=200)\n",
    "    author = models.ForeignKey(User,on_delete=models.CASCADE, related_name='blog_posts' )\n",
    "    body = models.TextField()\n",
    "    publish = models.DateTimeField(default=timezone.now)\n",
    "    created = models.DateTimeField(auto_now_add=True)\n",
    "\n",
    "    class Meta:\n",
    "      # Specifies the default ordering of posts in queries as per the 'publish' field.\n",
    "      ordering = ['-publish']\n",
    "      \n",
    "      \n",
    "    def __str__(self):\n",
    "      # Returns a string representation of the post object, using its title.\n",
    "      return self.title\n",
    "  \n",
    "    def get_absolute_url(self):\n",
    "       # Returns the canonical URL for a post detail view,\n",
    "       # using the 'post_detail' URL pattern and passing the post's primary key as a parameter.\n",
    "     return reverse(\"post_detail\", kwargs={\"pk\": self.pk})"
   ]
  },
  {
   "cell_type": "markdown",
   "metadata": {},
   "source": [
    "##### Creating and Applying Migrations\n",
    "\n",
    "Now that we have a data model for blog posts, we need to create the corresponding database table. \n",
    "\n",
    "Django comes with a migration system that tracks the changes made to models and enables them to \n",
    "propagate into the database.\n",
    "\n",
    "The migrate command applies migrations for all applications listed in **INSTALLED_APPS**. It synchro\u0002nizes the database with the current models and existing migrations.\n",
    "\n",
    "First, we will need to create an initial migration for our `Post model`. \n",
    "\n",
    "Run the following command in the shell prompt from the root directory of your project. And remember we need to do this each time we crete a model or make an update to our model."
   ]
  },
  {
   "cell_type": "code",
   "execution_count": null,
   "metadata": {
    "vscode": {
     "languageId": "shellscript"
    }
   },
   "outputs": [],
   "source": [
    "# Shell Command\n",
    "\n",
    "python manage.py makemigrations blog\n",
    "python manage.py migrate"
   ]
  },
  {
   "cell_type": "markdown",
   "metadata": {},
   "source": [
    "##### Creating an administration site for models\n",
    "Now that the Post model is in sync with the database, we can create a simple administration site to \n",
    "manage blog posts.\n",
    "\n",
    "Django comes with a built-in administration interface that is very useful for editing content. The Django \n",
    "site is built dynamically by reading the model metadata and providing a production-ready interface for \n",
    "editing content. You can use it out of the box, configuring how you want your models to be displayed in it.\n",
    "\n",
    "The ***django.contrib.admin*** application is already included in the **INSTALLED_APPS** setting, so you \n",
    "don’t need to add it."
   ]
  },
  {
   "cell_type": "markdown",
   "metadata": {},
   "source": [
    "##### Create a Superuser"
   ]
  },
  {
   "cell_type": "code",
   "execution_count": null,
   "metadata": {
    "vscode": {
     "languageId": "shellscript"
    }
   },
   "outputs": [],
   "source": [
    "python manage.py createsuperuser\n",
    "Username (leave blank to use 'wsv'): james\n",
    "Email:jamezlim90@gmail.com\n",
    "Password:\n",
    "Password (again):\n",
    "Superuser created successfully."
   ]
  },
  {
   "cell_type": "markdown",
   "metadata": {},
   "source": [
    "Run `python manage.py runserver` to view the admin interface. At the moment the blog post model we defined is not registered or activated in the admin dashboard yet."
   ]
  },
  {
   "cell_type": "markdown",
   "metadata": {},
   "source": [
    "##### Adding models to the administration site\n",
    "Let’s add your blog models to the administration site. Edit the admin.py file of the blog application \n",
    "and make it look like this."
   ]
  },
  {
   "cell_type": "code",
   "execution_count": null,
   "metadata": {},
   "outputs": [],
   "source": [
    "# blog/admin.py\n",
    "\n",
    "from django.contrib import admin\n",
    "from .models import Post\n",
    "\n",
    "\n",
    "admin.site.register(Post)"
   ]
  },
  {
   "cell_type": "markdown",
   "metadata": {},
   "source": [
    "##### Adding post object in the admin \n",
    "Let’s add 3 blog posts so we have some sample data to work with.\n",
    "\n",
    "Click on the + Add button next to Posts to create a new entry. Make sure to add an “author” to each post too since by default all model fields are required without it you will get an error."
   ]
  },
  {
   "cell_type": "markdown",
   "metadata": {},
   "source": [
    "#### URLs, Views and Templates\n",
    "\n",
    "Now that our database model is complete we need to create the necessary views, URLs, and\n",
    "templates so we can display the information on our web application.\n",
    "\n",
    "In your text editor, create a new file called `urls.py` within the blog app and update it with the\n",
    "code below"
   ]
  },
  {
   "cell_type": "code",
   "execution_count": null,
   "metadata": {},
   "outputs": [],
   "source": [
    "# blog/urls.py\n",
    "\n",
    "from django.urls import path\n",
    "from .views import BlogListView\n",
    "\n",
    "urlpatterns = [\n",
    "path(\"\", BlogListView.as_view(), name=\"home\"),\n",
    "]\n"
   ]
  },
  {
   "cell_type": "markdown",
   "metadata": {},
   "source": [
    "We also should update our django_project/urls.py file so that it knows to forward all requests\n",
    "directly to the blog app."
   ]
  },
  {
   "cell_type": "code",
   "execution_count": null,
   "metadata": {},
   "outputs": [],
   "source": [
    "# django_project/urls.py\n",
    "\n",
    "from django.contrib import admin\n",
    "from django.urls import path, include # new\n",
    "\n",
    "urlpatterns = [\n",
    "    \n",
    "path(\"admin/\", admin.site.urls),\n",
    "path(\"\", include(\"blog.urls\")), # new\n",
    "\n",
    "]"
   ]
  },
  {
   "cell_type": "markdown",
   "metadata": {},
   "source": [
    "We’ve added include on the second line and a URL pattern using an empty string regular\n",
    "expression, \"\", indicating that URL requests should be redirected as is to blog’s URLs for further\n",
    "instructions.\n"
   ]
  },
  {
   "cell_type": "markdown",
   "metadata": {},
   "source": [
    "##### Views\n",
    "We’re going to use class-based views but if you want to see a function-based way to build a blog\n",
    "application\n",
    "\n",
    "In our views file, add the code below to display the contents of our Post model using ListView."
   ]
  },
  {
   "cell_type": "code",
   "execution_count": null,
   "metadata": {},
   "outputs": [],
   "source": [
    "# blog/views.py\n",
    "\n",
    "from django.views.generic import ListView\n",
    "from .models import Post\n",
    "\n",
    "class BlogListView(ListView):\n",
    "    model = Post\n",
    "    template_name = \"blog/home.html\""
   ]
  },
  {
   "cell_type": "markdown",
   "metadata": {},
   "source": [
    "On the top two lines we import ListView and our database model Post.\n",
    "\n",
    "Then we subclass `ListView` and add links to our model and template. This saves us a lot of code versus implementing it all from scratch."
   ]
  },
  {
   "cell_type": "markdown",
   "metadata": {},
   "source": [
    "##### Templates\n",
    "With our `URLs and views` now complete, we’re only missing the third piece of the puzzle:\n",
    "templates.\n",
    "\n",
    "We will start by creating our new templates directory. And then create our `base.html` file as the parent template to be inherited by other child templates.\n",
    "\n",
    "After that we will create a blog directory inside the templates directory to hold all our `blog app` templates"
   ]
  },
  {
   "cell_type": "code",
   "execution_count": null,
   "metadata": {
    "vscode": {
     "languageId": "shellscript"
    }
   },
   "outputs": [],
   "source": [
    "# Shell Command\n",
    "\n",
    "mkdir templates\n",
    "cd templates\n",
    "code base.html\n",
    "mkdir blog\n",
    "cd blog\n",
    "code home.html"
   ]
  },
  {
   "cell_type": "markdown",
   "metadata": {},
   "source": [
    "Then update blog_project/settings.py so Django knows to look there for our templates."
   ]
  },
  {
   "cell_type": "code",
   "execution_count": null,
   "metadata": {},
   "outputs": [],
   "source": [
    "# blog_project/settings.py\n",
    "TEMPLATES = [\n",
    "{\n",
    "...\n",
    "\"DIRS\": [BASE_DIR / \"templates\"], # new\n",
    "...\n",
    "},\n",
    "]\n"
   ]
  },
  {
   "cell_type": "markdown",
   "metadata": {},
   "source": [
    "Update the base.html template as follows:\n"
   ]
  },
  {
   "cell_type": "code",
   "execution_count": null,
   "metadata": {
    "vscode": {
     "languageId": "html"
    }
   },
   "outputs": [],
   "source": [
    "<!-- templates/base.html -->\n",
    "{% load static %}\n",
    "\n",
    "<html>\n",
    "    <head>\n",
    "        <title>Django blog</title>\n",
    "        <link href=\"https://fonts.googleapis.com/css?family=Source+Sans+Pro:400\" rel=\"stylesheet\">\n",
    "        <link rel=\"stylesheet\" href=\"https://cdn.jsdelivr.net/npm/bootstrap@5.3.3/dist/css/bootstrap.min.css\">\n",
    "        <link href=\"{% static 'css/base.css' %}\" rel=\"stylesheet\">\n",
    "    </head>\n",
    "    <body>\n",
    "        <header>\n",
    "            <nav class=\"navbar navbar-expand-lg bg-body-tertiary bg-primary\" data-bs-theme=\"dark\">\n",
    "                <div class=\"container-fluid\">\n",
    "                  <a class=\"navbar-brand\" href=\"{% url 'home' %}\">Django blog</a>\n",
    "                  <button\n",
    "                    class=\"navbar-toggler\"\n",
    "                    type=\"button\"\n",
    "                    data-bs-toggle=\"collapse\"\n",
    "                    data-bs-target=\"#navbarSupportedContent\"\n",
    "                    aria-controls=\"navbarSupportedContent\"\n",
    "                    aria-expanded=\"false\"\n",
    "                    aria-label=\"Toggle navigation\"\n",
    "                  >\n",
    "                    <span class=\"navbar-toggler-icon\"></span>\n",
    "                  </button>\n",
    "                  <div class=\"collapse navbar-collapse\" id=\"navbarSupportedContent\">\n",
    "                    <ul class=\"navbar-nav me-auto mb-2 mb-lg-0\">\n",
    "                      <li class=\"nav-item\">\n",
    "                        <a class=\"nav-link active\" aria-current=\"page\" href=\"{% url 'home' %}\">Home</a>\n",
    "                      </li>\n",
    "                    </ul>\n",
    "\n",
    "                    {% comment %}\n",
    "                    <div class=\"d-flex\">\n",
    "                      <a href=\"{% url 'post_new' %}\">+ New Blog Post</a>\n",
    "                    </div>\n",
    "                    {% endcomment %} \n",
    "                  </div>\n",
    "                </div>\n",
    "              </nav>\n",
    "        <h1></h1>\n",
    "        </header>\n",
    "        <div>\n",
    "        {% block content %}\n",
    "        {% endblock content %}\n",
    "        </div>\n",
    "\n",
    "      <script src=\"https://cdn.jsdelivr.net/npm/bootstrap@5.3.3/dist/js/bootstrap.min.js\"></script>   \n",
    "    </body>\n",
    "</html>"
   ]
  },
  {
   "cell_type": "markdown",
   "metadata": {},
   "source": [
    "Note that code between {% block content %} and {% endblock content %} can be filled by\n",
    "other templates. Speaking of which, here is the code for home.html.\n"
   ]
  },
  {
   "cell_type": "code",
   "execution_count": null,
   "metadata": {
    "vscode": {
     "languageId": "html"
    }
   },
   "outputs": [],
   "source": [
    "<!-- templates/home.html -->\n",
    "\n",
    "{% extends \"base.html\" %}\n",
    "\n",
    "{% block content %}\n",
    "<div class= \"container mx-auto w-70 bg-primary m-3 p-3 text-center text-light\">\n",
    "  <h2>Blog Posts</h2>\n",
    "</div>\n",
    "<div class=\"list-group container mx-auto w-70 mt-3\">\n",
    "    \n",
    "{% for post in post_list %}\n",
    "<a href=\"#\" class=\"list-group-item list-group-item-action\" aria-current=\"true\">\n",
    "    <div class=\"d-flex w-100 justify-content-between\">\n",
    "      <h5 class=\"mb-1\">{{ post.title }}</h5>\n",
    "      <small>{{post.publish}}</small>\n",
    "    </div>\n",
    "    <small class=\"mb-2\">Author : {{post.author}}</small>\n",
    "    <p class=\"mb-1\">{{ post.body }}</p>\n",
    "  \n",
    "  </a>\n",
    "{% endfor %}\n",
    "</div>\n",
    "\n",
    "{% endblock content %}\n",
    "    "
   ]
  },
  {
   "cell_type": "markdown",
   "metadata": {},
   "source": [
    "##### Static Files\n",
    "\n",
    "Now we need to add static files to our project. To do that we will take the following steps:\n",
    "\n",
    "- Make directory called `static`\n",
    "- create the relevant **CSS, Images and Javascript** files inside the static directory\n",
    "- Update the settings.py file in the blog_project directory with the following code\n",
    "- lastly, we will update our `base.html` template to link to our `styles.css` file"
   ]
  },
  {
   "cell_type": "code",
   "execution_count": null,
   "metadata": {
    "vscode": {
     "languageId": "shellscript"
    }
   },
   "outputs": [],
   "source": [
    "# Shell command\n",
    "\n",
    "mkdir static\n",
    "cd Static\n",
    "mkdir css && cd css\n",
    "code base.css"
   ]
  },
  {
   "cell_type": "code",
   "execution_count": null,
   "metadata": {},
   "outputs": [],
   "source": [
    "# django_project/settings.py\n",
    "STATIC_URL = \"/static/\"\n",
    "STATICFILES_DIRS = [BASE_DIR / \"static\"] # new"
   ]
  },
  {
   "cell_type": "markdown",
   "metadata": {},
   "source": [
    "- Lastly, We need to add the static files to our templates by adding `{% load static %}` to\n",
    "the top of base.html. Because our other templates inherit from base.html.\n",
    "-  We only have to add this once. Include a new line at the bottom of the <head></head> code that explicitly references our new base.css file."
   ]
  },
  {
   "cell_type": "markdown",
   "metadata": {},
   "source": [
    "#### Detail Blog Pages\n",
    "Now we can add the functionality for individual blog pages called detail view.\n",
    "\n",
    "To do that? We need to create a new `view, url, and template`. to handle the functionality."
   ]
  },
  {
   "cell_type": "code",
   "execution_count": null,
   "metadata": {},
   "outputs": [],
   "source": [
    "# blog/views.py\n",
    "\n",
    "from django.views.generic import ListView, DetailView # new\n",
    "\n",
    "...\n",
    "class BlogDetailView(DetailView): # new\n",
    "    model = Post\n",
    "    template_name = \"blog/post_detail.html\""
   ]
  },
  {
   "cell_type": "code",
   "execution_count": null,
   "metadata": {
    "vscode": {
     "languageId": "html"
    }
   },
   "outputs": [],
   "source": [
    "<!-- templates/blog/post_detail.html -->\n",
    "\n",
    "{% extends \"base.html\" %}\n",
    "\n",
    "{% block content %}\n",
    "\n",
    "<div>\n",
    "     <!-- About section-->\n",
    "     <section id=\"\">\n",
    "        <div class=\"container px-4\">\n",
    "            <div class=\"row gx-4 justify-content-center\">\n",
    "                <div class=\"col-lg-8\">\n",
    "                    <h2>{{ post.title }}</h2>\n",
    "                    <small>{{post.author}}</small>\n",
    "                    <br>\n",
    "                    <small>{{post.publish}}</small>\n",
    "                    <hr>\n",
    "                    <p class=\"lead\">{{ post.body }}</p>\n",
    "                    \n",
    "                </div>\n",
    "            </div>\n",
    "        </div>\n",
    "    </section>\n",
    "</div>\n",
    "\n",
    "{% endblock content %}"
   ]
  },
  {
   "cell_type": "code",
   "execution_count": null,
   "metadata": {},
   "outputs": [],
   "source": [
    "# blog/urls.py\n",
    "\n",
    "\n",
    "from .views import BlogListView, BlogDetailView # new\n",
    "\n",
    "urlpatterns = [\n",
    "    \n",
    "path(\"post/<int:pk>/\", BlogDetailView.as_view(), name=\"post_detail\"), # new\n",
    "path(\"\", BlogListView.as_view(), name=\"home\"),\n",
    "\n",
    "]\n"
   ]
  },
  {
   "cell_type": "markdown",
   "metadata": {},
   "source": [
    "To make our life easier, we should update the link on the homepage so we can directly access\n",
    "individual blog posts from there.\n",
    "\n",
    "Swap out the current empty link, `<a href=\"\">, for <a href=\"{%url 'post_detail' post.pk %}\">`"
   ]
  },
  {
   "cell_type": "code",
   "execution_count": null,
   "metadata": {
    "vscode": {
     "languageId": "html"
    }
   },
   "outputs": [],
   "source": [
    "<a href=\"{% url 'post_detail' post.pk %}\" class=\"list-group-item list-group-item-action\" aria-current=\"true\">\n",
    "    \n",
    "</a>"
   ]
  },
  {
   "cell_type": "markdown",
   "metadata": {},
   "source": [
    "#### Testing\n",
    "To begin we can set up our test data and check the Post model’s content. Here’s how that might\n",
    "look.\n"
   ]
  },
  {
   "cell_type": "code",
   "execution_count": null,
   "metadata": {},
   "outputs": [],
   "source": [
    "# blog/tests.py\n",
    "from django.contrib.auth import get_user_model\n",
    "from django.test import TestCase\n",
    "from django.urls import reverse # new\n",
    "from .models import Post\n",
    "\n",
    "\n",
    "class BlogTests(TestCase):\n",
    "    \n",
    "    @classmethod\n",
    "    def setUpTestData(cls):\n",
    "        cls.user = get_user_model().objects.create_user(username=\"testuser\", email=\"test@gmail.com\", password=\"secret\")\n",
    "        cls.post = Post.objects.create(title=\"Blog\", body=\"This is a blog\", author=cls.user,)\n",
    "        \n",
    "    def test_post_model(self):\n",
    "        self.assertEqual(self.post.title, \"Blog\")\n",
    "        self.assertEqual(self.post.body, \"This is a blog\")\n",
    "        self.assertEqual(self.post.author.username, \"testuser\")\n",
    "        self.assertEqual(str(self.post), \"Blog\")\n",
    "        self.assertEqual(self.post.get_absolute_url(), \"/post/1/\")\n",
    "        \n",
    "        \n",
    "    def test_url_exists_at_correct_location_listview(self): # new\n",
    "        response = self.client.get(\"/\")\n",
    "        self.assertEqual(response.status_code, 200)\n",
    "        \n",
    "    def test_url_exists_at_correct_location_detailview(self): # new\n",
    "        response = self.client.get(\"/post/1/\")\n",
    "        self.assertEqual(response.status_code, 200)\n",
    "        \n",
    "    def test_post_listview(self): # new\n",
    "        response = self.client.get(reverse(\"home\"))\n",
    "        self.assertEqual(response.status_code, 200)\n",
    "        self.assertContains(response, \"This is a blog\")\n",
    "        self.assertTemplateUsed(response, \"blog/home.html\")\n",
    "        \n",
    "        \n",
    "    def test_post_detailview(self): # new\n",
    "        response = self.client.get(reverse(\"post_detail\", kwargs={\"pk\": self.post.pk}))\n",
    "        no_response = self.client.get(\"/post/100000/\")\n",
    "        self.assertEqual(response.status_code, 200)\n",
    "        self.assertEqual(no_response.status_code, 404)\n",
    "        self.assertContains(response, \"This is a blog\")\n",
    "        self.assertTemplateUsed(response, \"blog/post_detail.html\")"
   ]
  },
  {
   "cell_type": "markdown",
   "metadata": {},
   "source": [
    "#### Initialize with Git\n",
    "Now is also a good time for our first Git commit. First, initialize our directory. Then make a commit and push to origin with the following code\n"
   ]
  },
  {
   "cell_type": "code",
   "execution_count": null,
   "metadata": {
    "vscode": {
     "languageId": "shellscript"
    }
   },
   "outputs": [],
   "source": [
    "git init\n",
    "git status\n",
    "git add -A\n",
    "git commit -m \"initial commit\"\n"
   ]
  },
  {
   "cell_type": "markdown",
   "metadata": {},
   "source": [
    "### Django Forms\n",
    "\n",
    "We will continue to develop our django blog application. We have learnt how to implement a blog listings, detail pages, testing and pushing to Github.\n",
    "\n",
    "Next, we’ll add forms for creating and editing models in the frontend. so we don’t have to use the Django admin at all for these changes.\n",
    "\n",
    "Django comes with powerful built-in Forms that abstract away much of the difficulty for us. Django also comes with generic editing views for common tasks like displaying, creating, updating, or deleting a form."
   ]
  },
  {
   "cell_type": "markdown",
   "metadata": {},
   "source": [
    "##### Steps to Creating a Form in Django (CreateView)\n",
    "Creating a form in django is very simple it follows the same urls, views and template approach we have learnt so far. The steps are listed below:\n",
    "\n",
    "- Firstly, we create a add a new url to the list of `url_pattern` variable in `blog/urls.py` file to handle the form creation request from a user with the given name to be used in the template.\n",
    "- We create our view by importing and inheriting from a new generic class called **CreateView** to help handle the form creation process.\n",
    "- The last step is to create our template called `post_new.html` in the text editor and also update the `base.html` file to capture the form link.\n",
    "\n",
    "So lets dive into code...,"
   ]
  },
  {
   "cell_type": "code",
   "execution_count": null,
   "metadata": {},
   "outputs": [],
   "source": [
    "# blog/urls.py\n",
    "\n",
    "from django.urls import path\n",
    "from .views import BlogListView, BlogDetailView, BlogCreateView # new\n",
    "\n",
    "urlpatterns = [\n",
    "    \n",
    "path(\"post/new/\", BlogCreateView.as_view(), name=\"post_new\"), # new\n",
    "path(\"post/<int:pk>/\", BlogDetailView.as_view(), name=\"post_detail\"),\n",
    "path(\"\", BlogListView.as_view(), name=\"home\"),\n",
    "\n",
    "]\n"
   ]
  },
  {
   "cell_type": "code",
   "execution_count": null,
   "metadata": {},
   "outputs": [],
   "source": [
    "from django.views.generic.edit import CreateView # new\n",
    "\n",
    "class BlogCreateView(CreateView): # new\n",
    "    model = Post\n",
    "    template_name = \"blog/post_new.html\"\n",
    "    fields = [\"title\", \"author\", \"body\"]"
   ]
  },
  {
   "cell_type": "code",
   "execution_count": null,
   "metadata": {
    "vscode": {
     "languageId": "html"
    }
   },
   "outputs": [],
   "source": [
    "<!-- templates/blog/post_new.html -->\n",
    "\n",
    "{% extends \"base.html\" %}\n",
    "\n",
    "{% block content %}\n",
    "\n",
    "<div class=\"container mx-auto w-60\">\n",
    "    <h3>New post</h3>\n",
    "    <form action=\"\" method=\"post\">\n",
    "    {% csrf_token %}\n",
    "    {{ form.as_p }}\n",
    "    <input type=\"submit\" value=\"Save\" class=\"btn-success btn\">\n",
    "    </form>\n",
    "    </div>\n",
    "\n",
    "{% endblock content %}"
   ]
  },
  {
   "cell_type": "markdown",
   "metadata": {},
   "source": [
    "Lastly, update the base.html by uncommenting the link to create a new post."
   ]
  },
  {
   "cell_type": "markdown",
   "metadata": {},
   "source": [
    "##### Django-Crispy-Form\n",
    "\n",
    "Inorder to maake our form look prettier and easy to style we'll rely on a two third party packages.`django-crispy-forms` and ` Bootstrap5 template pack`\n",
    "\n",
    "In the Terminal run the following command for the installations"
   ]
  },
  {
   "cell_type": "code",
   "execution_count": null,
   "metadata": {
    "vscode": {
     "languageId": "shellscript"
    }
   },
   "outputs": [],
   "source": [
    "python -m pip install django-crispy-forms\n",
    "python -m pip install crispy-bootstrap5"
   ]
  },
  {
   "cell_type": "markdown",
   "metadata": {},
   "source": [
    "Next we'll add the packages to our INSTALLED_APPS in the settings.py file"
   ]
  },
  {
   "cell_type": "code",
   "execution_count": null,
   "metadata": {},
   "outputs": [],
   "source": [
    "# blog_project/settings.py\n",
    "\n",
    "\n",
    "INSTALLED_APPS = [\n",
    "\"django.contrib.admin\",\n",
    "\"django.contrib.auth\",\n",
    "\"django.contrib.contenttypes\",\n",
    "\"django.contrib.sessions\",\n",
    "\"django.contrib.messages\",\n",
    "\"django.contrib.staticfiles\",\n",
    "\n",
    "# 3rd Party\n",
    "\"crispy_forms\", # new\n",
    "\"crispy_bootstrap5\", # new\n",
    "\n",
    "# Local\n",
    "\"blog\"\n",
    "\n",
    "]"
   ]
  },
  {
   "cell_type": "markdown",
   "metadata": {},
   "source": [
    "And then at the bottom of the settings.py file add two new lines as well."
   ]
  },
  {
   "cell_type": "code",
   "execution_count": null,
   "metadata": {},
   "outputs": [],
   "source": [
    "# blog_project/settings.py\n",
    "\n",
    "CRISPY_ALLOWED_TEMPLATE_PACKS = \"bootstrap5\" # new\n",
    "CRISPY_TEMPLATE_PACK = \"bootstrap5\" # new"
   ]
  },
  {
   "cell_type": "markdown",
   "metadata": {},
   "source": [
    "Now in our` post_new.html` template we can quickly use crispy forms to make things look prettier.\n",
    "\n",
    "First, we load `crispy_forms_tags` at the top and then swap out `{{ form.as_p }}` for `{{ form|crispy }}`. \n",
    "\n",
    "We’ll also update the **Save** button to be green with the `btn-primary` styling."
   ]
  },
  {
   "cell_type": "code",
   "execution_count": null,
   "metadata": {
    "vscode": {
     "languageId": "html"
    }
   },
   "outputs": [],
   "source": [
    "<!-- templates/blog/post_new.html -->\n",
    "\n",
    "{% extends \"base.html\" %}\n",
    "{% load crispy_forms_tags %}    \n",
    "\n",
    "\n",
    "{% block content %}\n",
    "\n",
    "<h3>New post</h3>\n",
    "<form action=\"\" method=\"post\">\n",
    "{% csrf_token %}\n",
    "{{ form|crispy }}\n",
    "\n",
    "<input type=\"submit\" value=\"Save\" class=\"form-control btn btn-primary\">\n",
    "</form>\n",
    "\n",
    "{% endblock content %}"
   ]
  },
  {
   "cell_type": "markdown",
   "metadata": {},
   "source": [
    "##### Steps to Updating a Form in Django (UpdateView)\n",
    "The process for creating an update form so users can edit blog posts is similar to the create view. \n",
    "\n",
    "We’ll again use a built-in Django class-based generic view, `UpdateView`, and create the requisite\n",
    "***template, url, and view.***\n",
    "\n",
    "To start, let’s add a new link to `post_detail.html` so that the option to edit a blog post appears\n",
    "on an individual blog page.\n",
    "\n",
    "\n",
    "So lets dive into code...,"
   ]
  },
  {
   "cell_type": "code",
   "execution_count": null,
   "metadata": {
    "vscode": {
     "languageId": "html"
    }
   },
   "outputs": [],
   "source": [
    "<!-- templates/blog/post_detail.html -->\n",
    "\n",
    "{% extends \"base.html\" %}\n",
    "{% block content %}\n",
    "\n",
    "<div class=\"post-entry\">\n",
    "<h2>{{ post.title }}</h2>\n",
    "<p>{{ post.body }}</p>\n",
    "</div>\n",
    "\n",
    "<a href=\"{% url 'post_edit' post.pk %}\">+ Edit Blog Post</a>\n",
    "{% endblock content %}"
   ]
  },
  {
   "cell_type": "markdown",
   "metadata": {},
   "source": [
    "Next we create the template file for our edit page called `post_edit.html` and add the following\n",
    "code"
   ]
  },
  {
   "cell_type": "code",
   "execution_count": null,
   "metadata": {
    "vscode": {
     "languageId": "html"
    }
   },
   "outputs": [],
   "source": [
    "<!-- templates/blog/post_edit.html -->\n",
    "\n",
    "{% extends \"base.html\" %}\n",
    "{% block content %}\n",
    "\n",
    "<div class=\"container mx-auto w-50 \"></div>\n",
    "<h3>Edit post</h3>\n",
    "<form action=\"\" method=\"post\">\n",
    "{% csrf_token %}\n",
    "{{form|crispy}}\n",
    "<input type=\"submit\" value=\"Update\" class=\"btn btn-primary\">\n",
    "</form>\n",
    "</div>\n",
    "\n",
    "{% endblock content %}\n"
   ]
  },
  {
   "cell_type": "markdown",
   "metadata": {},
   "source": [
    "Now to our view. We need to import UpdateView on the second-from-the-top line and then\n",
    "subclass it in our new view `BlogUpdateView`"
   ]
  },
  {
   "cell_type": "code",
   "execution_count": null,
   "metadata": {},
   "outputs": [],
   "source": [
    "# blog/views.py\n",
    "\n",
    "from django.views.generic.edit import CreateView, UpdateView # new\n",
    "\n",
    "class BlogUpdateView(UpdateView):           # new\n",
    "    model = Post\n",
    "    template_name = \"blog/post_edit.html\"\n",
    "    fields = [\"title\", \"body\"]\n"
   ]
  },
  {
   "cell_type": "markdown",
   "metadata": {},
   "source": [
    "The final step is to update our `urls.py` file as follows. Add the `BlogUpdateView` up top and then\n",
    "the new route at the top of the existing urlpatterns as follows"
   ]
  },
  {
   "cell_type": "code",
   "execution_count": null,
   "metadata": {},
   "outputs": [],
   "source": [
    "from .views import BlogListView,BlogDetailView,BlogCreateView, BlogUpdateView, #new\n",
    "\n",
    "\n",
    "urlpatterns = [\n",
    "...\n",
    "path(\"post/<int:pk>/edit/\", BlogUpdateView.as_view(), name=\"post_edit\"), # new\n",
    "\n",
    "]"
   ]
  },
  {
   "cell_type": "markdown",
   "metadata": {},
   "source": [
    "##### DeleteView\n",
    "\n",
    "The process for creating a form to delete blog posts is very similar to that for updating a post.\n",
    "\n",
    "We’ll use yet another generic class-based view, `DeleteView`, And then create the necessary view, url, and\n",
    "template.\n",
    "\n",
    "Let’s start by adding a link to delete blog posts on our individual blog page,` post_detail.html`."
   ]
  },
  {
   "cell_type": "code",
   "execution_count": null,
   "metadata": {
    "vscode": {
     "languageId": "html"
    }
   },
   "outputs": [],
   "source": [
    "<!-- templates/blog/post_detail.html -->\n",
    "\n",
    "{% extends \"base.html\" %}\n",
    "{% block content %}\n",
    "\n",
    "<div class=\"\">\n",
    "<h2>{{ post.title }}</h2>\n",
    "<p>{{ post.body }}</p>\n",
    "</div>\n",
    "<p><a href=\"{% url 'post_edit' post.pk %}\">+ Edit Blog Post</a></p>\n",
    "<p><a href=\"{% url 'post_delete' post.pk %}\">+ Delete Blog Post</a></p>\n",
    "\n",
    "{% endblock content %}\n"
   ]
  },
  {
   "cell_type": "markdown",
   "metadata": {},
   "source": [
    "Then create a new file for our delete page template. It will be called templates/blog/post_delete.html\n",
    "and contain the following code:"
   ]
  },
  {
   "cell_type": "code",
   "execution_count": null,
   "metadata": {
    "vscode": {
     "languageId": "html"
    }
   },
   "outputs": [],
   "source": [
    "<!-- templates/blog/post_delete.html -->\n",
    "\n",
    "{% extends \"base.html\" %}\n",
    "{% block content %}\n",
    "\n",
    "<div class=\"container mx-auto w-50 \">\n",
    "    <h3>Delete post</h3>\n",
    "    <form action=\"\" method=\"post\">\n",
    "    {% csrf_token %}\n",
    "    <p class=\"lead\">Are you sure you want to delete \"{{ post.title }}\"?</p>\n",
    "    \n",
    "    <input type=\"submit\" value=\"Confirm\" class=\"btn btn-danger\">\n",
    "    </form>\n",
    "</div>\n",
    "\n",
    "{% endblock content %}"
   ]
  },
  {
   "cell_type": "markdown",
   "metadata": {},
   "source": [
    "Now update the `blog/views.py` file, by importing `DeleteView` and `reverse_lazy` at the top, then\n",
    "create a new view that subclasses `DeleteView`.\n"
   ]
  },
  {
   "cell_type": "code",
   "execution_count": null,
   "metadata": {},
   "outputs": [],
   "source": [
    "# blog/views.py\n",
    "\n",
    "from django.views.generic.edit import CreateView, UpdateView, DeleteView # new\n",
    "from django.urls import reverse_lazy # new\n",
    "\n",
    "\n",
    "...\n",
    "class BlogDeleteView(DeleteView): # new\n",
    "    model = Post\n",
    "    template_name = \"blog/post_delete.html\"\n",
    "    success_url = reverse_lazy(\"home\")"
   ]
  },
  {
   "cell_type": "markdown",
   "metadata": {},
   "source": [
    "As a final step, create a URL by importing our view `BlogDeleteView` and adding a new pattern:\n"
   ]
  },
  {
   "cell_type": "code",
   "execution_count": null,
   "metadata": {},
   "outputs": [],
   "source": [
    "from .views import (\n",
    "BlogListView,\n",
    "BlogDetailView,\n",
    "BlogCreateView,\n",
    "BlogUpdateView,\n",
    "BlogDeleteView, # new\n",
    ")\n",
    "\n",
    "urlpatterns = [\n",
    "    ...\n",
    "    path(\"post/<int:pk>/delete/\", BlogDeleteView.as_view(), name=\"post_delete\"), # new\n",
    "   \n",
    "]"
   ]
  },
  {
   "cell_type": "markdown",
   "metadata": {},
   "source": [
    "#### Pushing to GitHub\n",
    "\n",
    "With a small amount of code we’ve built a Blog application that allows for creating, reading, updating, and deleting blog posts. \n",
    "\n",
    "This core functionality is known by the acronym CRUD: ***Create-Read-Update-Delete***. While there are multiple ways to achieve this same functionality–we could have used function-based views or written our own class-based views–we’ve demonstrated how\n",
    "little code it takes in Django to make this happen.\n",
    "\n",
    "Next is we push our code to GitHub using the following Commands and the desktop interface."
   ]
  },
  {
   "cell_type": "code",
   "execution_count": null,
   "metadata": {
    "vscode": {
     "languageId": "shellscript"
    }
   },
   "outputs": [],
   "source": [
    "\n",
    "git status\n",
    "git add .\n",
    "git commit -m \"added crud functionality\"\n"
   ]
  },
  {
   "cell_type": "markdown",
   "metadata": {},
   "source": [
    "### Django Authentication\n",
    "So far we’ve built a working blog application with forms but we’re missing a major piece of most\n",
    "web applications: user authentication.\n",
    "\n",
    "Implementing proper user authentication is famously hard; there are many security gotchas\n",
    "along the way so you really don’t want to implement this yourself.\n",
    "\n",
    "Fortunately, Django comes with a powerful, built-in user authentication system that we can use and customize as needed.\n",
    "\n",
    "Whenever you create a new project, by default Django installs the `auth app`, which provides us\n",
    "with a User object99 containing:\n",
    "\n",
    "- username\n",
    "- password\n",
    "- email\n",
    "- first_name\n",
    "- last_name\n",
    "\n",
    "We will use this User object to implement log in, log out, and sign up in our blog application"
   ]
  },
  {
   "cell_type": "markdown",
   "metadata": {},
   "source": [
    "Django provides us with a default view for a log in page via `LoginView`. \n",
    "\n",
    "All we need to add a URL pattern for the auth system, a log in template, and a small update to our\n",
    "`blog_project/settings.py` file.\n",
    "\n",
    "First, update the `django_project/urls.py` file. We’ll place our log in and log out pages at the\n",
    "`accounts/ URL`. This is a one-line addition on the next-to-last line"
   ]
  },
  {
   "cell_type": "code",
   "execution_count": null,
   "metadata": {},
   "outputs": [],
   "source": [
    "# django_project/urls.py\n",
    "from django.contrib import admin\n",
    "from django.urls import path, include\n",
    "\n",
    "\n",
    "urlpatterns = [\n",
    "...\n",
    "path(\"accounts/\", include(\"django.contrib.auth.urls\")), # new\n",
    "..\n",
    "]\n"
   ]
  },
  {
   "cell_type": "markdown",
   "metadata": {},
   "source": [
    "Next Let's make our login page! By default, Django will look within a templates folder called `registration` for auth templates. The login template is called `login.html`."
   ]
  },
  {
   "cell_type": "code",
   "execution_count": null,
   "metadata": {
    "vscode": {
     "languageId": "shellscript"
    }
   },
   "outputs": [],
   "source": [
    "mkdir templates/registration\n",
    "cd registration\n",
    "ni login.html\n",
    "ni signup.html"
   ]
  },
  {
   "cell_type": "markdown",
   "metadata": {},
   "source": [
    "Then we include the following code in the `login.html` file"
   ]
  },
  {
   "cell_type": "code",
   "execution_count": null,
   "metadata": {
    "vscode": {
     "languageId": "html"
    }
   },
   "outputs": [],
   "source": [
    "{% extends \"base.html\" %}\n",
    "{% load crispy_forms_tags %}\n",
    "\n",
    "{% block content %}\n",
    "<div class=\"container mx-auto w-50 \">\n",
    "<h3>Log In</h3>\n",
    "<form method=\"post\">\n",
    "  {% csrf_token %}\n",
    "  {{ form|crispy }}\n",
    "  <button type=\"submit\" class=\"btn btn-primary\">Log In</button>\n",
    "</form>\n",
    "</div>\n",
    "{% endblock content %}"
   ]
  },
  {
   "cell_type": "markdown",
   "metadata": {},
   "source": [
    "#### Log Out Button\n",
    "\n",
    "Now we add a `Logout` button to the `base.html` file  under the `<ul>` section. We will update the file using the following code "
   ]
  },
  {
   "cell_type": "code",
   "execution_count": null,
   "metadata": {
    "vscode": {
     "languageId": "html"
    }
   },
   "outputs": [],
   "source": [
    "{% if user.is_authenticated %}\n",
    "                    \n",
    "<div class=\"d-flex text-light mx-3\">\n",
    "    Hi {{ user.username }}!\n",
    "</div>\n",
    "<div class=\"d-flex text-light mx-3\">\n",
    "    <a href=\"{% url 'post_new' %}\">+ New Blog Post</a>\n",
    "</div> \n",
    "</div>\n",
    "<form action=\"{% url 'logout' %}\" method=\"post\" class=\"d-flex\">\n",
    "{% csrf_token %}\n",
    "<button class=\"btn btn-outline-danger mt-3\" type=\"submit\">Log Out</button>\n",
    "</form>\n",
    "{% else %}\n",
    "<a href=\"{% url 'login' %}\" class=\"btn btn-primary mt-3\">Log In</a>\n",
    "{% endif %}"
   ]
  },
  {
   "cell_type": "markdown",
   "metadata": {},
   "source": [
    "Then update `settings.py` with our redirect link, `LOGIN_REDIRECT_URL` and `LOGOUT_REDIRECT_URL`. Add it right next to our login redirect so the bottom of the settings.py file should look as follows:"
   ]
  },
  {
   "cell_type": "code",
   "execution_count": null,
   "metadata": {},
   "outputs": [],
   "source": [
    "LOGIN_REDIRECT_URL = \"home\"  # new\n",
    "LOGOUT_REDIRECT_URL = \"home\"  "
   ]
  },
  {
   "cell_type": "markdown",
   "metadata": {},
   "source": [
    "#### Sign Up Page\n",
    "\n",
    "Now that we have sorted out logging in and logging out, it is time to add a signup page to our basic Django site. If you recall, Django does not provide a built-in view or URL for this, so we must code up the form and the page ourselves.\n",
    "\n",
    "To begin, stop the local webserver with Control+c and create a dedicated app called `accounts`, which we'll use for our custom account logic."
   ]
  },
  {
   "cell_type": "code",
   "execution_count": null,
   "metadata": {
    "vscode": {
     "languageId": "shellscript"
    }
   },
   "outputs": [],
   "source": [
    "python manage.py startapp accounts"
   ]
  },
  {
   "cell_type": "markdown",
   "metadata": {},
   "source": [
    "Make sure to add the new app to the `INSTALLED_APPS` setting in the blog_project/settings.py file:"
   ]
  },
  {
   "cell_type": "code",
   "execution_count": null,
   "metadata": {},
   "outputs": [],
   "source": [
    "# django_project/settings.py\n",
    "\n",
    "INSTALLED_APPS = [\n",
    "    \"django.contrib.admin\",\n",
    "    \"django.contrib.auth\",\n",
    "    \"django.contrib.contenttypes\",\n",
    "    \"django.contrib.sessions\",\n",
    "    \"django.contrib.messages\",\n",
    "    \"django.contrib.staticfiles\",\n",
    "    \"accounts\",  # new\n",
    "]"
   ]
  },
  {
   "cell_type": "markdown",
   "metadata": {},
   "source": [
    "Then add a URL path in `blog_project/urls.py` that is above our included Django auth app. The order is important here because Django looks for URL patterns from top-to-bottom."
   ]
  },
  {
   "cell_type": "code",
   "execution_count": null,
   "metadata": {},
   "outputs": [],
   "source": [
    "# blog_project/urls.py\n",
    "from django.contrib import admin\n",
    "from django.urls import path, include\n",
    "\n",
    "urlpatterns = [\n",
    "    path(\"admin/\", admin.site.urls),\n",
    "    path(\"accounts/\", include(\"accounts.urls\")),  # new\n",
    "    path(\"accounts/\", include(\"django.contrib.auth.urls\")),\n",
    "    \n",
    "]"
   ]
  },
  {
   "cell_type": "markdown",
   "metadata": {},
   "source": [
    "Next, we create a new file called `accounts/urls.py` with your text editor and add the following code."
   ]
  },
  {
   "cell_type": "code",
   "execution_count": null,
   "metadata": {},
   "outputs": [],
   "source": [
    "# accounts/urls.py\n",
    "from django.urls import path\n",
    "\n",
    "from .views import SignUpView\n",
    "\n",
    "\n",
    "urlpatterns = [\n",
    "    path(\"signup/\", SignUpView.as_view(), name=\"signup\"),\n",
    "]"
   ]
  },
  {
   "cell_type": "markdown",
   "metadata": {},
   "source": [
    "Now for the accounts/views.py file:"
   ]
  },
  {
   "cell_type": "code",
   "execution_count": null,
   "metadata": {},
   "outputs": [],
   "source": [
    "# accounts/views.py\n",
    "from django.contrib.auth.forms import UserCreationForm\n",
    "from django.urls import reverse_lazy\n",
    "from django.views.generic import CreateView\n",
    "\n",
    "\n",
    "class SignUpView(CreateView):\n",
    "    form_class = UserCreationForm\n",
    "    success_url = reverse_lazy(\"login\")\n",
    "    template_name = \"registration/signup.html\""
   ]
  },
  {
   "cell_type": "markdown",
   "metadata": {},
   "source": [
    "Ok, now for the final step. Create a new template, `templates/registration/signup.html`, and populate it with this code that looks almost exactly like what we used for login.html."
   ]
  },
  {
   "cell_type": "code",
   "execution_count": null,
   "metadata": {
    "vscode": {
     "languageId": "html"
    }
   },
   "outputs": [],
   "source": [
    "<!-- templates/registration/signup.html -->\n",
    "{% extends \"base.html\" %}\n",
    "{% load crispy_forms_tags %}\n",
    "\n",
    "\n",
    "{% block content %}\n",
    "<div class=\"container mx-auto w-50 \">\n",
    "<h3>Sign Up</h3>\n",
    "<form method=\"post\">\n",
    "  {% csrf_token %}\n",
    "  {{ form|crispy }}\n",
    "  <button type=\"submit\" class=\"btn btn-primary\">Sign Up</button>\n",
    "</form>\n",
    "</div>\n",
    "{% endblock %}\n",
    "\n"
   ]
  },
  {
   "cell_type": "markdown",
   "metadata": {},
   "source": [
    "We're done! To confirm it all works, spin up our local server with python manage.py runserver and navigate to http://127.0.0.1:8000/accounts/signup/.\n",
    "\n",
    "##### SignUp link\n",
    "Add the link for ***Sign Up*** just below the existing link for “Log In” as follows:"
   ]
  },
  {
   "cell_type": "code",
   "execution_count": null,
   "metadata": {
    "vscode": {
     "languageId": "html"
    }
   },
   "outputs": [],
   "source": [
    "...\n",
    "{% else %}\n",
    "<a href=\"{% url 'login' %}\" class=\"btn btn-primary mt-3\">Log In</a>\n",
    "<a href=\"{% url 'signup' %}\">Sign Up</a>\n",
    "{% endif %}\n"
   ]
  }
 ],
 "metadata": {
  "kernelspec": {
   "display_name": "base",
   "language": "python",
   "name": "python3"
  },
  "language_info": {
   "codemirror_mode": {
    "name": "ipython",
    "version": 3
   },
   "file_extension": ".py",
   "mimetype": "text/x-python",
   "name": "python",
   "nbconvert_exporter": "python",
   "pygments_lexer": "ipython3",
   "version": "3.12.2"
  }
 },
 "nbformat": 4,
 "nbformat_minor": 2
}
